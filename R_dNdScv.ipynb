{
  "nbformat": 4,
  "nbformat_minor": 0,
  "metadata": {
    "colab": {
      "provenance": [],
      "authorship_tag": "ABX9TyNlOALVO95cBe4Dtcp3P9Rg",
      "include_colab_link": true
    },
    "kernelspec": {
      "name": "ir",
      "display_name": "R"
    },
    "language_info": {
      "name": "R"
    }
  },
  "cells": [
    {
      "cell_type": "markdown",
      "metadata": {
        "id": "view-in-github",
        "colab_type": "text"
      },
      "source": [
        "<a href=\"https://colab.research.google.com/github/anl078/ECE204Repo/blob/Solana/R_dNdScv.ipynb\" target=\"_parent\"><img src=\"https://colab.research.google.com/assets/colab-badge.svg\" alt=\"Open In Colab\"/></a>"
      ]
    },
    {
      "cell_type": "code",
      "execution_count": 1,
      "metadata": {
        "id": "ysgaDFsi8IUa",
        "colab": {
          "base_uri": "https://localhost:8080/"
        },
        "collapsed": true,
        "outputId": "50637693-e17c-457d-fcea-508ea09a0655"
      },
      "outputs": [
        {
          "output_type": "stream",
          "name": "stderr",
          "text": [
            "Installing package into ‘/usr/local/lib/R/site-library’\n",
            "(as ‘lib’ is unspecified)\n",
            "\n",
            "'getOption(\"repos\")' replaces Bioconductor standard repositories, see\n",
            "'help(\"repositories\", package = \"BiocManager\")' for details.\n",
            "Replacement repositories:\n",
            "    CRAN: https://cran.rstudio.com\n",
            "\n",
            "Bioconductor version 3.21 (BiocManager 1.30.25), R 4.5.0 (2025-04-11)\n",
            "\n",
            "Warning message:\n",
            "“package(s) not installed when version(s) same as or greater than current; use\n",
            "  `force = TRUE` to re-install: 'Rcpp' 'dplyr' 'ggplot2' 'data.table'\n",
            "  'magrittr'”\n",
            "Installing package(s) 'BiocVersion'\n",
            "\n",
            "Old packages: 'systemfonts', 'textshaping', 'utf8'\n",
            "\n",
            "Loading required package: usethis\n",
            "\n",
            "Downloading GitHub repo im3sanger/dndscv@HEAD\n",
            "\n"
          ]
        },
        {
          "output_type": "stream",
          "name": "stdout",
          "text": [
            "formatR      (NA -> 1.14    ) [CRAN]\n",
            "futile.op... (NA -> 1.0.1   ) [CRAN]\n",
            "lambda.r     (NA -> 1.2.4   ) [CRAN]\n",
            "BH           (NA -> 1.87.0-1) [CRAN]\n",
            "snow         (NA -> 0.4-4   ) [CRAN]\n",
            "futile.lo... (NA -> 1.4.3   ) [CRAN]\n",
            "IRanges      (NA -> 2.42.0  ) [CRAN]\n",
            "S4Vectors    (NA -> 0.46.0  ) [CRAN]\n",
            "BiocGenerics (NA -> 0.54.0  ) [CRAN]\n",
            "GenomeInf... (NA -> 1.2.14  ) [CRAN]\n",
            "UCSC.utils   (NA -> 1.4.0   ) [CRAN]\n",
            "GenomeInfoDb (NA -> 1.44.0  ) [CRAN]\n",
            "XVector      (NA -> 0.48.0  ) [CRAN]\n",
            "RcppArmad... (NA -> 14.4.2-1) [CRAN]\n",
            "sp           (NA -> 2.2-0   ) [CRAN]\n",
            "pixmap       (NA -> 0.4-13  ) [CRAN]\n",
            "Rhtslib      (NA -> 3.4.0   ) [CRAN]\n",
            "BiocParallel (NA -> 1.42.0  ) [CRAN]\n",
            "bitops       (NA -> 1.0-9   ) [CRAN]\n",
            "Biostrings   (NA -> 2.76.0  ) [CRAN]\n",
            "GenomicRa... (NA -> 1.60.0  ) [CRAN]\n",
            "segmented    (NA -> 2.1-4   ) [CRAN]\n",
            "ade4         (NA -> 1.7-23  ) [CRAN]\n",
            "plyr         (NA -> 1.8.9   ) [CRAN]\n",
            "poilog       (NA -> 0.4.2.1 ) [CRAN]\n",
            "Rsamtools    (NA -> 2.24.0  ) [CRAN]\n",
            "seqinr       (NA -> 4.2-36  ) [CRAN]\n"
          ]
        },
        {
          "output_type": "stream",
          "name": "stderr",
          "text": [
            "Installing 27 packages: formatR, futile.options, lambda.r, BH, snow, futile.logger, IRanges, S4Vectors, BiocGenerics, GenomeInfoDbData, UCSC.utils, GenomeInfoDb, XVector, RcppArmadillo, sp, pixmap, Rhtslib, BiocParallel, bitops, Biostrings, GenomicRanges, segmented, ade4, plyr, poilog, Rsamtools, seqinr\n",
            "\n",
            "Installing packages into ‘/usr/local/lib/R/site-library’\n",
            "(as ‘lib’ is unspecified)\n",
            "\n"
          ]
        },
        {
          "output_type": "stream",
          "name": "stdout",
          "text": [
            "\u001b[36m──\u001b[39m \u001b[36mR CMD build\u001b[39m \u001b[36m─────────────────────────────────────────────────────────────────\u001b[39m\n",
            "* checking for file ‘/tmp/RtmpiZ7Ge9/remotes2a2abe815c/im3sanger-dndscv-dab351a/DESCRIPTION’ ... OK\n",
            "* preparing ‘dndscv’:\n",
            "* checking DESCRIPTION meta-information ... OK\n",
            "* checking for LF line-endings in source and make files and shell scripts\n",
            "* checking for empty or unneeded directories\n",
            "* looking to see if a ‘data/datalist’ file should be added\n",
            "  NB: this package now depends on R (>= 3.5.0)\n",
            "  WARNING: Added dependency on R >= 3.5.0 because serialized objects in\n",
            "  serialize/load version 3 cannot be read in older versions of R.\n",
            "  File(s) containing such objects:\n",
            "    ‘dndscv/data/covariates_hg19_chrx.rda’\n",
            "* building ‘dndscv_0.0.1.0.tar.gz’\n",
            "\n"
          ]
        },
        {
          "output_type": "stream",
          "name": "stderr",
          "text": [
            "Installing package into ‘/usr/local/lib/R/site-library’\n",
            "(as ‘lib’ is unspecified)\n",
            "\n",
            "Warning message:\n",
            "“replacing previous import ‘Biostrings::translate’ by ‘seqinr::translate’ when loading ‘dndscv’”\n",
            "\n",
            "Attaching package: ‘dplyr’\n",
            "\n",
            "\n",
            "The following objects are masked from ‘package:stats’:\n",
            "\n",
            "    filter, lag\n",
            "\n",
            "\n",
            "The following objects are masked from ‘package:base’:\n",
            "\n",
            "    intersect, setdiff, setequal, union\n",
            "\n",
            "\n",
            "\n",
            "Attaching package: ‘data.table’\n",
            "\n",
            "\n",
            "The following objects are masked from ‘package:dplyr’:\n",
            "\n",
            "    between, first, last\n",
            "\n",
            "\n"
          ]
        }
      ],
      "source": [
        "if (!requireNamespace(\"BiocManager\", quietly = TRUE)) {\n",
        "  install.packages(\"BiocManager\")\n",
        "}\n",
        "\n",
        "# Install required dependencies using Bioconductor\n",
        "BiocManager::install(c(\"Rcpp\", \"dplyr\", \"ggplot2\", \"data.table\", \"magrittr\"))\n",
        "\n",
        "library(devtools); install_github(\"im3sanger/dndscv\")\n",
        "library(dndscv)\n",
        "library(dplyr)\n",
        "library(magrittr)\n",
        "library(ggplot2)\n",
        "library(Rcpp)\n",
        "library(data.table)"
      ]
    },
    {
      "cell_type": "code",
      "source": [
        "### READ MUTATION DATA ###\n",
        "df <- read.table(\"TCGA.STAD.mutations.txt\", header=TRUE, sep=\"\\t\")\n",
        "\n",
        "### PREPROCESSING ###\n",
        "\n",
        "## Remove hypermutators (top 1% by mutation count)\n",
        "mutation_counts <- df %>%\n",
        "  count(patient_id, name = \"mut_count\")\n",
        "\n",
        "cutoff <- quantile(mutation_counts$mut_count, 0.99)\n",
        "\n",
        "reg_mutaters <- df %>%\n",
        "  inner_join(mutation_counts, by = \"patient_id\") %>%\n",
        "  filter(mut_count <= cutoff) %>%\n",
        "  select(-mut_count)\n",
        "\n",
        "# Remove genes with less than 10 mutations\n",
        "filtered_mutations <- reg_mutaters %>%\n",
        "  filter(!is.na(Hugo_Symbol)) %>%\n",
        "  group_by(Hugo_Symbol) %>%\n",
        "  filter(n() >= 10) %>%\n",
        "  ungroup()\n",
        "\n",
        "# Only keep SNP\n",
        "filtered_mutations <- filtered_mutations %>%\n",
        "  filter(VARIANT_CLASS == \"SNV\")\n",
        "\n",
        "## Retain pertinent columns\n",
        "filtered_mutations <- filtered_mutations[c(\"patient_id\",\"Hugo_Symbol\",\"Chromosome\", \"Start_Position\",\"Reference_Allele\", \"Tumor_Seq_Allele1\",\"Tumor_Seq_Allele2\")]\n",
        "\n",
        "# Clean up: only keep the allele with the mutatation\n",
        "dndscv_data <- filtered_mutations %>%\n",
        "  mutate(\n",
        "    mut = case_when(\n",
        "      Tumor_Seq_Allele1 != Reference_Allele & !is.na(Tumor_Seq_Allele1) ~ Tumor_Seq_Allele1,\n",
        "      Tumor_Seq_Allele2 != Reference_Allele & !is.na(Tumor_Seq_Allele2) ~ Tumor_Seq_Allele2,\n",
        "      TRUE ~ NA_character_\n",
        "    ),\n",
        "    chr = as.character(Chromosome),  # Ensure chromosome is a character type\n",
        "    pos = Start_Position,\n",
        "    ref = Reference_Allele,\n",
        "  ) %>%\n",
        "  select(sampleID = patient_id, chr, pos, ref, mut)\n",
        "\n",
        "write.table(dndscv_data, file = \"dndscv_data.tsv\", sep = \"\\t\", row.names = FALSE, quote = FALSE) # save input df"
      ],
      "metadata": {
        "colab": {
          "base_uri": "https://localhost:8080/"
        },
        "id": "jbfk_PJV-DDT",
        "outputId": "427cba23-6609-420a-d5c9-178295d1baeb"
      },
      "execution_count": 3,
      "outputs": [
        {
          "output_type": "stream",
          "name": "stderr",
          "text": [
            "Warning message in scan(file = file, what = what, sep = sep, quote = quote, dec = dec, :\n",
            "“number of items read is not a multiple of the number of columns”\n"
          ]
        }
      ]
    },
    {
      "cell_type": "code",
      "source": [
        "### RUN dNdScv\n",
        "data(\"dataset_simbreast\", package=\"dndscv\")\n",
        "dndsout = dndscv(dndscv_data)"
      ],
      "metadata": {
        "colab": {
          "base_uri": "https://localhost:8080/"
        },
        "collapsed": true,
        "id": "EBs12zm1-H0f",
        "outputId": "4df10002-32a8-4176-ec9f-ac0ce11a7a0d"
      },
      "execution_count": 4,
      "outputs": [
        {
          "output_type": "stream",
          "name": "stderr",
          "text": [
            "[1] Loading the environment...\n",
            "\n",
            "[2] Annotating the mutations...\n",
            "\n",
            "Warning message in dndscv(dndscv_data):\n",
            "“Same mutations observed in different sampleIDs. Please verify that these are independent events and remove duplicates otherwise.”\n",
            "    Note: 22 mutations removed for exceeding the limit of mutations per gene per sample (see the max_muts_per_gene_per_sample argument in dndscv)\n",
            "\n",
            "[3] Estimating global rates...\n",
            "\n",
            "[4] Running dNdSloc...\n",
            "\n",
            "[5] Running dNdScv...\n",
            "\n",
            "Warning message in theta.ml(Y, mu, sum(w), w, limit = control$maxit, trace = control$trace > :\n",
            "“iteration limit reached”\n",
            "Warning message in sqrt(1/i):\n",
            "“NaNs produced”\n",
            "Warning message in theta.ml(Y, mu, sum(w), w, limit = control$maxit, trace = control$trace > :\n",
            "“iteration limit reached”\n",
            "Warning message in sqrt(1/i):\n",
            "“NaNs produced”\n",
            "    Regression model for substitutions (theta = 8.14e+03).\n",
            "\n"
          ]
        }
      ]
    },
    {
      "cell_type": "code",
      "source": [
        "sel_cv = dndsout$sel_cv\n",
        "print(head(sel_cv), digits = 2)"
      ],
      "metadata": {
        "colab": {
          "base_uri": "https://localhost:8080/"
        },
        "id": "7J9nh1uuCH-Z",
        "outputId": "610d086a-a903-4e08-fd35-8d2fe3eaaa6e"
      },
      "execution_count": 5,
      "outputs": [
        {
          "output_type": "stream",
          "name": "stdout",
          "text": [
            "      gene_name n_syn n_mis n_non n_spl wmis_cv wnon_cv wspl_cv pmis_cv\n",
            "18057      TP53     0     7     3     1    1561    9494    9494       0\n",
            "9768      LRP1B     4    10     1     1     237     407     407       0\n",
            "6584        FLG     1    12     1     0     295     277     277       0\n",
            "18453       TTN     8    24     0     0      71       0       0       0\n",
            "10901     MUC16     5    17     0     0     139       0       0       0\n",
            "6346       FAT4     4    13     0     0     265       0       0       0\n",
            "      ptrunc_cv pallsubs_cv qmis_cv qtrunc_cv qallsubs_cv\n",
            "18057   6.7e-16           0       0   1.3e-11           0\n",
            "9768    7.6e-06           0       0   4.4e-02           0\n",
            "6584    2.4e-03           0       0   1.0e+00           0\n",
            "18453   8.0e-01           0       0   1.0e+00           0\n",
            "10901   9.1e-01           0       0   1.0e+00           0\n",
            "6346    9.4e-01           0       0   1.0e+00           0\n"
          ]
        }
      ]
    },
    {
      "cell_type": "markdown",
      "source": [
        "Note that no gene has enough truncating and splice site mutations to fit the 3-parameter model that generates qglobal_cv (due to input of SNV only). We use qallsubs_cv (FDR-adjusted p-value for all nonsynonymous mutations) to rank genes."
      ],
      "metadata": {
        "id": "Y-1GsZL74FvT"
      }
    },
    {
      "cell_type": "code",
      "source": [
        "results <- top_n(sel_cv,-30,qallsubs_cv)\n",
        "# top_drivers <- top_n(results,10,pglobal_cv) # breaking tie with p-value if ties with q\n",
        "# top_drivers <- top_n(top_drivers,10,n_ind) # breaking tie with number of\n",
        "\n",
        "results$percentage_samples <- sapply(\n",
        "  results$gene_name,\n",
        "  function(gene) {\n",
        "    length(unique(filtered_mutations$patient_id[filtered_mutations$Hugo_Symbol == gene])) / # number of mutations for a gene\n",
        "      length(unique(filtered_mutations$patient_id)) # total number mutations (after filtering ofc)\n",
        "  }\n",
        ")\n",
        "\n",
        "write.table(results, file = \"dndscv_package_drivers.tsv\", sep = \"\\t\", row.names = FALSE, quote = FALSE)\n",
        "\n",
        "results"
      ],
      "metadata": {
        "colab": {
          "base_uri": "https://localhost:8080/",
          "height": 1000
        },
        "id": "YaEE-ET9dfEM",
        "outputId": "786b0b1b-f07c-4207-d1e3-a8595827d095"
      },
      "execution_count": 15,
      "outputs": [
        {
          "output_type": "display_data",
          "data": {
            "text/html": [
              "<table class=\"dataframe\">\n",
              "<caption>A data.frame: 20091 × 15</caption>\n",
              "<thead>\n",
              "\t<tr><th scope=col>gene_name</th><th scope=col>n_syn</th><th scope=col>n_mis</th><th scope=col>n_non</th><th scope=col>n_spl</th><th scope=col>wmis_cv</th><th scope=col>wnon_cv</th><th scope=col>wspl_cv</th><th scope=col>pmis_cv</th><th scope=col>ptrunc_cv</th><th scope=col>pallsubs_cv</th><th scope=col>qmis_cv</th><th scope=col>qtrunc_cv</th><th scope=col>qallsubs_cv</th><th scope=col>percentage_samples</th></tr>\n",
              "\t<tr><th scope=col>&lt;chr&gt;</th><th scope=col>&lt;dbl&gt;</th><th scope=col>&lt;dbl&gt;</th><th scope=col>&lt;dbl&gt;</th><th scope=col>&lt;dbl&gt;</th><th scope=col>&lt;dbl&gt;</th><th scope=col>&lt;dbl&gt;</th><th scope=col>&lt;dbl&gt;</th><th scope=col>&lt;dbl&gt;</th><th scope=col>&lt;dbl&gt;</th><th scope=col>&lt;dbl&gt;</th><th scope=col>&lt;dbl&gt;</th><th scope=col>&lt;dbl&gt;</th><th scope=col>&lt;dbl&gt;</th><th scope=col>&lt;dbl&gt;</th></tr>\n",
              "</thead>\n",
              "<tbody>\n",
              "\t<tr><td>TP53    </td><td>0</td><td> 7</td><td>3</td><td>1</td><td>1560.63841</td><td>9493.6594</td><td>9493.6594</td><td>0.000000e+00</td><td>6.661338e-16</td><td>0.000000e+00</td><td>0.000000e+00</td><td>1.338329e-11</td><td>0.000000e+00</td><td>0.2631579</td></tr>\n",
              "\t<tr><td>LRP1B   </td><td>4</td><td>10</td><td>1</td><td>1</td><td> 236.83257</td><td> 407.3807</td><td> 407.3807</td><td>0.000000e+00</td><td>7.550975e-06</td><td>0.000000e+00</td><td>0.000000e+00</td><td>4.403099e-02</td><td>0.000000e+00</td><td>0.2105263</td></tr>\n",
              "\t<tr><td>FLG     </td><td>1</td><td>12</td><td>1</td><td>0</td><td> 294.68043</td><td> 276.6120</td><td> 276.6120</td><td>0.000000e+00</td><td>2.351947e-03</td><td>0.000000e+00</td><td>0.000000e+00</td><td>9.973377e-01</td><td>0.000000e+00</td><td>0.2368421</td></tr>\n",
              "\t<tr><td>TTN     </td><td>8</td><td>24</td><td>0</td><td>0</td><td>  71.33003</td><td>   0.0000</td><td>   0.0000</td><td>0.000000e+00</td><td>8.004183e-01</td><td>0.000000e+00</td><td>0.000000e+00</td><td>9.973377e-01</td><td>0.000000e+00</td><td>0.3947368</td></tr>\n",
              "\t<tr><td>MUC16   </td><td>5</td><td>17</td><td>0</td><td>0</td><td> 139.00742</td><td>   0.0000</td><td>   0.0000</td><td>0.000000e+00</td><td>9.114424e-01</td><td>0.000000e+00</td><td>0.000000e+00</td><td>9.973377e-01</td><td>0.000000e+00</td><td>0.4210526</td></tr>\n",
              "\t<tr><td>FAT4    </td><td>4</td><td>13</td><td>0</td><td>0</td><td> 264.77080</td><td>   0.0000</td><td>   0.0000</td><td>0.000000e+00</td><td>9.408534e-01</td><td>0.000000e+00</td><td>0.000000e+00</td><td>9.973377e-01</td><td>0.000000e+00</td><td>0.3157895</td></tr>\n",
              "\t<tr><td>RNF213  </td><td>1</td><td> 8</td><td>0</td><td>1</td><td> 135.33323</td><td> 232.8934</td><td> 232.8934</td><td>2.442491e-15</td><td>2.836711e-03</td><td>3.330669e-16</td><td>4.907208e-12</td><td>9.973377e-01</td><td>9.559496e-13</td><td>0.1842105</td></tr>\n",
              "\t<tr><td>DNAH9   </td><td>1</td><td> 8</td><td>0</td><td>0</td><td> 173.34333</td><td>   0.0000</td><td>   0.0000</td><td>3.330669e-16</td><td>9.266185e-01</td><td>3.441691e-15</td><td>8.364559e-13</td><td>9.973377e-01</td><td>8.426519e-12</td><td>0.2105263</td></tr>\n",
              "\t<tr><td>FAT3    </td><td>1</td><td> 8</td><td>0</td><td>0</td><td> 171.55724</td><td>   0.0000</td><td>   0.0000</td><td>3.330669e-16</td><td>9.411749e-01</td><td>3.774758e-15</td><td>8.364559e-13</td><td>9.973377e-01</td><td>8.426519e-12</td><td>0.2105263</td></tr>\n",
              "\t<tr><td>DNAH5   </td><td>1</td><td> 8</td><td>0</td><td>0</td><td> 169.04180</td><td>   0.0000</td><td>   0.0000</td><td>4.440892e-16</td><td>9.197308e-01</td><td>4.218847e-15</td><td>9.913551e-13</td><td>9.973377e-01</td><td>8.476086e-12</td><td>0.2105263</td></tr>\n",
              "\t<tr><td>AHNAK2  </td><td>4</td><td> 8</td><td>0</td><td>0</td><td> 128.99929</td><td>   0.0000</td><td>   0.0000</td><td>3.663736e-15</td><td>9.448541e-01</td><td>3.663736e-14</td><td>6.691647e-12</td><td>9.973377e-01</td><td>6.691647e-11</td><td>0.1842105</td></tr>\n",
              "\t<tr><td>OBSCN   </td><td>8</td><td> 9</td><td>0</td><td>0</td><td>  76.66128</td><td>   0.0000</td><td>   0.0000</td><td>7.993606e-15</td><td>9.052653e-01</td><td>7.860379e-14</td><td>1.338329e-11</td><td>9.973377e-01</td><td>1.316024e-10</td><td>0.2894737</td></tr>\n",
              "\t<tr><td>DNAH11  </td><td>1</td><td> 5</td><td>1</td><td>1</td><td> 112.68714</td><td> 379.2657</td><td> 379.2657</td><td>9.964249e-10</td><td>8.766310e-06</td><td>4.004574e-13</td><td>1.177598e-06</td><td>4.403099e-02</td><td>6.188916e-10</td><td>0.1842105</td></tr>\n",
              "\t<tr><td>KIAA1109</td><td>3</td><td> 7</td><td>0</td><td>0</td><td> 155.45534</td><td>   0.0000</td><td>   0.0000</td><td>4.996004e-14</td><td>9.152872e-01</td><td>4.765077e-13</td><td>7.721131e-11</td><td>9.973377e-01</td><td>6.838226e-10</td><td>0.1842105</td></tr>\n",
              "\t<tr><td>ARID1A  </td><td>1</td><td> 0</td><td>4</td><td>0</td><td>   0.00000</td><td>2079.2947</td><td>2079.2947</td><td>8.209532e-01</td><td>3.137490e-13</td><td>2.844280e-12</td><td>9.834822e-01</td><td>3.151766e-09</td><td>3.809629e-09</td><td>0.1052632</td></tr>\n",
              "\t<tr><td>SORCS1  </td><td>3</td><td> 5</td><td>0</td><td>0</td><td> 373.84821</td><td>   0.0000</td><td>   0.0000</td><td>2.239320e-12</td><td>9.572739e-01</td><td>2.005518e-11</td><td>3.213584e-09</td><td>9.973377e-01</td><td>2.518304e-08</td><td>0.1578947</td></tr>\n",
              "\t<tr><td>SYNE1   </td><td>4</td><td> 7</td><td>0</td><td>0</td><td>  83.18982</td><td>   0.0000</td><td>   0.0000</td><td>4.137579e-12</td><td>8.837996e-01</td><td>3.627931e-11</td><td>5.541874e-09</td><td>9.973377e-01</td><td>4.287575e-08</td><td>0.1842105</td></tr>\n",
              "\t<tr><td>PCLO    </td><td>3</td><td> 6</td><td>0</td><td>0</td><td> 132.47549</td><td>   0.0000</td><td>   0.0000</td><td>8.176348e-12</td><td>9.249037e-01</td><td>7.117029e-11</td><td>1.026694e-08</td><td>9.973377e-01</td><td>7.943791e-08</td><td>0.1315789</td></tr>\n",
              "\t<tr><td>HMCN1   </td><td>2</td><td> 5</td><td>1</td><td>0</td><td>  96.91470</td><td> 164.3357</td><td> 164.3357</td><td>2.143709e-09</td><td>4.152558e-03</td><td>2.716312e-10</td><td>2.392736e-06</td><td>9.973377e-01</td><td>2.872285e-07</td><td>0.1052632</td></tr>\n",
              "\t<tr><td>KMT2B   </td><td>2</td><td> 3</td><td>1</td><td>0</td><td>  84.63748</td><td> 414.3410</td><td> 414.3410</td><td>5.371391e-06</td><td>1.516809e-03</td><td>2.094636e-07</td><td>5.679822e-03</td><td>9.973377e-01</td><td>2.104167e-04</td><td>0.1052632</td></tr>\n",
              "\t<tr><td>DST     </td><td>1</td><td> 2</td><td>0</td><td>0</td><td>  28.99080</td><td>   0.0000</td><td>   0.0000</td><td>1.940028e-03</td><td>8.958963e-01</td><td>8.137455e-03</td><td>9.834822e-01</td><td>9.973377e-01</td><td>9.999817e-01</td><td>0.1052632</td></tr>\n",
              "\t<tr><td>NEB     </td><td>0</td><td> 0</td><td>0</td><td>0</td><td>   0.00000</td><td>   0.0000</td><td>   0.0000</td><td>6.805051e-01</td><td>8.885336e-01</td><td>9.097357e-01</td><td>9.834822e-01</td><td>9.973377e-01</td><td>9.999817e-01</td><td>0.0000000</td></tr>\n",
              "\t<tr><td>MACF1   </td><td>0</td><td> 0</td><td>0</td><td>0</td><td>   0.00000</td><td>   0.0000</td><td>   0.0000</td><td>7.077575e-01</td><td>8.940169e-01</td><td>9.239127e-01</td><td>9.834822e-01</td><td>9.973377e-01</td><td>9.999817e-01</td><td>0.0000000</td></tr>\n",
              "\t<tr><td>PLEC    </td><td>0</td><td> 0</td><td>0</td><td>0</td><td>   0.00000</td><td>   0.0000</td><td>   0.0000</td><td>7.008860e-01</td><td>9.332835e-01</td><td>9.256307e-01</td><td>9.834822e-01</td><td>9.973377e-01</td><td>9.999817e-01</td><td>0.0000000</td></tr>\n",
              "\t<tr><td>MUC5B   </td><td>0</td><td> 0</td><td>0</td><td>0</td><td>   0.00000</td><td>   0.0000</td><td>   0.0000</td><td>7.061492e-01</td><td>9.438551e-01</td><td>9.290834e-01</td><td>9.834822e-01</td><td>9.973377e-01</td><td>9.999817e-01</td><td>0.0000000</td></tr>\n",
              "\t<tr><td>FCGBP   </td><td>0</td><td> 0</td><td>0</td><td>0</td><td>   0.00000</td><td>   0.0000</td><td>   0.0000</td><td>7.071388e-01</td><td>9.395988e-01</td><td>9.291857e-01</td><td>9.834822e-01</td><td>9.973377e-01</td><td>9.999817e-01</td><td>0.0000000</td></tr>\n",
              "\t<tr><td>RYR1    </td><td>0</td><td> 0</td><td>0</td><td>0</td><td>   0.00000</td><td>   0.0000</td><td>   0.0000</td><td>7.137289e-01</td><td>9.203688e-01</td><td>9.302636e-01</td><td>9.834822e-01</td><td>9.973377e-01</td><td>9.999817e-01</td><td>0.0000000</td></tr>\n",
              "\t<tr><td>SYNE2   </td><td>0</td><td> 0</td><td>0</td><td>0</td><td>   0.00000</td><td>   0.0000</td><td>   0.0000</td><td>7.244918e-01</td><td>9.003887e-01</td><td>9.324418e-01</td><td>9.834822e-01</td><td>9.973377e-01</td><td>9.999817e-01</td><td>0.0000000</td></tr>\n",
              "\t<tr><td>PKD1    </td><td>0</td><td> 0</td><td>0</td><td>0</td><td>   0.00000</td><td>   0.0000</td><td>   0.0000</td><td>7.190193e-01</td><td>9.419006e-01</td><td>9.348465e-01</td><td>9.834822e-01</td><td>9.973377e-01</td><td>9.999817e-01</td><td>0.0000000</td></tr>\n",
              "\t<tr><td>LRP1    </td><td>0</td><td> 0</td><td>0</td><td>0</td><td>   0.00000</td><td>   0.0000</td><td>   0.0000</td><td>7.282613e-01</td><td>9.270145e-01</td><td>9.374869e-01</td><td>9.834822e-01</td><td>9.973377e-01</td><td>9.999817e-01</td><td>0.0000000</td></tr>\n",
              "\t<tr><td>⋮</td><td>⋮</td><td>⋮</td><td>⋮</td><td>⋮</td><td>⋮</td><td>⋮</td><td>⋮</td><td>⋮</td><td>⋮</td><td>⋮</td><td>⋮</td><td>⋮</td><td>⋮</td><td>⋮</td></tr>\n",
              "\t<tr><td>AL139333.1   </td><td>0</td><td>0</td><td>0</td><td>0</td><td>0</td><td>0</td><td>0</td><td>0.9855776</td><td>0.9945218</td><td>0.9998131</td><td>0.9871007</td><td>0.9973377</td><td>0.9999817</td><td>0</td></tr>\n",
              "\t<tr><td>AC013468.1   </td><td>0</td><td>0</td><td>0</td><td>0</td><td>0</td><td>0</td><td>0</td><td>0.9854574</td><td>0.9948518</td><td>0.9998131</td><td>0.9870295</td><td>0.9973377</td><td>0.9999817</td><td>0</td></tr>\n",
              "\t<tr><td>AC008372.1   </td><td>0</td><td>0</td><td>0</td><td>0</td><td>0</td><td>0</td><td>0</td><td>0.9861225</td><td>0.9939179</td><td>0.9998197</td><td>0.9874984</td><td>0.9973377</td><td>0.9999817</td><td>0</td></tr>\n",
              "\t<tr><td>AC068039.1   </td><td>0</td><td>0</td><td>0</td><td>0</td><td>0</td><td>0</td><td>0</td><td>0.9861761</td><td>0.9938218</td><td>0.9998199</td><td>0.9874984</td><td>0.9973377</td><td>0.9999817</td><td>0</td></tr>\n",
              "\t<tr><td>AC003043.1   </td><td>0</td><td>0</td><td>0</td><td>0</td><td>0</td><td>0</td><td>0</td><td>0.9862968</td><td>0.9936508</td><td>0.9998209</td><td>0.9874984</td><td>0.9973377</td><td>0.9999817</td><td>0</td></tr>\n",
              "\t<tr><td>AC022210.1   </td><td>0</td><td>0</td><td>0</td><td>0</td><td>0</td><td>0</td><td>0</td><td>0.9864053</td><td>0.9943122</td><td>0.9998294</td><td>0.9874984</td><td>0.9973377</td><td>0.9999817</td><td>0</td></tr>\n",
              "\t<tr><td>AP002956.1   </td><td>0</td><td>0</td><td>0</td><td>0</td><td>0</td><td>0</td><td>0</td><td>0.9865710</td><td>0.9939439</td><td>0.9998296</td><td>0.9876033</td><td>0.9973377</td><td>0.9999817</td><td>0</td></tr>\n",
              "\t<tr><td>AC073063.1   </td><td>0</td><td>0</td><td>0</td><td>0</td><td>0</td><td>0</td><td>0</td><td>0.9863703</td><td>0.9944352</td><td>0.9998298</td><td>0.9874984</td><td>0.9973377</td><td>0.9999817</td><td>0</td></tr>\n",
              "\t<tr><td>RP11-295P9.3 </td><td>0</td><td>0</td><td>0</td><td>0</td><td>0</td><td>0</td><td>0</td><td>0.9864171</td><td>0.9944687</td><td>0.9998311</td><td>0.9874984</td><td>0.9973377</td><td>0.9999817</td><td>0</td></tr>\n",
              "\t<tr><td>AC008387.1   </td><td>0</td><td>0</td><td>0</td><td>0</td><td>0</td><td>0</td><td>0</td><td>0.9867625</td><td>0.9937139</td><td>0.9998313</td><td>0.9877458</td><td>0.9973377</td><td>0.9999817</td><td>0</td></tr>\n",
              "\t<tr><td>AC010368.2   </td><td>0</td><td>0</td><td>0</td><td>0</td><td>0</td><td>0</td><td>0</td><td>0.9869734</td><td>0.9934017</td><td>0.9998325</td><td>0.9878769</td><td>0.9973377</td><td>0.9999817</td><td>0</td></tr>\n",
              "\t<tr><td>AP000304.1   </td><td>0</td><td>0</td><td>0</td><td>0</td><td>0</td><td>0</td><td>0</td><td>0.9870902</td><td>0.9939357</td><td>0.9998402</td><td>0.9878769</td><td>0.9973377</td><td>0.9999817</td><td>0</td></tr>\n",
              "\t<tr><td>AC055736.1   </td><td>0</td><td>0</td><td>0</td><td>0</td><td>0</td><td>0</td><td>0</td><td>0.9862649</td><td>0.9962553</td><td>0.9998408</td><td>0.9874984</td><td>0.9973377</td><td>0.9999817</td><td>0</td></tr>\n",
              "\t<tr><td>AC073528.1   </td><td>0</td><td>0</td><td>0</td><td>0</td><td>0</td><td>0</td><td>0</td><td>0.9884720</td><td>0.9918420</td><td>0.9998434</td><td>0.9888657</td><td>0.9973377</td><td>0.9999817</td><td>0</td></tr>\n",
              "\t<tr><td>AC011308.1   </td><td>0</td><td>0</td><td>0</td><td>0</td><td>0</td><td>0</td><td>0</td><td>0.9874388</td><td>0.9935705</td><td>0.9998436</td><td>0.9881765</td><td>0.9973377</td><td>0.9999817</td><td>0</td></tr>\n",
              "\t<tr><td>AP001925.1   </td><td>0</td><td>0</td><td>0</td><td>0</td><td>0</td><td>0</td><td>0</td><td>0.9878024</td><td>0.9932200</td><td>0.9998470</td><td>0.9883928</td><td>0.9973377</td><td>0.9999817</td><td>0</td></tr>\n",
              "\t<tr><td>AL031663.1   </td><td>0</td><td>0</td><td>0</td><td>0</td><td>0</td><td>0</td><td>0</td><td>0.9870309</td><td>0.9950388</td><td>0.9998486</td><td>0.9878769</td><td>0.9973377</td><td>0.9999817</td><td>0</td></tr>\n",
              "\t<tr><td>AL031320.1   </td><td>0</td><td>0</td><td>0</td><td>0</td><td>0</td><td>0</td><td>0</td><td>0.9884335</td><td>0.9924417</td><td>0.9998501</td><td>0.9888657</td><td>0.9973377</td><td>0.9999817</td><td>0</td></tr>\n",
              "\t<tr><td>AL627171.1   </td><td>0</td><td>0</td><td>0</td><td>0</td><td>0</td><td>0</td><td>0</td><td>0.9870622</td><td>0.9953476</td><td>0.9998515</td><td>0.9878769</td><td>0.9973377</td><td>0.9999817</td><td>0</td></tr>\n",
              "\t<tr><td>AC051642.1   </td><td>0</td><td>0</td><td>0</td><td>0</td><td>0</td><td>0</td><td>0</td><td>0.9876825</td><td>0.9940142</td><td>0.9998527</td><td>0.9883220</td><td>0.9973377</td><td>0.9999817</td><td>0</td></tr>\n",
              "\t<tr><td>AC012067.1   </td><td>0</td><td>0</td><td>0</td><td>0</td><td>0</td><td>0</td><td>0</td><td>0.9875537</td><td>0.9947062</td><td>0.9998563</td><td>0.9882423</td><td>0.9973377</td><td>0.9999817</td><td>0</td></tr>\n",
              "\t<tr><td>AL035681.1   </td><td>0</td><td>0</td><td>0</td><td>0</td><td>0</td><td>0</td><td>0</td><td>0.9881650</td><td>0.9937184</td><td>0.9998590</td><td>0.9886571</td><td>0.9973377</td><td>0.9999817</td><td>0</td></tr>\n",
              "\t<tr><td>AL356215.1   </td><td>0</td><td>0</td><td>0</td><td>0</td><td>0</td><td>0</td><td>0</td><td>0.9885921</td><td>0.9935415</td><td>0.9998650</td><td>0.9889367</td><td>0.9973377</td><td>0.9999817</td><td>0</td></tr>\n",
              "\t<tr><td>AC073569.1   </td><td>0</td><td>0</td><td>0</td><td>0</td><td>0</td><td>0</td><td>0</td><td>0.9887911</td><td>0.9954684</td><td>0.9998852</td><td>0.9890865</td><td>0.9973377</td><td>0.9999817</td><td>0</td></tr>\n",
              "\t<tr><td>AC018512.1   </td><td>0</td><td>0</td><td>0</td><td>0</td><td>0</td><td>0</td><td>0</td><td>0.9891268</td><td>0.9947386</td><td>0.9998854</td><td>0.9893238</td><td>0.9973377</td><td>0.9999817</td><td>0</td></tr>\n",
              "\t<tr><td>AC012360.1   </td><td>0</td><td>0</td><td>0</td><td>0</td><td>0</td><td>0</td><td>0</td><td>0.9889635</td><td>0.9952593</td><td>0.9998867</td><td>0.9892097</td><td>0.9973377</td><td>0.9999817</td><td>0</td></tr>\n",
              "\t<tr><td>AC010760.1   </td><td>0</td><td>0</td><td>0</td><td>0</td><td>0</td><td>0</td><td>0</td><td>0.9904861</td><td>0.9946570</td><td>0.9999065</td><td>0.9906340</td><td>0.9973377</td><td>0.9999817</td><td>0</td></tr>\n",
              "\t<tr><td>AL606500.1   </td><td>0</td><td>0</td><td>0</td><td>0</td><td>0</td><td>0</td><td>0</td><td>0.9914631</td><td>0.9943867</td><td>0.9999180</td><td>0.9915618</td><td>0.9973377</td><td>0.9999817</td><td>0</td></tr>\n",
              "\t<tr><td>AC007421.1   </td><td>0</td><td>0</td><td>0</td><td>0</td><td>0</td><td>0</td><td>0</td><td>0.9938712</td><td>1.0000000</td><td>0.9999705</td><td>0.9939207</td><td>1.0000000</td><td>0.9999817</td><td>0</td></tr>\n",
              "\t<tr><td>RP11-146D12.2</td><td>0</td><td>0</td><td>0</td><td>0</td><td>0</td><td>0</td><td>0</td><td>0.9951741</td><td>1.0000000</td><td>0.9999817</td><td>0.9951741</td><td>1.0000000</td><td>0.9999817</td><td>0</td></tr>\n",
              "</tbody>\n",
              "</table>\n"
            ],
            "text/markdown": "\nA data.frame: 20091 × 15\n\n| gene_name &lt;chr&gt; | n_syn &lt;dbl&gt; | n_mis &lt;dbl&gt; | n_non &lt;dbl&gt; | n_spl &lt;dbl&gt; | wmis_cv &lt;dbl&gt; | wnon_cv &lt;dbl&gt; | wspl_cv &lt;dbl&gt; | pmis_cv &lt;dbl&gt; | ptrunc_cv &lt;dbl&gt; | pallsubs_cv &lt;dbl&gt; | qmis_cv &lt;dbl&gt; | qtrunc_cv &lt;dbl&gt; | qallsubs_cv &lt;dbl&gt; | percentage_samples &lt;dbl&gt; |\n|---|---|---|---|---|---|---|---|---|---|---|---|---|---|---|\n| TP53     | 0 |  7 | 3 | 1 | 1560.63841 | 9493.6594 | 9493.6594 | 0.000000e+00 | 6.661338e-16 | 0.000000e+00 | 0.000000e+00 | 1.338329e-11 | 0.000000e+00 | 0.2631579 |\n| LRP1B    | 4 | 10 | 1 | 1 |  236.83257 |  407.3807 |  407.3807 | 0.000000e+00 | 7.550975e-06 | 0.000000e+00 | 0.000000e+00 | 4.403099e-02 | 0.000000e+00 | 0.2105263 |\n| FLG      | 1 | 12 | 1 | 0 |  294.68043 |  276.6120 |  276.6120 | 0.000000e+00 | 2.351947e-03 | 0.000000e+00 | 0.000000e+00 | 9.973377e-01 | 0.000000e+00 | 0.2368421 |\n| TTN      | 8 | 24 | 0 | 0 |   71.33003 |    0.0000 |    0.0000 | 0.000000e+00 | 8.004183e-01 | 0.000000e+00 | 0.000000e+00 | 9.973377e-01 | 0.000000e+00 | 0.3947368 |\n| MUC16    | 5 | 17 | 0 | 0 |  139.00742 |    0.0000 |    0.0000 | 0.000000e+00 | 9.114424e-01 | 0.000000e+00 | 0.000000e+00 | 9.973377e-01 | 0.000000e+00 | 0.4210526 |\n| FAT4     | 4 | 13 | 0 | 0 |  264.77080 |    0.0000 |    0.0000 | 0.000000e+00 | 9.408534e-01 | 0.000000e+00 | 0.000000e+00 | 9.973377e-01 | 0.000000e+00 | 0.3157895 |\n| RNF213   | 1 |  8 | 0 | 1 |  135.33323 |  232.8934 |  232.8934 | 2.442491e-15 | 2.836711e-03 | 3.330669e-16 | 4.907208e-12 | 9.973377e-01 | 9.559496e-13 | 0.1842105 |\n| DNAH9    | 1 |  8 | 0 | 0 |  173.34333 |    0.0000 |    0.0000 | 3.330669e-16 | 9.266185e-01 | 3.441691e-15 | 8.364559e-13 | 9.973377e-01 | 8.426519e-12 | 0.2105263 |\n| FAT3     | 1 |  8 | 0 | 0 |  171.55724 |    0.0000 |    0.0000 | 3.330669e-16 | 9.411749e-01 | 3.774758e-15 | 8.364559e-13 | 9.973377e-01 | 8.426519e-12 | 0.2105263 |\n| DNAH5    | 1 |  8 | 0 | 0 |  169.04180 |    0.0000 |    0.0000 | 4.440892e-16 | 9.197308e-01 | 4.218847e-15 | 9.913551e-13 | 9.973377e-01 | 8.476086e-12 | 0.2105263 |\n| AHNAK2   | 4 |  8 | 0 | 0 |  128.99929 |    0.0000 |    0.0000 | 3.663736e-15 | 9.448541e-01 | 3.663736e-14 | 6.691647e-12 | 9.973377e-01 | 6.691647e-11 | 0.1842105 |\n| OBSCN    | 8 |  9 | 0 | 0 |   76.66128 |    0.0000 |    0.0000 | 7.993606e-15 | 9.052653e-01 | 7.860379e-14 | 1.338329e-11 | 9.973377e-01 | 1.316024e-10 | 0.2894737 |\n| DNAH11   | 1 |  5 | 1 | 1 |  112.68714 |  379.2657 |  379.2657 | 9.964249e-10 | 8.766310e-06 | 4.004574e-13 | 1.177598e-06 | 4.403099e-02 | 6.188916e-10 | 0.1842105 |\n| KIAA1109 | 3 |  7 | 0 | 0 |  155.45534 |    0.0000 |    0.0000 | 4.996004e-14 | 9.152872e-01 | 4.765077e-13 | 7.721131e-11 | 9.973377e-01 | 6.838226e-10 | 0.1842105 |\n| ARID1A   | 1 |  0 | 4 | 0 |    0.00000 | 2079.2947 | 2079.2947 | 8.209532e-01 | 3.137490e-13 | 2.844280e-12 | 9.834822e-01 | 3.151766e-09 | 3.809629e-09 | 0.1052632 |\n| SORCS1   | 3 |  5 | 0 | 0 |  373.84821 |    0.0000 |    0.0000 | 2.239320e-12 | 9.572739e-01 | 2.005518e-11 | 3.213584e-09 | 9.973377e-01 | 2.518304e-08 | 0.1578947 |\n| SYNE1    | 4 |  7 | 0 | 0 |   83.18982 |    0.0000 |    0.0000 | 4.137579e-12 | 8.837996e-01 | 3.627931e-11 | 5.541874e-09 | 9.973377e-01 | 4.287575e-08 | 0.1842105 |\n| PCLO     | 3 |  6 | 0 | 0 |  132.47549 |    0.0000 |    0.0000 | 8.176348e-12 | 9.249037e-01 | 7.117029e-11 | 1.026694e-08 | 9.973377e-01 | 7.943791e-08 | 0.1315789 |\n| HMCN1    | 2 |  5 | 1 | 0 |   96.91470 |  164.3357 |  164.3357 | 2.143709e-09 | 4.152558e-03 | 2.716312e-10 | 2.392736e-06 | 9.973377e-01 | 2.872285e-07 | 0.1052632 |\n| KMT2B    | 2 |  3 | 1 | 0 |   84.63748 |  414.3410 |  414.3410 | 5.371391e-06 | 1.516809e-03 | 2.094636e-07 | 5.679822e-03 | 9.973377e-01 | 2.104167e-04 | 0.1052632 |\n| DST      | 1 |  2 | 0 | 0 |   28.99080 |    0.0000 |    0.0000 | 1.940028e-03 | 8.958963e-01 | 8.137455e-03 | 9.834822e-01 | 9.973377e-01 | 9.999817e-01 | 0.1052632 |\n| NEB      | 0 |  0 | 0 | 0 |    0.00000 |    0.0000 |    0.0000 | 6.805051e-01 | 8.885336e-01 | 9.097357e-01 | 9.834822e-01 | 9.973377e-01 | 9.999817e-01 | 0.0000000 |\n| MACF1    | 0 |  0 | 0 | 0 |    0.00000 |    0.0000 |    0.0000 | 7.077575e-01 | 8.940169e-01 | 9.239127e-01 | 9.834822e-01 | 9.973377e-01 | 9.999817e-01 | 0.0000000 |\n| PLEC     | 0 |  0 | 0 | 0 |    0.00000 |    0.0000 |    0.0000 | 7.008860e-01 | 9.332835e-01 | 9.256307e-01 | 9.834822e-01 | 9.973377e-01 | 9.999817e-01 | 0.0000000 |\n| MUC5B    | 0 |  0 | 0 | 0 |    0.00000 |    0.0000 |    0.0000 | 7.061492e-01 | 9.438551e-01 | 9.290834e-01 | 9.834822e-01 | 9.973377e-01 | 9.999817e-01 | 0.0000000 |\n| FCGBP    | 0 |  0 | 0 | 0 |    0.00000 |    0.0000 |    0.0000 | 7.071388e-01 | 9.395988e-01 | 9.291857e-01 | 9.834822e-01 | 9.973377e-01 | 9.999817e-01 | 0.0000000 |\n| RYR1     | 0 |  0 | 0 | 0 |    0.00000 |    0.0000 |    0.0000 | 7.137289e-01 | 9.203688e-01 | 9.302636e-01 | 9.834822e-01 | 9.973377e-01 | 9.999817e-01 | 0.0000000 |\n| SYNE2    | 0 |  0 | 0 | 0 |    0.00000 |    0.0000 |    0.0000 | 7.244918e-01 | 9.003887e-01 | 9.324418e-01 | 9.834822e-01 | 9.973377e-01 | 9.999817e-01 | 0.0000000 |\n| PKD1     | 0 |  0 | 0 | 0 |    0.00000 |    0.0000 |    0.0000 | 7.190193e-01 | 9.419006e-01 | 9.348465e-01 | 9.834822e-01 | 9.973377e-01 | 9.999817e-01 | 0.0000000 |\n| LRP1     | 0 |  0 | 0 | 0 |    0.00000 |    0.0000 |    0.0000 | 7.282613e-01 | 9.270145e-01 | 9.374869e-01 | 9.834822e-01 | 9.973377e-01 | 9.999817e-01 | 0.0000000 |\n| ⋮ | ⋮ | ⋮ | ⋮ | ⋮ | ⋮ | ⋮ | ⋮ | ⋮ | ⋮ | ⋮ | ⋮ | ⋮ | ⋮ | ⋮ |\n| AL139333.1    | 0 | 0 | 0 | 0 | 0 | 0 | 0 | 0.9855776 | 0.9945218 | 0.9998131 | 0.9871007 | 0.9973377 | 0.9999817 | 0 |\n| AC013468.1    | 0 | 0 | 0 | 0 | 0 | 0 | 0 | 0.9854574 | 0.9948518 | 0.9998131 | 0.9870295 | 0.9973377 | 0.9999817 | 0 |\n| AC008372.1    | 0 | 0 | 0 | 0 | 0 | 0 | 0 | 0.9861225 | 0.9939179 | 0.9998197 | 0.9874984 | 0.9973377 | 0.9999817 | 0 |\n| AC068039.1    | 0 | 0 | 0 | 0 | 0 | 0 | 0 | 0.9861761 | 0.9938218 | 0.9998199 | 0.9874984 | 0.9973377 | 0.9999817 | 0 |\n| AC003043.1    | 0 | 0 | 0 | 0 | 0 | 0 | 0 | 0.9862968 | 0.9936508 | 0.9998209 | 0.9874984 | 0.9973377 | 0.9999817 | 0 |\n| AC022210.1    | 0 | 0 | 0 | 0 | 0 | 0 | 0 | 0.9864053 | 0.9943122 | 0.9998294 | 0.9874984 | 0.9973377 | 0.9999817 | 0 |\n| AP002956.1    | 0 | 0 | 0 | 0 | 0 | 0 | 0 | 0.9865710 | 0.9939439 | 0.9998296 | 0.9876033 | 0.9973377 | 0.9999817 | 0 |\n| AC073063.1    | 0 | 0 | 0 | 0 | 0 | 0 | 0 | 0.9863703 | 0.9944352 | 0.9998298 | 0.9874984 | 0.9973377 | 0.9999817 | 0 |\n| RP11-295P9.3  | 0 | 0 | 0 | 0 | 0 | 0 | 0 | 0.9864171 | 0.9944687 | 0.9998311 | 0.9874984 | 0.9973377 | 0.9999817 | 0 |\n| AC008387.1    | 0 | 0 | 0 | 0 | 0 | 0 | 0 | 0.9867625 | 0.9937139 | 0.9998313 | 0.9877458 | 0.9973377 | 0.9999817 | 0 |\n| AC010368.2    | 0 | 0 | 0 | 0 | 0 | 0 | 0 | 0.9869734 | 0.9934017 | 0.9998325 | 0.9878769 | 0.9973377 | 0.9999817 | 0 |\n| AP000304.1    | 0 | 0 | 0 | 0 | 0 | 0 | 0 | 0.9870902 | 0.9939357 | 0.9998402 | 0.9878769 | 0.9973377 | 0.9999817 | 0 |\n| AC055736.1    | 0 | 0 | 0 | 0 | 0 | 0 | 0 | 0.9862649 | 0.9962553 | 0.9998408 | 0.9874984 | 0.9973377 | 0.9999817 | 0 |\n| AC073528.1    | 0 | 0 | 0 | 0 | 0 | 0 | 0 | 0.9884720 | 0.9918420 | 0.9998434 | 0.9888657 | 0.9973377 | 0.9999817 | 0 |\n| AC011308.1    | 0 | 0 | 0 | 0 | 0 | 0 | 0 | 0.9874388 | 0.9935705 | 0.9998436 | 0.9881765 | 0.9973377 | 0.9999817 | 0 |\n| AP001925.1    | 0 | 0 | 0 | 0 | 0 | 0 | 0 | 0.9878024 | 0.9932200 | 0.9998470 | 0.9883928 | 0.9973377 | 0.9999817 | 0 |\n| AL031663.1    | 0 | 0 | 0 | 0 | 0 | 0 | 0 | 0.9870309 | 0.9950388 | 0.9998486 | 0.9878769 | 0.9973377 | 0.9999817 | 0 |\n| AL031320.1    | 0 | 0 | 0 | 0 | 0 | 0 | 0 | 0.9884335 | 0.9924417 | 0.9998501 | 0.9888657 | 0.9973377 | 0.9999817 | 0 |\n| AL627171.1    | 0 | 0 | 0 | 0 | 0 | 0 | 0 | 0.9870622 | 0.9953476 | 0.9998515 | 0.9878769 | 0.9973377 | 0.9999817 | 0 |\n| AC051642.1    | 0 | 0 | 0 | 0 | 0 | 0 | 0 | 0.9876825 | 0.9940142 | 0.9998527 | 0.9883220 | 0.9973377 | 0.9999817 | 0 |\n| AC012067.1    | 0 | 0 | 0 | 0 | 0 | 0 | 0 | 0.9875537 | 0.9947062 | 0.9998563 | 0.9882423 | 0.9973377 | 0.9999817 | 0 |\n| AL035681.1    | 0 | 0 | 0 | 0 | 0 | 0 | 0 | 0.9881650 | 0.9937184 | 0.9998590 | 0.9886571 | 0.9973377 | 0.9999817 | 0 |\n| AL356215.1    | 0 | 0 | 0 | 0 | 0 | 0 | 0 | 0.9885921 | 0.9935415 | 0.9998650 | 0.9889367 | 0.9973377 | 0.9999817 | 0 |\n| AC073569.1    | 0 | 0 | 0 | 0 | 0 | 0 | 0 | 0.9887911 | 0.9954684 | 0.9998852 | 0.9890865 | 0.9973377 | 0.9999817 | 0 |\n| AC018512.1    | 0 | 0 | 0 | 0 | 0 | 0 | 0 | 0.9891268 | 0.9947386 | 0.9998854 | 0.9893238 | 0.9973377 | 0.9999817 | 0 |\n| AC012360.1    | 0 | 0 | 0 | 0 | 0 | 0 | 0 | 0.9889635 | 0.9952593 | 0.9998867 | 0.9892097 | 0.9973377 | 0.9999817 | 0 |\n| AC010760.1    | 0 | 0 | 0 | 0 | 0 | 0 | 0 | 0.9904861 | 0.9946570 | 0.9999065 | 0.9906340 | 0.9973377 | 0.9999817 | 0 |\n| AL606500.1    | 0 | 0 | 0 | 0 | 0 | 0 | 0 | 0.9914631 | 0.9943867 | 0.9999180 | 0.9915618 | 0.9973377 | 0.9999817 | 0 |\n| AC007421.1    | 0 | 0 | 0 | 0 | 0 | 0 | 0 | 0.9938712 | 1.0000000 | 0.9999705 | 0.9939207 | 1.0000000 | 0.9999817 | 0 |\n| RP11-146D12.2 | 0 | 0 | 0 | 0 | 0 | 0 | 0 | 0.9951741 | 1.0000000 | 0.9999817 | 0.9951741 | 1.0000000 | 0.9999817 | 0 |\n\n",
            "text/latex": "A data.frame: 20091 × 15\n\\begin{tabular}{lllllllllllllll}\n gene\\_name & n\\_syn & n\\_mis & n\\_non & n\\_spl & wmis\\_cv & wnon\\_cv & wspl\\_cv & pmis\\_cv & ptrunc\\_cv & pallsubs\\_cv & qmis\\_cv & qtrunc\\_cv & qallsubs\\_cv & percentage\\_samples\\\\\n <chr> & <dbl> & <dbl> & <dbl> & <dbl> & <dbl> & <dbl> & <dbl> & <dbl> & <dbl> & <dbl> & <dbl> & <dbl> & <dbl> & <dbl>\\\\\n\\hline\n\t TP53     & 0 &  7 & 3 & 1 & 1560.63841 & 9493.6594 & 9493.6594 & 0.000000e+00 & 6.661338e-16 & 0.000000e+00 & 0.000000e+00 & 1.338329e-11 & 0.000000e+00 & 0.2631579\\\\\n\t LRP1B    & 4 & 10 & 1 & 1 &  236.83257 &  407.3807 &  407.3807 & 0.000000e+00 & 7.550975e-06 & 0.000000e+00 & 0.000000e+00 & 4.403099e-02 & 0.000000e+00 & 0.2105263\\\\\n\t FLG      & 1 & 12 & 1 & 0 &  294.68043 &  276.6120 &  276.6120 & 0.000000e+00 & 2.351947e-03 & 0.000000e+00 & 0.000000e+00 & 9.973377e-01 & 0.000000e+00 & 0.2368421\\\\\n\t TTN      & 8 & 24 & 0 & 0 &   71.33003 &    0.0000 &    0.0000 & 0.000000e+00 & 8.004183e-01 & 0.000000e+00 & 0.000000e+00 & 9.973377e-01 & 0.000000e+00 & 0.3947368\\\\\n\t MUC16    & 5 & 17 & 0 & 0 &  139.00742 &    0.0000 &    0.0000 & 0.000000e+00 & 9.114424e-01 & 0.000000e+00 & 0.000000e+00 & 9.973377e-01 & 0.000000e+00 & 0.4210526\\\\\n\t FAT4     & 4 & 13 & 0 & 0 &  264.77080 &    0.0000 &    0.0000 & 0.000000e+00 & 9.408534e-01 & 0.000000e+00 & 0.000000e+00 & 9.973377e-01 & 0.000000e+00 & 0.3157895\\\\\n\t RNF213   & 1 &  8 & 0 & 1 &  135.33323 &  232.8934 &  232.8934 & 2.442491e-15 & 2.836711e-03 & 3.330669e-16 & 4.907208e-12 & 9.973377e-01 & 9.559496e-13 & 0.1842105\\\\\n\t DNAH9    & 1 &  8 & 0 & 0 &  173.34333 &    0.0000 &    0.0000 & 3.330669e-16 & 9.266185e-01 & 3.441691e-15 & 8.364559e-13 & 9.973377e-01 & 8.426519e-12 & 0.2105263\\\\\n\t FAT3     & 1 &  8 & 0 & 0 &  171.55724 &    0.0000 &    0.0000 & 3.330669e-16 & 9.411749e-01 & 3.774758e-15 & 8.364559e-13 & 9.973377e-01 & 8.426519e-12 & 0.2105263\\\\\n\t DNAH5    & 1 &  8 & 0 & 0 &  169.04180 &    0.0000 &    0.0000 & 4.440892e-16 & 9.197308e-01 & 4.218847e-15 & 9.913551e-13 & 9.973377e-01 & 8.476086e-12 & 0.2105263\\\\\n\t AHNAK2   & 4 &  8 & 0 & 0 &  128.99929 &    0.0000 &    0.0000 & 3.663736e-15 & 9.448541e-01 & 3.663736e-14 & 6.691647e-12 & 9.973377e-01 & 6.691647e-11 & 0.1842105\\\\\n\t OBSCN    & 8 &  9 & 0 & 0 &   76.66128 &    0.0000 &    0.0000 & 7.993606e-15 & 9.052653e-01 & 7.860379e-14 & 1.338329e-11 & 9.973377e-01 & 1.316024e-10 & 0.2894737\\\\\n\t DNAH11   & 1 &  5 & 1 & 1 &  112.68714 &  379.2657 &  379.2657 & 9.964249e-10 & 8.766310e-06 & 4.004574e-13 & 1.177598e-06 & 4.403099e-02 & 6.188916e-10 & 0.1842105\\\\\n\t KIAA1109 & 3 &  7 & 0 & 0 &  155.45534 &    0.0000 &    0.0000 & 4.996004e-14 & 9.152872e-01 & 4.765077e-13 & 7.721131e-11 & 9.973377e-01 & 6.838226e-10 & 0.1842105\\\\\n\t ARID1A   & 1 &  0 & 4 & 0 &    0.00000 & 2079.2947 & 2079.2947 & 8.209532e-01 & 3.137490e-13 & 2.844280e-12 & 9.834822e-01 & 3.151766e-09 & 3.809629e-09 & 0.1052632\\\\\n\t SORCS1   & 3 &  5 & 0 & 0 &  373.84821 &    0.0000 &    0.0000 & 2.239320e-12 & 9.572739e-01 & 2.005518e-11 & 3.213584e-09 & 9.973377e-01 & 2.518304e-08 & 0.1578947\\\\\n\t SYNE1    & 4 &  7 & 0 & 0 &   83.18982 &    0.0000 &    0.0000 & 4.137579e-12 & 8.837996e-01 & 3.627931e-11 & 5.541874e-09 & 9.973377e-01 & 4.287575e-08 & 0.1842105\\\\\n\t PCLO     & 3 &  6 & 0 & 0 &  132.47549 &    0.0000 &    0.0000 & 8.176348e-12 & 9.249037e-01 & 7.117029e-11 & 1.026694e-08 & 9.973377e-01 & 7.943791e-08 & 0.1315789\\\\\n\t HMCN1    & 2 &  5 & 1 & 0 &   96.91470 &  164.3357 &  164.3357 & 2.143709e-09 & 4.152558e-03 & 2.716312e-10 & 2.392736e-06 & 9.973377e-01 & 2.872285e-07 & 0.1052632\\\\\n\t KMT2B    & 2 &  3 & 1 & 0 &   84.63748 &  414.3410 &  414.3410 & 5.371391e-06 & 1.516809e-03 & 2.094636e-07 & 5.679822e-03 & 9.973377e-01 & 2.104167e-04 & 0.1052632\\\\\n\t DST      & 1 &  2 & 0 & 0 &   28.99080 &    0.0000 &    0.0000 & 1.940028e-03 & 8.958963e-01 & 8.137455e-03 & 9.834822e-01 & 9.973377e-01 & 9.999817e-01 & 0.1052632\\\\\n\t NEB      & 0 &  0 & 0 & 0 &    0.00000 &    0.0000 &    0.0000 & 6.805051e-01 & 8.885336e-01 & 9.097357e-01 & 9.834822e-01 & 9.973377e-01 & 9.999817e-01 & 0.0000000\\\\\n\t MACF1    & 0 &  0 & 0 & 0 &    0.00000 &    0.0000 &    0.0000 & 7.077575e-01 & 8.940169e-01 & 9.239127e-01 & 9.834822e-01 & 9.973377e-01 & 9.999817e-01 & 0.0000000\\\\\n\t PLEC     & 0 &  0 & 0 & 0 &    0.00000 &    0.0000 &    0.0000 & 7.008860e-01 & 9.332835e-01 & 9.256307e-01 & 9.834822e-01 & 9.973377e-01 & 9.999817e-01 & 0.0000000\\\\\n\t MUC5B    & 0 &  0 & 0 & 0 &    0.00000 &    0.0000 &    0.0000 & 7.061492e-01 & 9.438551e-01 & 9.290834e-01 & 9.834822e-01 & 9.973377e-01 & 9.999817e-01 & 0.0000000\\\\\n\t FCGBP    & 0 &  0 & 0 & 0 &    0.00000 &    0.0000 &    0.0000 & 7.071388e-01 & 9.395988e-01 & 9.291857e-01 & 9.834822e-01 & 9.973377e-01 & 9.999817e-01 & 0.0000000\\\\\n\t RYR1     & 0 &  0 & 0 & 0 &    0.00000 &    0.0000 &    0.0000 & 7.137289e-01 & 9.203688e-01 & 9.302636e-01 & 9.834822e-01 & 9.973377e-01 & 9.999817e-01 & 0.0000000\\\\\n\t SYNE2    & 0 &  0 & 0 & 0 &    0.00000 &    0.0000 &    0.0000 & 7.244918e-01 & 9.003887e-01 & 9.324418e-01 & 9.834822e-01 & 9.973377e-01 & 9.999817e-01 & 0.0000000\\\\\n\t PKD1     & 0 &  0 & 0 & 0 &    0.00000 &    0.0000 &    0.0000 & 7.190193e-01 & 9.419006e-01 & 9.348465e-01 & 9.834822e-01 & 9.973377e-01 & 9.999817e-01 & 0.0000000\\\\\n\t LRP1     & 0 &  0 & 0 & 0 &    0.00000 &    0.0000 &    0.0000 & 7.282613e-01 & 9.270145e-01 & 9.374869e-01 & 9.834822e-01 & 9.973377e-01 & 9.999817e-01 & 0.0000000\\\\\n\t ⋮ & ⋮ & ⋮ & ⋮ & ⋮ & ⋮ & ⋮ & ⋮ & ⋮ & ⋮ & ⋮ & ⋮ & ⋮ & ⋮ & ⋮\\\\\n\t AL139333.1    & 0 & 0 & 0 & 0 & 0 & 0 & 0 & 0.9855776 & 0.9945218 & 0.9998131 & 0.9871007 & 0.9973377 & 0.9999817 & 0\\\\\n\t AC013468.1    & 0 & 0 & 0 & 0 & 0 & 0 & 0 & 0.9854574 & 0.9948518 & 0.9998131 & 0.9870295 & 0.9973377 & 0.9999817 & 0\\\\\n\t AC008372.1    & 0 & 0 & 0 & 0 & 0 & 0 & 0 & 0.9861225 & 0.9939179 & 0.9998197 & 0.9874984 & 0.9973377 & 0.9999817 & 0\\\\\n\t AC068039.1    & 0 & 0 & 0 & 0 & 0 & 0 & 0 & 0.9861761 & 0.9938218 & 0.9998199 & 0.9874984 & 0.9973377 & 0.9999817 & 0\\\\\n\t AC003043.1    & 0 & 0 & 0 & 0 & 0 & 0 & 0 & 0.9862968 & 0.9936508 & 0.9998209 & 0.9874984 & 0.9973377 & 0.9999817 & 0\\\\\n\t AC022210.1    & 0 & 0 & 0 & 0 & 0 & 0 & 0 & 0.9864053 & 0.9943122 & 0.9998294 & 0.9874984 & 0.9973377 & 0.9999817 & 0\\\\\n\t AP002956.1    & 0 & 0 & 0 & 0 & 0 & 0 & 0 & 0.9865710 & 0.9939439 & 0.9998296 & 0.9876033 & 0.9973377 & 0.9999817 & 0\\\\\n\t AC073063.1    & 0 & 0 & 0 & 0 & 0 & 0 & 0 & 0.9863703 & 0.9944352 & 0.9998298 & 0.9874984 & 0.9973377 & 0.9999817 & 0\\\\\n\t RP11-295P9.3  & 0 & 0 & 0 & 0 & 0 & 0 & 0 & 0.9864171 & 0.9944687 & 0.9998311 & 0.9874984 & 0.9973377 & 0.9999817 & 0\\\\\n\t AC008387.1    & 0 & 0 & 0 & 0 & 0 & 0 & 0 & 0.9867625 & 0.9937139 & 0.9998313 & 0.9877458 & 0.9973377 & 0.9999817 & 0\\\\\n\t AC010368.2    & 0 & 0 & 0 & 0 & 0 & 0 & 0 & 0.9869734 & 0.9934017 & 0.9998325 & 0.9878769 & 0.9973377 & 0.9999817 & 0\\\\\n\t AP000304.1    & 0 & 0 & 0 & 0 & 0 & 0 & 0 & 0.9870902 & 0.9939357 & 0.9998402 & 0.9878769 & 0.9973377 & 0.9999817 & 0\\\\\n\t AC055736.1    & 0 & 0 & 0 & 0 & 0 & 0 & 0 & 0.9862649 & 0.9962553 & 0.9998408 & 0.9874984 & 0.9973377 & 0.9999817 & 0\\\\\n\t AC073528.1    & 0 & 0 & 0 & 0 & 0 & 0 & 0 & 0.9884720 & 0.9918420 & 0.9998434 & 0.9888657 & 0.9973377 & 0.9999817 & 0\\\\\n\t AC011308.1    & 0 & 0 & 0 & 0 & 0 & 0 & 0 & 0.9874388 & 0.9935705 & 0.9998436 & 0.9881765 & 0.9973377 & 0.9999817 & 0\\\\\n\t AP001925.1    & 0 & 0 & 0 & 0 & 0 & 0 & 0 & 0.9878024 & 0.9932200 & 0.9998470 & 0.9883928 & 0.9973377 & 0.9999817 & 0\\\\\n\t AL031663.1    & 0 & 0 & 0 & 0 & 0 & 0 & 0 & 0.9870309 & 0.9950388 & 0.9998486 & 0.9878769 & 0.9973377 & 0.9999817 & 0\\\\\n\t AL031320.1    & 0 & 0 & 0 & 0 & 0 & 0 & 0 & 0.9884335 & 0.9924417 & 0.9998501 & 0.9888657 & 0.9973377 & 0.9999817 & 0\\\\\n\t AL627171.1    & 0 & 0 & 0 & 0 & 0 & 0 & 0 & 0.9870622 & 0.9953476 & 0.9998515 & 0.9878769 & 0.9973377 & 0.9999817 & 0\\\\\n\t AC051642.1    & 0 & 0 & 0 & 0 & 0 & 0 & 0 & 0.9876825 & 0.9940142 & 0.9998527 & 0.9883220 & 0.9973377 & 0.9999817 & 0\\\\\n\t AC012067.1    & 0 & 0 & 0 & 0 & 0 & 0 & 0 & 0.9875537 & 0.9947062 & 0.9998563 & 0.9882423 & 0.9973377 & 0.9999817 & 0\\\\\n\t AL035681.1    & 0 & 0 & 0 & 0 & 0 & 0 & 0 & 0.9881650 & 0.9937184 & 0.9998590 & 0.9886571 & 0.9973377 & 0.9999817 & 0\\\\\n\t AL356215.1    & 0 & 0 & 0 & 0 & 0 & 0 & 0 & 0.9885921 & 0.9935415 & 0.9998650 & 0.9889367 & 0.9973377 & 0.9999817 & 0\\\\\n\t AC073569.1    & 0 & 0 & 0 & 0 & 0 & 0 & 0 & 0.9887911 & 0.9954684 & 0.9998852 & 0.9890865 & 0.9973377 & 0.9999817 & 0\\\\\n\t AC018512.1    & 0 & 0 & 0 & 0 & 0 & 0 & 0 & 0.9891268 & 0.9947386 & 0.9998854 & 0.9893238 & 0.9973377 & 0.9999817 & 0\\\\\n\t AC012360.1    & 0 & 0 & 0 & 0 & 0 & 0 & 0 & 0.9889635 & 0.9952593 & 0.9998867 & 0.9892097 & 0.9973377 & 0.9999817 & 0\\\\\n\t AC010760.1    & 0 & 0 & 0 & 0 & 0 & 0 & 0 & 0.9904861 & 0.9946570 & 0.9999065 & 0.9906340 & 0.9973377 & 0.9999817 & 0\\\\\n\t AL606500.1    & 0 & 0 & 0 & 0 & 0 & 0 & 0 & 0.9914631 & 0.9943867 & 0.9999180 & 0.9915618 & 0.9973377 & 0.9999817 & 0\\\\\n\t AC007421.1    & 0 & 0 & 0 & 0 & 0 & 0 & 0 & 0.9938712 & 1.0000000 & 0.9999705 & 0.9939207 & 1.0000000 & 0.9999817 & 0\\\\\n\t RP11-146D12.2 & 0 & 0 & 0 & 0 & 0 & 0 & 0 & 0.9951741 & 1.0000000 & 0.9999817 & 0.9951741 & 1.0000000 & 0.9999817 & 0\\\\\n\\end{tabular}\n",
            "text/plain": [
              "      gene_name     n_syn n_mis n_non n_spl wmis_cv    wnon_cv   wspl_cv  \n",
              "1     TP53          0      7    3     1     1560.63841 9493.6594 9493.6594\n",
              "2     LRP1B         4     10    1     1      236.83257  407.3807  407.3807\n",
              "3     FLG           1     12    1     0      294.68043  276.6120  276.6120\n",
              "4     TTN           8     24    0     0       71.33003    0.0000    0.0000\n",
              "5     MUC16         5     17    0     0      139.00742    0.0000    0.0000\n",
              "6     FAT4          4     13    0     0      264.77080    0.0000    0.0000\n",
              "7     RNF213        1      8    0     1      135.33323  232.8934  232.8934\n",
              "8     DNAH9         1      8    0     0      173.34333    0.0000    0.0000\n",
              "9     FAT3          1      8    0     0      171.55724    0.0000    0.0000\n",
              "10    DNAH5         1      8    0     0      169.04180    0.0000    0.0000\n",
              "11    AHNAK2        4      8    0     0      128.99929    0.0000    0.0000\n",
              "12    OBSCN         8      9    0     0       76.66128    0.0000    0.0000\n",
              "13    DNAH11        1      5    1     1      112.68714  379.2657  379.2657\n",
              "14    KIAA1109      3      7    0     0      155.45534    0.0000    0.0000\n",
              "15    ARID1A        1      0    4     0        0.00000 2079.2947 2079.2947\n",
              "16    SORCS1        3      5    0     0      373.84821    0.0000    0.0000\n",
              "17    SYNE1         4      7    0     0       83.18982    0.0000    0.0000\n",
              "18    PCLO          3      6    0     0      132.47549    0.0000    0.0000\n",
              "19    HMCN1         2      5    1     0       96.91470  164.3357  164.3357\n",
              "20    KMT2B         2      3    1     0       84.63748  414.3410  414.3410\n",
              "21    DST           1      2    0     0       28.99080    0.0000    0.0000\n",
              "22    NEB           0      0    0     0        0.00000    0.0000    0.0000\n",
              "23    MACF1         0      0    0     0        0.00000    0.0000    0.0000\n",
              "24    PLEC          0      0    0     0        0.00000    0.0000    0.0000\n",
              "25    MUC5B         0      0    0     0        0.00000    0.0000    0.0000\n",
              "26    FCGBP         0      0    0     0        0.00000    0.0000    0.0000\n",
              "27    RYR1          0      0    0     0        0.00000    0.0000    0.0000\n",
              "28    SYNE2         0      0    0     0        0.00000    0.0000    0.0000\n",
              "29    PKD1          0      0    0     0        0.00000    0.0000    0.0000\n",
              "30    LRP1          0      0    0     0        0.00000    0.0000    0.0000\n",
              "⋮     ⋮             ⋮     ⋮     ⋮     ⋮     ⋮          ⋮         ⋮        \n",
              "20062 AL139333.1    0     0     0     0     0          0         0        \n",
              "20063 AC013468.1    0     0     0     0     0          0         0        \n",
              "20064 AC008372.1    0     0     0     0     0          0         0        \n",
              "20065 AC068039.1    0     0     0     0     0          0         0        \n",
              "20066 AC003043.1    0     0     0     0     0          0         0        \n",
              "20067 AC022210.1    0     0     0     0     0          0         0        \n",
              "20068 AP002956.1    0     0     0     0     0          0         0        \n",
              "20069 AC073063.1    0     0     0     0     0          0         0        \n",
              "20070 RP11-295P9.3  0     0     0     0     0          0         0        \n",
              "20071 AC008387.1    0     0     0     0     0          0         0        \n",
              "20072 AC010368.2    0     0     0     0     0          0         0        \n",
              "20073 AP000304.1    0     0     0     0     0          0         0        \n",
              "20074 AC055736.1    0     0     0     0     0          0         0        \n",
              "20075 AC073528.1    0     0     0     0     0          0         0        \n",
              "20076 AC011308.1    0     0     0     0     0          0         0        \n",
              "20077 AP001925.1    0     0     0     0     0          0         0        \n",
              "20078 AL031663.1    0     0     0     0     0          0         0        \n",
              "20079 AL031320.1    0     0     0     0     0          0         0        \n",
              "20080 AL627171.1    0     0     0     0     0          0         0        \n",
              "20081 AC051642.1    0     0     0     0     0          0         0        \n",
              "20082 AC012067.1    0     0     0     0     0          0         0        \n",
              "20083 AL035681.1    0     0     0     0     0          0         0        \n",
              "20084 AL356215.1    0     0     0     0     0          0         0        \n",
              "20085 AC073569.1    0     0     0     0     0          0         0        \n",
              "20086 AC018512.1    0     0     0     0     0          0         0        \n",
              "20087 AC012360.1    0     0     0     0     0          0         0        \n",
              "20088 AC010760.1    0     0     0     0     0          0         0        \n",
              "20089 AL606500.1    0     0     0     0     0          0         0        \n",
              "20090 AC007421.1    0     0     0     0     0          0         0        \n",
              "20091 RP11-146D12.2 0     0     0     0     0          0         0        \n",
              "      pmis_cv      ptrunc_cv    pallsubs_cv  qmis_cv      qtrunc_cv   \n",
              "1     0.000000e+00 6.661338e-16 0.000000e+00 0.000000e+00 1.338329e-11\n",
              "2     0.000000e+00 7.550975e-06 0.000000e+00 0.000000e+00 4.403099e-02\n",
              "3     0.000000e+00 2.351947e-03 0.000000e+00 0.000000e+00 9.973377e-01\n",
              "4     0.000000e+00 8.004183e-01 0.000000e+00 0.000000e+00 9.973377e-01\n",
              "5     0.000000e+00 9.114424e-01 0.000000e+00 0.000000e+00 9.973377e-01\n",
              "6     0.000000e+00 9.408534e-01 0.000000e+00 0.000000e+00 9.973377e-01\n",
              "7     2.442491e-15 2.836711e-03 3.330669e-16 4.907208e-12 9.973377e-01\n",
              "8     3.330669e-16 9.266185e-01 3.441691e-15 8.364559e-13 9.973377e-01\n",
              "9     3.330669e-16 9.411749e-01 3.774758e-15 8.364559e-13 9.973377e-01\n",
              "10    4.440892e-16 9.197308e-01 4.218847e-15 9.913551e-13 9.973377e-01\n",
              "11    3.663736e-15 9.448541e-01 3.663736e-14 6.691647e-12 9.973377e-01\n",
              "12    7.993606e-15 9.052653e-01 7.860379e-14 1.338329e-11 9.973377e-01\n",
              "13    9.964249e-10 8.766310e-06 4.004574e-13 1.177598e-06 4.403099e-02\n",
              "14    4.996004e-14 9.152872e-01 4.765077e-13 7.721131e-11 9.973377e-01\n",
              "15    8.209532e-01 3.137490e-13 2.844280e-12 9.834822e-01 3.151766e-09\n",
              "16    2.239320e-12 9.572739e-01 2.005518e-11 3.213584e-09 9.973377e-01\n",
              "17    4.137579e-12 8.837996e-01 3.627931e-11 5.541874e-09 9.973377e-01\n",
              "18    8.176348e-12 9.249037e-01 7.117029e-11 1.026694e-08 9.973377e-01\n",
              "19    2.143709e-09 4.152558e-03 2.716312e-10 2.392736e-06 9.973377e-01\n",
              "20    5.371391e-06 1.516809e-03 2.094636e-07 5.679822e-03 9.973377e-01\n",
              "21    1.940028e-03 8.958963e-01 8.137455e-03 9.834822e-01 9.973377e-01\n",
              "22    6.805051e-01 8.885336e-01 9.097357e-01 9.834822e-01 9.973377e-01\n",
              "23    7.077575e-01 8.940169e-01 9.239127e-01 9.834822e-01 9.973377e-01\n",
              "24    7.008860e-01 9.332835e-01 9.256307e-01 9.834822e-01 9.973377e-01\n",
              "25    7.061492e-01 9.438551e-01 9.290834e-01 9.834822e-01 9.973377e-01\n",
              "26    7.071388e-01 9.395988e-01 9.291857e-01 9.834822e-01 9.973377e-01\n",
              "27    7.137289e-01 9.203688e-01 9.302636e-01 9.834822e-01 9.973377e-01\n",
              "28    7.244918e-01 9.003887e-01 9.324418e-01 9.834822e-01 9.973377e-01\n",
              "29    7.190193e-01 9.419006e-01 9.348465e-01 9.834822e-01 9.973377e-01\n",
              "30    7.282613e-01 9.270145e-01 9.374869e-01 9.834822e-01 9.973377e-01\n",
              "⋮     ⋮            ⋮            ⋮            ⋮            ⋮           \n",
              "20062 0.9855776    0.9945218    0.9998131    0.9871007    0.9973377   \n",
              "20063 0.9854574    0.9948518    0.9998131    0.9870295    0.9973377   \n",
              "20064 0.9861225    0.9939179    0.9998197    0.9874984    0.9973377   \n",
              "20065 0.9861761    0.9938218    0.9998199    0.9874984    0.9973377   \n",
              "20066 0.9862968    0.9936508    0.9998209    0.9874984    0.9973377   \n",
              "20067 0.9864053    0.9943122    0.9998294    0.9874984    0.9973377   \n",
              "20068 0.9865710    0.9939439    0.9998296    0.9876033    0.9973377   \n",
              "20069 0.9863703    0.9944352    0.9998298    0.9874984    0.9973377   \n",
              "20070 0.9864171    0.9944687    0.9998311    0.9874984    0.9973377   \n",
              "20071 0.9867625    0.9937139    0.9998313    0.9877458    0.9973377   \n",
              "20072 0.9869734    0.9934017    0.9998325    0.9878769    0.9973377   \n",
              "20073 0.9870902    0.9939357    0.9998402    0.9878769    0.9973377   \n",
              "20074 0.9862649    0.9962553    0.9998408    0.9874984    0.9973377   \n",
              "20075 0.9884720    0.9918420    0.9998434    0.9888657    0.9973377   \n",
              "20076 0.9874388    0.9935705    0.9998436    0.9881765    0.9973377   \n",
              "20077 0.9878024    0.9932200    0.9998470    0.9883928    0.9973377   \n",
              "20078 0.9870309    0.9950388    0.9998486    0.9878769    0.9973377   \n",
              "20079 0.9884335    0.9924417    0.9998501    0.9888657    0.9973377   \n",
              "20080 0.9870622    0.9953476    0.9998515    0.9878769    0.9973377   \n",
              "20081 0.9876825    0.9940142    0.9998527    0.9883220    0.9973377   \n",
              "20082 0.9875537    0.9947062    0.9998563    0.9882423    0.9973377   \n",
              "20083 0.9881650    0.9937184    0.9998590    0.9886571    0.9973377   \n",
              "20084 0.9885921    0.9935415    0.9998650    0.9889367    0.9973377   \n",
              "20085 0.9887911    0.9954684    0.9998852    0.9890865    0.9973377   \n",
              "20086 0.9891268    0.9947386    0.9998854    0.9893238    0.9973377   \n",
              "20087 0.9889635    0.9952593    0.9998867    0.9892097    0.9973377   \n",
              "20088 0.9904861    0.9946570    0.9999065    0.9906340    0.9973377   \n",
              "20089 0.9914631    0.9943867    0.9999180    0.9915618    0.9973377   \n",
              "20090 0.9938712    1.0000000    0.9999705    0.9939207    1.0000000   \n",
              "20091 0.9951741    1.0000000    0.9999817    0.9951741    1.0000000   \n",
              "      qallsubs_cv  percentage_samples\n",
              "1     0.000000e+00 0.2631579         \n",
              "2     0.000000e+00 0.2105263         \n",
              "3     0.000000e+00 0.2368421         \n",
              "4     0.000000e+00 0.3947368         \n",
              "5     0.000000e+00 0.4210526         \n",
              "6     0.000000e+00 0.3157895         \n",
              "7     9.559496e-13 0.1842105         \n",
              "8     8.426519e-12 0.2105263         \n",
              "9     8.426519e-12 0.2105263         \n",
              "10    8.476086e-12 0.2105263         \n",
              "11    6.691647e-11 0.1842105         \n",
              "12    1.316024e-10 0.2894737         \n",
              "13    6.188916e-10 0.1842105         \n",
              "14    6.838226e-10 0.1842105         \n",
              "15    3.809629e-09 0.1052632         \n",
              "16    2.518304e-08 0.1578947         \n",
              "17    4.287575e-08 0.1842105         \n",
              "18    7.943791e-08 0.1315789         \n",
              "19    2.872285e-07 0.1052632         \n",
              "20    2.104167e-04 0.1052632         \n",
              "21    9.999817e-01 0.1052632         \n",
              "22    9.999817e-01 0.0000000         \n",
              "23    9.999817e-01 0.0000000         \n",
              "24    9.999817e-01 0.0000000         \n",
              "25    9.999817e-01 0.0000000         \n",
              "26    9.999817e-01 0.0000000         \n",
              "27    9.999817e-01 0.0000000         \n",
              "28    9.999817e-01 0.0000000         \n",
              "29    9.999817e-01 0.0000000         \n",
              "30    9.999817e-01 0.0000000         \n",
              "⋮     ⋮            ⋮                 \n",
              "20062 0.9999817    0                 \n",
              "20063 0.9999817    0                 \n",
              "20064 0.9999817    0                 \n",
              "20065 0.9999817    0                 \n",
              "20066 0.9999817    0                 \n",
              "20067 0.9999817    0                 \n",
              "20068 0.9999817    0                 \n",
              "20069 0.9999817    0                 \n",
              "20070 0.9999817    0                 \n",
              "20071 0.9999817    0                 \n",
              "20072 0.9999817    0                 \n",
              "20073 0.9999817    0                 \n",
              "20074 0.9999817    0                 \n",
              "20075 0.9999817    0                 \n",
              "20076 0.9999817    0                 \n",
              "20077 0.9999817    0                 \n",
              "20078 0.9999817    0                 \n",
              "20079 0.9999817    0                 \n",
              "20080 0.9999817    0                 \n",
              "20081 0.9999817    0                 \n",
              "20082 0.9999817    0                 \n",
              "20083 0.9999817    0                 \n",
              "20084 0.9999817    0                 \n",
              "20085 0.9999817    0                 \n",
              "20086 0.9999817    0                 \n",
              "20087 0.9999817    0                 \n",
              "20088 0.9999817    0                 \n",
              "20089 0.9999817    0                 \n",
              "20090 0.9999817    0                 \n",
              "20091 0.9999817    0                 "
            ]
          },
          "metadata": {}
        }
      ]
    },
    {
      "cell_type": "code",
      "source": [
        "signif_genes = results[results$qallsubs_cv<0.1, c(\"gene_name\",\"qallsubs_cv\",\"percentage_samples\")]\n",
        "rownames(signif_genes) = NULL\n",
        "signif_genes"
      ],
      "metadata": {
        "colab": {
          "base_uri": "https://localhost:8080/",
          "height": 725
        },
        "id": "ptZbIUggCfO-",
        "outputId": "11e19a11-1166-4da3-abd7-2ed71120fc11"
      },
      "execution_count": 18,
      "outputs": [
        {
          "output_type": "display_data",
          "data": {
            "text/html": [
              "<table class=\"dataframe\">\n",
              "<caption>A data.frame: 20 × 3</caption>\n",
              "<thead>\n",
              "\t<tr><th scope=col>gene_name</th><th scope=col>qallsubs_cv</th><th scope=col>percentage_samples</th></tr>\n",
              "\t<tr><th scope=col>&lt;chr&gt;</th><th scope=col>&lt;dbl&gt;</th><th scope=col>&lt;dbl&gt;</th></tr>\n",
              "</thead>\n",
              "<tbody>\n",
              "\t<tr><td>TP53    </td><td>0.000000e+00</td><td>0.2631579</td></tr>\n",
              "\t<tr><td>LRP1B   </td><td>0.000000e+00</td><td>0.2105263</td></tr>\n",
              "\t<tr><td>FLG     </td><td>0.000000e+00</td><td>0.2368421</td></tr>\n",
              "\t<tr><td>TTN     </td><td>0.000000e+00</td><td>0.3947368</td></tr>\n",
              "\t<tr><td>MUC16   </td><td>0.000000e+00</td><td>0.4210526</td></tr>\n",
              "\t<tr><td>FAT4    </td><td>0.000000e+00</td><td>0.3157895</td></tr>\n",
              "\t<tr><td>RNF213  </td><td>9.559496e-13</td><td>0.1842105</td></tr>\n",
              "\t<tr><td>DNAH9   </td><td>8.426519e-12</td><td>0.2105263</td></tr>\n",
              "\t<tr><td>FAT3    </td><td>8.426519e-12</td><td>0.2105263</td></tr>\n",
              "\t<tr><td>DNAH5   </td><td>8.476086e-12</td><td>0.2105263</td></tr>\n",
              "\t<tr><td>AHNAK2  </td><td>6.691647e-11</td><td>0.1842105</td></tr>\n",
              "\t<tr><td>OBSCN   </td><td>1.316024e-10</td><td>0.2894737</td></tr>\n",
              "\t<tr><td>DNAH11  </td><td>6.188916e-10</td><td>0.1842105</td></tr>\n",
              "\t<tr><td>KIAA1109</td><td>6.838226e-10</td><td>0.1842105</td></tr>\n",
              "\t<tr><td>ARID1A  </td><td>3.809629e-09</td><td>0.1052632</td></tr>\n",
              "\t<tr><td>SORCS1  </td><td>2.518304e-08</td><td>0.1578947</td></tr>\n",
              "\t<tr><td>SYNE1   </td><td>4.287575e-08</td><td>0.1842105</td></tr>\n",
              "\t<tr><td>PCLO    </td><td>7.943791e-08</td><td>0.1315789</td></tr>\n",
              "\t<tr><td>HMCN1   </td><td>2.872285e-07</td><td>0.1052632</td></tr>\n",
              "\t<tr><td>KMT2B   </td><td>2.104167e-04</td><td>0.1052632</td></tr>\n",
              "</tbody>\n",
              "</table>\n"
            ],
            "text/markdown": "\nA data.frame: 20 × 3\n\n| gene_name &lt;chr&gt; | qallsubs_cv &lt;dbl&gt; | percentage_samples &lt;dbl&gt; |\n|---|---|---|\n| TP53     | 0.000000e+00 | 0.2631579 |\n| LRP1B    | 0.000000e+00 | 0.2105263 |\n| FLG      | 0.000000e+00 | 0.2368421 |\n| TTN      | 0.000000e+00 | 0.3947368 |\n| MUC16    | 0.000000e+00 | 0.4210526 |\n| FAT4     | 0.000000e+00 | 0.3157895 |\n| RNF213   | 9.559496e-13 | 0.1842105 |\n| DNAH9    | 8.426519e-12 | 0.2105263 |\n| FAT3     | 8.426519e-12 | 0.2105263 |\n| DNAH5    | 8.476086e-12 | 0.2105263 |\n| AHNAK2   | 6.691647e-11 | 0.1842105 |\n| OBSCN    | 1.316024e-10 | 0.2894737 |\n| DNAH11   | 6.188916e-10 | 0.1842105 |\n| KIAA1109 | 6.838226e-10 | 0.1842105 |\n| ARID1A   | 3.809629e-09 | 0.1052632 |\n| SORCS1   | 2.518304e-08 | 0.1578947 |\n| SYNE1    | 4.287575e-08 | 0.1842105 |\n| PCLO     | 7.943791e-08 | 0.1315789 |\n| HMCN1    | 2.872285e-07 | 0.1052632 |\n| KMT2B    | 2.104167e-04 | 0.1052632 |\n\n",
            "text/latex": "A data.frame: 20 × 3\n\\begin{tabular}{lll}\n gene\\_name & qallsubs\\_cv & percentage\\_samples\\\\\n <chr> & <dbl> & <dbl>\\\\\n\\hline\n\t TP53     & 0.000000e+00 & 0.2631579\\\\\n\t LRP1B    & 0.000000e+00 & 0.2105263\\\\\n\t FLG      & 0.000000e+00 & 0.2368421\\\\\n\t TTN      & 0.000000e+00 & 0.3947368\\\\\n\t MUC16    & 0.000000e+00 & 0.4210526\\\\\n\t FAT4     & 0.000000e+00 & 0.3157895\\\\\n\t RNF213   & 9.559496e-13 & 0.1842105\\\\\n\t DNAH9    & 8.426519e-12 & 0.2105263\\\\\n\t FAT3     & 8.426519e-12 & 0.2105263\\\\\n\t DNAH5    & 8.476086e-12 & 0.2105263\\\\\n\t AHNAK2   & 6.691647e-11 & 0.1842105\\\\\n\t OBSCN    & 1.316024e-10 & 0.2894737\\\\\n\t DNAH11   & 6.188916e-10 & 0.1842105\\\\\n\t KIAA1109 & 6.838226e-10 & 0.1842105\\\\\n\t ARID1A   & 3.809629e-09 & 0.1052632\\\\\n\t SORCS1   & 2.518304e-08 & 0.1578947\\\\\n\t SYNE1    & 4.287575e-08 & 0.1842105\\\\\n\t PCLO     & 7.943791e-08 & 0.1315789\\\\\n\t HMCN1    & 2.872285e-07 & 0.1052632\\\\\n\t KMT2B    & 2.104167e-04 & 0.1052632\\\\\n\\end{tabular}\n",
            "text/plain": [
              "   gene_name qallsubs_cv  percentage_samples\n",
              "1  TP53      0.000000e+00 0.2631579         \n",
              "2  LRP1B     0.000000e+00 0.2105263         \n",
              "3  FLG       0.000000e+00 0.2368421         \n",
              "4  TTN       0.000000e+00 0.3947368         \n",
              "5  MUC16     0.000000e+00 0.4210526         \n",
              "6  FAT4      0.000000e+00 0.3157895         \n",
              "7  RNF213    9.559496e-13 0.1842105         \n",
              "8  DNAH9     8.426519e-12 0.2105263         \n",
              "9  FAT3      8.426519e-12 0.2105263         \n",
              "10 DNAH5     8.476086e-12 0.2105263         \n",
              "11 AHNAK2    6.691647e-11 0.1842105         \n",
              "12 OBSCN     1.316024e-10 0.2894737         \n",
              "13 DNAH11    6.188916e-10 0.1842105         \n",
              "14 KIAA1109  6.838226e-10 0.1842105         \n",
              "15 ARID1A    3.809629e-09 0.1052632         \n",
              "16 SORCS1    2.518304e-08 0.1578947         \n",
              "17 SYNE1     4.287575e-08 0.1842105         \n",
              "18 PCLO      7.943791e-08 0.1315789         \n",
              "19 HMCN1     2.872285e-07 0.1052632         \n",
              "20 KMT2B     2.104167e-04 0.1052632         "
            ]
          },
          "metadata": {}
        }
      ]
    },
    {
      "cell_type": "markdown",
      "source": [
        "(dndsout$globaldnds) table with the global MLEs for the dN/dS ratios across all genes. dN/dS ratios with associated confidence intervals are calculated for missense, nonsense and essential splice site substitutions separately, as well as for all non-synonymous substitutions (wall) and for all truncating substitutions together (wtru), which include nonsense and essential splice site mutations.\n"
      ],
      "metadata": {
        "id": "7_zaAbdhCwWC"
      }
    },
    {
      "cell_type": "code",
      "source": [
        "print(dndsout$globaldnds)"
      ],
      "metadata": {
        "colab": {
          "base_uri": "https://localhost:8080/"
        },
        "id": "cXpxF-cSCozw",
        "outputId": "ae6fae88-5e75-4372-c6a4-d6a54574cae5"
      },
      "execution_count": 11,
      "outputs": [
        {
          "output_type": "stream",
          "name": "stdout",
          "text": [
            "     name       mle     cilow   cihigh\n",
            "wmis wmis 1.3789981 1.0105016 1.881873\n",
            "wnon wnon 1.7888116 0.9160508 3.493089\n",
            "wspl wspl 0.9122673 0.3117680 2.669394\n",
            "wtru wtru 1.4508945 0.8028623 2.621988\n",
            "wall wall 1.3917662 1.0234687 1.892596\n"
          ]
        }
      ]
    },
    {
      "cell_type": "markdown",
      "source": [
        "annotated table of coding mutations (annotmuts)"
      ],
      "metadata": {
        "id": "ahSgJBEagIZ3"
      }
    },
    {
      "cell_type": "code",
      "source": [
        "head(dndsout$annotmuts)"
      ],
      "metadata": {
        "colab": {
          "base_uri": "https://localhost:8080/",
          "height": 286
        },
        "id": "JHdbiWvBDFxZ",
        "outputId": "15874cd4-e162-4998-aad0-8b26476d3313"
      },
      "execution_count": 12,
      "outputs": [
        {
          "output_type": "display_data",
          "data": {
            "text/html": [
              "<table class=\"dataframe\">\n",
              "<caption>A tibble: 6 × 16</caption>\n",
              "<thead>\n",
              "\t<tr><th scope=col>sampleID</th><th scope=col>chr</th><th scope=col>pos</th><th scope=col>ref</th><th scope=col>mut</th><th scope=col>gene</th><th scope=col>strand</th><th scope=col>ref_cod</th><th scope=col>mut_cod</th><th scope=col>ref3_cod</th><th scope=col>mut3_cod</th><th scope=col>aachange</th><th scope=col>ntchange</th><th scope=col>codonsub</th><th scope=col>impact</th><th scope=col>pid</th></tr>\n",
              "\t<tr><th scope=col>&lt;chr&gt;</th><th scope=col>&lt;chr&gt;</th><th scope=col>&lt;dbl&gt;</th><th scope=col>&lt;chr&gt;</th><th scope=col>&lt;chr&gt;</th><th scope=col>&lt;chr&gt;</th><th scope=col>&lt;int&gt;</th><th scope=col>&lt;chr&gt;</th><th scope=col>&lt;chr&gt;</th><th scope=col>&lt;chr[1d]&gt;</th><th scope=col>&lt;chr[1d]&gt;</th><th scope=col>&lt;chr[1d]&gt;</th><th scope=col>&lt;chr[1d]&gt;</th><th scope=col>&lt;chr[1d]&gt;</th><th scope=col>&lt;chr[1d]&gt;</th><th scope=col>&lt;chr&gt;</th></tr>\n",
              "</thead>\n",
              "<tbody>\n",
              "\t<tr><td>TCGA-3M-AB46</td><td>2</td><td>140997082</td><td>C</td><td>G</td><td>LRP1B</td><td>-1</td><td>G</td><td>C</td><td>TGC</td><td>TCC</td><td>V4448V </td><td>G13344C</td><td>GTG&gt;GTC</td><td>Synonymous</td><td>ENSP00000374135</td></tr>\n",
              "\t<tr><td>TCGA-3M-AB46</td><td>2</td><td>141356383</td><td>C</td><td>A</td><td>LRP1B</td><td>-1</td><td>G</td><td>T</td><td>GGA</td><td>GTA</td><td>W2337C </td><td>G7011T </td><td>TGG&gt;TGT</td><td><span style=white-space:pre-wrap>Missense  </span></td><td>ENSP00000374135</td></tr>\n",
              "\t<tr><td>TCGA-3M-AB46</td><td>2</td><td>141643736</td><td>A</td><td>G</td><td>LRP1B</td><td>-1</td><td>T</td><td>C</td><td>ATA</td><td>ACA</td><td>I1312T </td><td>T3935C </td><td>ATA&gt;ACA</td><td><span style=white-space:pre-wrap>Missense  </span></td><td>ENSP00000374135</td></tr>\n",
              "\t<tr><td>TCGA-3M-AB46</td><td>2</td><td>179517425</td><td>C</td><td>T</td><td><span style=white-space:pre-wrap>TTN  </span></td><td>-1</td><td>G</td><td>A</td><td>AGT</td><td>AAT</td><td>V13000M</td><td>G38998A</td><td>GTG&gt;ATG</td><td><span style=white-space:pre-wrap>Missense  </span></td><td>ENSP00000467141</td></tr>\n",
              "\t<tr><td>TCGA-3M-AB46</td><td>2</td><td>179586588</td><td>T</td><td>A</td><td><span style=white-space:pre-wrap>TTN  </span></td><td>-1</td><td>A</td><td>T</td><td>CAG</td><td>CTG</td><td>Q7601L </td><td>A22802T</td><td>CAG&gt;CTG</td><td><span style=white-space:pre-wrap>Missense  </span></td><td>ENSP00000467141</td></tr>\n",
              "\t<tr><td>TCGA-3M-AB47</td><td>1</td><td>152284010</td><td>T</td><td>G</td><td><span style=white-space:pre-wrap>FLG  </span></td><td>-1</td><td>A</td><td>C</td><td>CAT</td><td>CCT</td><td>I1118L </td><td>A3352C </td><td>ATC&gt;CTC</td><td><span style=white-space:pre-wrap>Missense  </span></td><td>ENSP00000357789</td></tr>\n",
              "</tbody>\n",
              "</table>\n"
            ],
            "text/markdown": "\nA tibble: 6 × 16\n\n| sampleID &lt;chr&gt; | chr &lt;chr&gt; | pos &lt;dbl&gt; | ref &lt;chr&gt; | mut &lt;chr&gt; | gene &lt;chr&gt; | strand &lt;int&gt; | ref_cod &lt;chr&gt; | mut_cod &lt;chr&gt; | ref3_cod &lt;chr[1d]&gt; | mut3_cod &lt;chr[1d]&gt; | aachange &lt;chr[1d]&gt; | ntchange &lt;chr[1d]&gt; | codonsub &lt;chr[1d]&gt; | impact &lt;chr[1d]&gt; | pid &lt;chr&gt; |\n|---|---|---|---|---|---|---|---|---|---|---|---|---|---|---|---|\n| TCGA-3M-AB46 | 2 | 140997082 | C | G | LRP1B | -1 | G | C | TGC | TCC | V4448V  | G13344C | GTG&gt;GTC | Synonymous | ENSP00000374135 |\n| TCGA-3M-AB46 | 2 | 141356383 | C | A | LRP1B | -1 | G | T | GGA | GTA | W2337C  | G7011T  | TGG&gt;TGT | Missense   | ENSP00000374135 |\n| TCGA-3M-AB46 | 2 | 141643736 | A | G | LRP1B | -1 | T | C | ATA | ACA | I1312T  | T3935C  | ATA&gt;ACA | Missense   | ENSP00000374135 |\n| TCGA-3M-AB46 | 2 | 179517425 | C | T | TTN   | -1 | G | A | AGT | AAT | V13000M | G38998A | GTG&gt;ATG | Missense   | ENSP00000467141 |\n| TCGA-3M-AB46 | 2 | 179586588 | T | A | TTN   | -1 | A | T | CAG | CTG | Q7601L  | A22802T | CAG&gt;CTG | Missense   | ENSP00000467141 |\n| TCGA-3M-AB47 | 1 | 152284010 | T | G | FLG   | -1 | A | C | CAT | CCT | I1118L  | A3352C  | ATC&gt;CTC | Missense   | ENSP00000357789 |\n\n",
            "text/latex": "A tibble: 6 × 16\n\\begin{tabular}{llllllllllllllll}\n sampleID & chr & pos & ref & mut & gene & strand & ref\\_cod & mut\\_cod & ref3\\_cod & mut3\\_cod & aachange & ntchange & codonsub & impact & pid\\\\\n <chr> & <chr> & <dbl> & <chr> & <chr> & <chr> & <int> & <chr> & <chr> & <chr{[}1d{]}> & <chr{[}1d{]}> & <chr{[}1d{]}> & <chr{[}1d{]}> & <chr{[}1d{]}> & <chr{[}1d{]}> & <chr>\\\\\n\\hline\n\t TCGA-3M-AB46 & 2 & 140997082 & C & G & LRP1B & -1 & G & C & TGC & TCC & V4448V  & G13344C & GTG>GTC & Synonymous & ENSP00000374135\\\\\n\t TCGA-3M-AB46 & 2 & 141356383 & C & A & LRP1B & -1 & G & T & GGA & GTA & W2337C  & G7011T  & TGG>TGT & Missense   & ENSP00000374135\\\\\n\t TCGA-3M-AB46 & 2 & 141643736 & A & G & LRP1B & -1 & T & C & ATA & ACA & I1312T  & T3935C  & ATA>ACA & Missense   & ENSP00000374135\\\\\n\t TCGA-3M-AB46 & 2 & 179517425 & C & T & TTN   & -1 & G & A & AGT & AAT & V13000M & G38998A & GTG>ATG & Missense   & ENSP00000467141\\\\\n\t TCGA-3M-AB46 & 2 & 179586588 & T & A & TTN   & -1 & A & T & CAG & CTG & Q7601L  & A22802T & CAG>CTG & Missense   & ENSP00000467141\\\\\n\t TCGA-3M-AB47 & 1 & 152284010 & T & G & FLG   & -1 & A & C & CAT & CCT & I1118L  & A3352C  & ATC>CTC & Missense   & ENSP00000357789\\\\\n\\end{tabular}\n",
            "text/plain": [
              "  sampleID     chr pos       ref mut gene  strand ref_cod mut_cod ref3_cod\n",
              "1 TCGA-3M-AB46 2   140997082 C   G   LRP1B -1     G       C       TGC     \n",
              "2 TCGA-3M-AB46 2   141356383 C   A   LRP1B -1     G       T       GGA     \n",
              "3 TCGA-3M-AB46 2   141643736 A   G   LRP1B -1     T       C       ATA     \n",
              "4 TCGA-3M-AB46 2   179517425 C   T   TTN   -1     G       A       AGT     \n",
              "5 TCGA-3M-AB46 2   179586588 T   A   TTN   -1     A       T       CAG     \n",
              "6 TCGA-3M-AB47 1   152284010 T   G   FLG   -1     A       C       CAT     \n",
              "  mut3_cod aachange ntchange codonsub impact     pid            \n",
              "1 TCC      V4448V   G13344C  GTG>GTC  Synonymous ENSP00000374135\n",
              "2 GTA      W2337C   G7011T   TGG>TGT  Missense   ENSP00000374135\n",
              "3 ACA      I1312T   T3935C   ATA>ACA  Missense   ENSP00000374135\n",
              "4 AAT      V13000M  G38998A  GTG>ATG  Missense   ENSP00000467141\n",
              "5 CTG      Q7601L   A22802T  CAG>CTG  Missense   ENSP00000467141\n",
              "6 CCT      I1118L   A3352C   ATC>CTC  Missense   ENSP00000357789"
            ]
          },
          "metadata": {}
        }
      ]
    },
    {
      "cell_type": "code",
      "source": [],
      "metadata": {
        "id": "odp6JbfBnsr8"
      },
      "execution_count": null,
      "outputs": []
    }
  ]
}