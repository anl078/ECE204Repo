{
 "cells": [
  {
   "cell_type": "code",
   "execution_count": 22,
   "id": "af3e69e4-bd85-499f-825e-cc199c7a380f",
   "metadata": {},
   "outputs": [],
   "source": [
    "import pandas as pd\n",
    "from sklearn.decomposition import NMF"
   ]
  },
  {
   "cell_type": "code",
   "execution_count": 23,
   "id": "fdbba653",
   "metadata": {},
   "outputs": [
    {
     "name": "stdout",
     "output_type": "stream",
     "text": [
      "Tool       | Installed \n",
      "-----------------------\n",
      "curl       | True      \n",
      "wget       | False     \n",
      "rsync      | False     \n"
     ]
    },
    {
     "name": "stderr",
     "output_type": "stream",
     "text": [
      "INFO - GRCh37 is already installed.\n"
     ]
    },
    {
     "name": "stdout",
     "output_type": "stream",
     "text": [
      "All reference files have been created.\n",
      "To proceed with matrix_generation, please provide the path to your vcf files and an appropriate output path.\n",
      "Installation complete.\n"
     ]
    }
   ],
   "source": [
    "from SigProfilerMatrixGenerator import install as genInstall\n",
    "genInstall.install('GRCh37', rsync=False, bash=True)"
   ]
  },
  {
   "cell_type": "code",
   "execution_count": 24,
   "id": "797d6f6e-02c2-476c-839b-b9fc1b07b3cf",
   "metadata": {},
   "outputs": [
    {
     "name": "stdout",
     "output_type": "stream",
     "text": [
      "The given input files do not appear to be in the correct MAF format. Skipping this file:  mut.maf\n",
      "Starting matrix generation for SNVs and DINUCs...Completed! Elapsed time: 2.89 seconds.\n",
      "Matrices generated for 1 samples with 0 errors. Total of 12 SNVs, 0 DINUCs, and 0 INDELs were successfully analyzed.\n"
     ]
    }
   ],
   "source": [
    "from SigProfilerMatrixGenerator.scripts import SigProfilerMatrixGeneratorFunc as matGen\n",
    "matrices = matGen.SigProfilerMatrixGeneratorFunc('TCGA.STAD.mutations', 'GRCh37', '/Users/andyl/Downloads/Project1Code/sigsolve',plot=False, exome=False, bed_file=None, chrom_based=False, tsb_stat=False, seqInfo=False, cushion=100)"
   ]
  },
  {
   "cell_type": "code",
   "execution_count": 6,
   "id": "38996906-2d2d-40f8-bdcc-e586773bf418",
   "metadata": {},
   "outputs": [
    {
     "ename": "NameError",
     "evalue": "name 'matrices' is not defined",
     "output_type": "error",
     "traceback": [
      "\u001b[31m---------------------------------------------------------------------------\u001b[39m",
      "\u001b[31mNameError\u001b[39m                                 Traceback (most recent call last)",
      "\u001b[36mCell\u001b[39m\u001b[36m \u001b[39m\u001b[32mIn[6]\u001b[39m\u001b[32m, line 1\u001b[39m\n\u001b[32m----> \u001b[39m\u001b[32m1\u001b[39m \u001b[38;5;28mprint\u001b[39m(\u001b[43mmatrices\u001b[49m)\n",
      "\u001b[31mNameError\u001b[39m: name 'matrices' is not defined"
     ]
    }
   ],
   "source": [
    "print(matrices)"
   ]
  },
  {
   "cell_type": "code",
   "execution_count": null,
   "id": "9ba57830-4662-4178-8182-da7828340021",
   "metadata": {},
   "outputs": [],
   "source": [
    "df_meta = pd.read_table('TCGA.STAD.metadata.txt', sep='\\t')\n",
    "df_exp = pd.read_table('TCGA.STAD.expression.txt', sep='\\t')\n",
    "df_mut = pd.read_table('TCGA.STAD.mutations.txt', sep='\\t')"
   ]
  },
  {
   "cell_type": "code",
   "execution_count": null,
   "id": "a089826b-c822-4fbc-881e-3717ee2fdeda",
   "metadata": {},
   "outputs": [],
   "source": [
    "df_input = df_mut[['Hugo_Symbol', 'Entrez_Gene_Id', 'Center', 'NCBI_Build', 'Chromosome','Start_Position', 'End_Position', 'Strand', 'Variant_Type', 'Reference_Allele', 'Tumor_Seq_Allele1', 'Tumor_Seq_Allele2', 'dbSNP_RS', 'dbSNP_Val_Status', 'Tumor_Sample_Barcode']]\n",
    "df_input.to_csv('mut.maf', sep='\\t', index=False)"
   ]
  },
  {
   "cell_type": "code",
   "execution_count": 4,
   "id": "1fe659d9-6246-4e58-b8dd-412b21df3fc8",
   "metadata": {},
   "outputs": [
    {
     "name": "stdout",
     "output_type": "stream",
     "text": [
      "          patient_id  type  age_at_initial_pathologic_diagnosis  gender  \\\n",
      "0       TCGA-3M-AB46  STAD                                 70.0    MALE   \n",
      "1       TCGA-3M-AB46  STAD                                 70.0    MALE   \n",
      "2       TCGA-3M-AB46  STAD                                 70.0    MALE   \n",
      "3       TCGA-3M-AB46  STAD                                 70.0    MALE   \n",
      "4       TCGA-3M-AB46  STAD                                 70.0    MALE   \n",
      "...              ...   ...                                  ...     ...   \n",
      "234936  TCGA-ZQ-A9CR  STAD                                 79.0  FEMALE   \n",
      "234937  TCGA-ZQ-A9CR  STAD                                 79.0  FEMALE   \n",
      "234938  TCGA-ZQ-A9CR  STAD                                 79.0  FEMALE   \n",
      "234939  TCGA-ZQ-A9CR  STAD                                 79.0  FEMALE   \n",
      "234940  TCGA-ZQ-A9CR  STAD                                 79.0  FEMALE   \n",
      "\n",
      "         race ajcc_pathologic_tumor_stage  \\\n",
      "0       WHITE                    Stage IB   \n",
      "1       WHITE                    Stage IB   \n",
      "2       WHITE                    Stage IB   \n",
      "3       WHITE                    Stage IB   \n",
      "4       WHITE                    Stage IB   \n",
      "...       ...                         ...   \n",
      "234936  WHITE                  Stage IIIC   \n",
      "234937  WHITE                  Stage IIIC   \n",
      "234938  WHITE                  Stage IIIC   \n",
      "234939  WHITE                  Stage IIIC   \n",
      "234940  WHITE                  Stage IIIC   \n",
      "\n",
      "                                        histological_type histological_grade  \\\n",
      "0       Stomach, Adenocarcinoma, Not Otherwise Specifi...                 G2   \n",
      "1       Stomach, Adenocarcinoma, Not Otherwise Specifi...                 G2   \n",
      "2       Stomach, Adenocarcinoma, Not Otherwise Specifi...                 G2   \n",
      "3       Stomach, Adenocarcinoma, Not Otherwise Specifi...                 G2   \n",
      "4       Stomach, Adenocarcinoma, Not Otherwise Specifi...                 G2   \n",
      "...                                                   ...                ...   \n",
      "234936   Stomach, Intestinal Adenocarcinoma, Tubular Type                 G3   \n",
      "234937   Stomach, Intestinal Adenocarcinoma, Tubular Type                 G3   \n",
      "234938   Stomach, Intestinal Adenocarcinoma, Tubular Type                 G3   \n",
      "234939   Stomach, Intestinal Adenocarcinoma, Tubular Type                 G3   \n",
      "234940   Stomach, Intestinal Adenocarcinoma, Tubular Type                 G3   \n",
      "\n",
      "       tumor_status vital_status  ...               SIFT  \\\n",
      "0        TUMOR FREE        Alive  ...     deleterious(0)   \n",
      "1        TUMOR FREE        Alive  ...     deleterious(0)   \n",
      "2        TUMOR FREE        Alive  ...     deleterious(0)   \n",
      "3        TUMOR FREE        Alive  ...    tolerated(0.08)   \n",
      "4        TUMOR FREE        Alive  ...  deleterious(0.01)   \n",
      "...             ...          ...  ...                ...   \n",
      "234936          NaN         Dead  ...                  .   \n",
      "234937          NaN         Dead  ...                  .   \n",
      "234938          NaN         Dead  ...    tolerated(0.09)   \n",
      "234939          NaN         Dead  ...    tolerated(0.05)   \n",
      "234940          NaN         Dead  ...                  .   \n",
      "\n",
      "                        PolyPhen  \\\n",
      "0           probably_damaging(1)   \n",
      "1        possibly_damaging(0.86)   \n",
      "2       probably_damaging(0.998)   \n",
      "3                  benign(0.149)   \n",
      "4       probably_damaging(0.992)   \n",
      "...                          ...   \n",
      "234936                         .   \n",
      "234937                         .   \n",
      "234938             benign(0.011)   \n",
      "234939  possibly_damaging(0.545)   \n",
      "234940                         .   \n",
      "\n",
      "                                                  DOMAINS    IMPACT  \\\n",
      "0       Transmembrane_helices:TMhelix,PROSITE_profiles...  MODERATE   \n",
      "1                                                       .  MODERATE   \n",
      "2       PROSITE_profiles:PS50002,hmmpanther:PTHR13856:...  MODERATE   \n",
      "3       PROSITE_profiles:PS50009,hmmpanther:PTHR23113:...  MODERATE   \n",
      "4       Prints_domain:PR00405,Superfamily_domains:SSF5...  MODERATE   \n",
      "...                                                   ...       ...   \n",
      "234936     hmmpanther:PTHR24208:SF40,hmmpanther:PTHR24208       LOW   \n",
      "234937  hmmpanther:PTHR13900,hmmpanther:PTHR13900:SF0,...       LOW   \n",
      "234938    hmmpanther:PTHR24361,hmmpanther:PTHR24361:SF216  MODERATE   \n",
      "234939    hmmpanther:PTHR12011,hmmpanther:PTHR12011:SF225  MODERATE   \n",
      "234940  hmmpanther:PTHR11875,hmmpanther:PTHR11875:SF36...      HIGH   \n",
      "\n",
      "        VARIANT_CLASS          FILTER  COSMIC  \\\n",
      "0                 SNV            PASS    NONE   \n",
      "1                 SNV            PASS    NONE   \n",
      "2                 SNV            PASS    NONE   \n",
      "3                 SNV            PASS    NONE   \n",
      "4                 SNV            PASS    NONE   \n",
      "...               ...             ...     ...   \n",
      "234936            SNV            PASS    NONE   \n",
      "234937            SNV            PASS    NONE   \n",
      "234938            SNV            PASS    NONE   \n",
      "234939            SNV  common_in_exac    NONE   \n",
      "234940      insertion            PASS    NONE   \n",
      "\n",
      "                                         CALLERS      CONTEXT NCALLERS  \n",
      "0       SOMATICSNIPER|RADIA|MUTECT|MUSE|VARSCANS  TTGTGGATTGG        5  \n",
      "1       SOMATICSNIPER|RADIA|MUTECT|MUSE|VARSCANS  GGCGGTTGTAG        5  \n",
      "2       SOMATICSNIPER|RADIA|MUTECT|MUSE|VARSCANS  GAAAAGTTCGT        5  \n",
      "3                           MUTECT|MUSE|VARSCANS  GGTATGGATTT        3  \n",
      "4                                 RADIA|VARSCANS  TTCCTGAGCAT        2  \n",
      "...                                          ...          ...      ...  \n",
      "234936                               MUTECT|MUSE  AATGTGGAAGT        2  \n",
      "234937                RADIA|MUTECT|MUSE|VARSCANS  CGTATGCGCAC        4  \n",
      "234938  SOMATICSNIPER|RADIA|MUTECT|MUSE|VARSCANS  GTAGAAGTACC        5  \n",
      "234939  SOMATICSNIPER|RADIA|MUTECT|MUSE|VARSCANS  CAGCCGGTGTC        5  \n",
      "234940             INDELOCATOR*|VARSCANI*|PINDEL  AAAAAATTGAA        3  \n",
      "\n",
      "[234941 rows x 71 columns]\n"
     ]
    }
   ],
   "source": [
    "from sklearn.metrics import mean_squared_error\n",
    "import numpy as np\n",
    "\n",
    "def optimal_components_nmf(data, max_components):\n",
    "    \"\"\"\n",
    "    Determine the optimal number of components for NMF using reconstruction error.\n",
    "\n",
    "    Parameters:\n",
    "    data (ndarray): The input data matrix.\n",
    "    max_components (int): The maximum number of components to test.\n",
    "\n",
    "    Returns:\n",
    "    int: The optimal number of components.\n",
    "    \"\"\"\n",
    "    errors = []\n",
    "    for n_components in range(1, max_components + 1):\n",
    "        model = NMF(n_components=n_components, init='nndsvda', random_state=0, max_iter=500)\n",
    "        W = model.fit_transform(data)\n",
    "        H = model.components_\n",
    "        reconstructed_data = np.dot(W, H)\n",
    "        error = mean_squared_error(data, reconstructed_data)\n",
    "        errors.append(error)\n",
    "\n",
    "    # Find the elbow point\n",
    "    min_error_idx = np.argmin(errors)\n",
    "    return min_error_idx + 1\n",
    "\n",
    "merge_df = df_meta.merge(df_mut, on='patient_id', how = 'left')\n",
    "print(merge_df)"
   ]
  },
  {
   "cell_type": "code",
   "execution_count": 4,
   "id": "ea07b934-29d8-466c-883d-f7c1f9d3fb06",
   "metadata": {},
   "outputs": [
    {
     "ename": "NameError",
     "evalue": "name 'merge_df' is not defined",
     "output_type": "error",
     "traceback": [
      "\u001b[31m---------------------------------------------------------------------------\u001b[39m",
      "\u001b[31mNameError\u001b[39m                                 Traceback (most recent call last)",
      "\u001b[36mCell\u001b[39m\u001b[36m \u001b[39m\u001b[32mIn[4]\u001b[39m\u001b[32m, line 1\u001b[39m\n\u001b[32m----> \u001b[39m\u001b[32m1\u001b[39m df_numeric = \u001b[43mmerge_df\u001b[49m.select_dtypes(exclude=[\u001b[33m'\u001b[39m\u001b[33mobject\u001b[39m\u001b[33m'\u001b[39m])\n\u001b[32m      2\u001b[39m df_numeric = df_numeric.dropna(axis=\u001b[32m1\u001b[39m)\n\u001b[32m      3\u001b[39m df_numeric = df_numeric.applymap(\u001b[38;5;28;01mlambda\u001b[39;00m x: x \u001b[38;5;28;01mif\u001b[39;00m x >= \u001b[32m0\u001b[39m \u001b[38;5;28;01melse\u001b[39;00m \u001b[38;5;28;01mNone\u001b[39;00m).dropna()\n",
      "\u001b[31mNameError\u001b[39m: name 'merge_df' is not defined"
     ]
    }
   ],
   "source": [
    "df_numeric = merge_df.select_dtypes(exclude=['object'])\n",
    "df_numeric = df_numeric.dropna(axis=1)\n",
    "df_numeric = df_numeric.applymap(lambda x: x if x >= 0 else None).dropna()\n",
    "print(df_numeric)"
   ]
  },
  {
   "cell_type": "code",
   "execution_count": 23,
   "id": "6f08a745-640a-4f07-b5b8-327940580691",
   "metadata": {},
   "outputs": [
    {
     "name": "stdout",
     "output_type": "stream",
     "text": [
      "1\n"
     ]
    }
   ],
   "source": [
    "print(numcomp)"
   ]
  },
  {
   "cell_type": "code",
   "execution_count": null,
   "id": "52224c0a-5f12-4423-b5b1-9fa9de7c8010",
   "metadata": {},
   "outputs": [],
   "source": []
  }
 ],
 "metadata": {
  "kernelspec": {
   "display_name": "Python 3 (ipykernel)",
   "language": "python",
   "name": "python3"
  },
  "language_info": {
   "codemirror_mode": {
    "name": "ipython",
    "version": 3
   },
   "file_extension": ".py",
   "mimetype": "text/x-python",
   "name": "python",
   "nbconvert_exporter": "python",
   "pygments_lexer": "ipython3",
   "version": "3.13.3"
  }
 },
 "nbformat": 4,
 "nbformat_minor": 5
}
