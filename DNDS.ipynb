{
 "cells": [
  {
   "cell_type": "code",
   "execution_count": 63,
   "id": "32d8c90a-1480-4133-b3e6-fb15a638897b",
   "metadata": {},
   "outputs": [
    {
     "name": "stdout",
     "output_type": "stream",
     "text": [
      "class          N  S  dNdS_naive\n",
      "Hugo_Symbol                    \n",
      "TP53         169  2   84.500000\n",
      "ERBB2         33  1   33.000000\n",
      "SMAD4         29  1   29.000000\n",
      "CFH           28  1   28.000000\n",
      "PIK3CA        82  3   27.333333\n",
      "CDH9          25  1   25.000000\n",
      "CNTN4         25  1   25.000000\n",
      "GRIN3A        24  1   24.000000\n",
      "THSD1         23  1   23.000000\n",
      "AMY2B         21  1   21.000000\n"
     ]
    }
   ],
   "source": [
    "# Step 1: Load mutation file\n",
    "mut_df = pd.read_csv(\"TCGA.STAD.mutations.txt\", sep=\"\\t\")\n",
    "\n",
    "# Step 1.5: Keep only SNPs\n",
    "mut_df = mut_df[mut_df['Variant_Type'] == 'SNP']\n",
    "\n",
    "# Step 2: Filter for coding mutations of interest\n",
    "syn = ['Silent']\n",
    "nonsyn = ['Missense_Mutation', 'Nonsense_Mutation']\n",
    "mut_df = mut_df[mut_df['Variant_Classification'].isin(syn + nonsyn)]\n",
    "\n",
    "# Step 3: Remove hypermutator samples (e.g. top 1% by mutation load)\n",
    "mut_counts = mut_df['Tumor_Sample_Barcode'].value_counts()\n",
    "threshold = mut_counts.quantile(0.99)\n",
    "keep_samples = mut_counts[mut_counts <= threshold].index\n",
    "mut_df = mut_df[mut_df['Tumor_Sample_Barcode'].isin(keep_samples)]\n",
    "\n",
    "# Step 4: Classify mutations as synonymous or nonsynonymous\n",
    "mut_df['class'] = mut_df['Variant_Classification'].apply(lambda x: 'syn' if x in syn else 'nonsyn')\n",
    "\n",
    "# Step 5: Count N and S per gene\n",
    "counts = mut_df.groupby(['Hugo_Symbol', 'class']).size().unstack(fill_value=0)\n",
    "counts = counts.rename(columns={'syn': 'S', 'nonsyn': 'N'})\n",
    "\n",
    "# Ensure both columns exist\n",
    "if 'N' not in counts.columns:\n",
    "    counts['N'] = 0\n",
    "if 'S' not in counts.columns:\n",
    "    counts['S'] = 0\n",
    "\n",
    "# Step 6: Compute naive dN/dS (exclude genes with S = 0)\n",
    "counts = counts[counts['S'] > 0]\n",
    "counts['dNdS_naive'] = counts['N'] / counts['S']\n",
    "\n",
    "# Step 7: View top candidates\n",
    "top = counts.sort_values('dNdS_naive', ascending=False).head(10)\n",
    "print(top[['N', 'S', 'dNdS_naive']])\n"
   ]
  },
  {
   "cell_type": "code",
   "execution_count": 31,
   "id": "d4098ff7-3a64-40b2-9a0e-3e530c0a9a40",
   "metadata": {},
   "outputs": [],
   "source": [
    "import warnings\n",
    "warnings.filterwarnings(\"ignore\", category=ResourceWarning)\n"
   ]
  },
  {
   "cell_type": "code",
   "execution_count": 59,
   "id": "87444447-a205-483e-ad7e-eb4e7ad7c46b",
   "metadata": {},
   "outputs": [
    {
     "name": "stdout",
     "output_type": "stream",
     "text": [
      "\u001b[33mDEPRECATION: Configuring installation scheme with distutils config files is deprecated and will no longer work in the near future. If you are using a Homebrew or Linuxbrew Python, please see discussion at https://github.com/Homebrew/homebrew-core/issues/76621\u001b[0m\u001b[33m\n",
      "\u001b[0mRequirement already satisfied: mysql-connector-python in /usr/local/lib/python3.8/site-packages (9.0.0)\n",
      "\u001b[33mDEPRECATION: Configuring installation scheme with distutils config files is deprecated and will no longer work in the near future. If you are using a Homebrew or Linuxbrew Python, please see discussion at https://github.com/Homebrew/homebrew-core/issues/76621\u001b[0m\u001b[33m\n",
      "\u001b[0mNote: you may need to restart the kernel to use updated packages.\n"
     ]
    }
   ],
   "source": [
    "pip install mysql-connector-python\n"
   ]
  },
  {
   "cell_type": "code",
   "execution_count": 60,
   "id": "d7a7086e-9294-4621-a076-9e237ed76bd2",
   "metadata": {},
   "outputs": [],
   "source": [
    "import mysql.connector\n",
    "import pandas as pd\n",
    "\n",
    "# Connect to UCSC\n",
    "conn = mysql.connector.connect(\n",
    "    host=\"genome-mysql.soe.ucsc.edu\",\n",
    "    user=\"genome\",\n",
    "    database=\"hg19\"\n",
    ")\n",
    "cursor = conn.cursor()\n",
    "\n",
    "# Corrected SQL query\n",
    "query = \"\"\"\n",
    "SELECT name2, cdsStart, cdsEnd, exonStarts, exonEnds\n",
    "FROM refGene;\n",
    "\"\"\"\n",
    "cursor.execute(query)\n",
    "rows = cursor.fetchall()\n",
    "\n",
    "# Create DataFrame\n",
    "df = pd.DataFrame(rows, columns=[\"Hugo_Symbol\", \"cdsStart\", \"cdsEnd\", \"exonStarts\", \"exonEnds\"])\n",
    "\n",
    "# Compute CDS length per transcript\n",
    "def compute_cds_length(row):\n",
    "    exon_starts = row['exonStarts']\n",
    "    exon_ends = row['exonEnds']\n",
    "\n",
    "    # Decode from bytes to string if needed\n",
    "    if isinstance(exon_starts, bytes):\n",
    "        exon_starts = exon_starts.decode(\"utf-8\")\n",
    "    if isinstance(exon_ends, bytes):\n",
    "        exon_ends = exon_ends.decode(\"utf-8\")\n",
    "\n",
    "    # Process comma-separated strings\n",
    "    starts = list(map(int, exon_starts.strip(',').split(',')))\n",
    "    ends = list(map(int, exon_ends.strip(',').split(',')))\n",
    "    cds_start, cds_end = row['cdsStart'], row['cdsEnd']\n",
    "\n",
    "    length = 0\n",
    "    for s, e in zip(starts, ends):\n",
    "        overlap_start = max(s, cds_start)\n",
    "        overlap_end = min(e, cds_end)\n",
    "        if overlap_end > overlap_start:\n",
    "            length += (overlap_end - overlap_start)\n",
    "    return length\n",
    "\n",
    "\n",
    "df['cds_length'] = df.apply(compute_cds_length, axis=1)\n",
    "\n",
    "# Collapse multiple transcripts to max CDS per gene\n",
    "gene_lengths = (\n",
    "    df.groupby(\"Hugo_Symbol\")['cds_length']\n",
    "    .max()\n",
    "    .reset_index()\n",
    ")\n",
    "\n",
    "# Drop 0-length entries\n",
    "gene_lengths = gene_lengths[gene_lengths['cds_length'] > 0]\n",
    "\n",
    "# Save\n",
    "gene_lengths.to_csv(\"gene_coding_lengths.tsv\", sep=\"\\t\", index=False)\n",
    "\n",
    "# Close connection\n",
    "cursor.close()\n",
    "conn.close()\n"
   ]
  },
  {
   "cell_type": "code",
   "execution_count": 64,
   "id": "314b8c07-5f91-4401-bf96-7b1d62e2d331",
   "metadata": {},
   "outputs": [
    {
     "name": "stdout",
     "output_type": "stream",
     "text": [
      "      Hugo_Symbol    N  S  cds_length  dNdS_corrected\n",
      "14396        TP53  169  2        1182       28.166667\n",
      "4223        ERBB2   33  1        3885       11.000000\n",
      "12847       SMAD4   29  1        1659        9.666667\n",
      "2426          CFH   28  1        3696        9.333333\n",
      "10207      PIK3CA   82  3        3207        9.111111\n",
      "2257         CDH9   25  1        2370        8.333333\n",
      "2773        CNTN4   25  1        3081        8.333333\n",
      "5570       GRIN3A   24  1        3348        8.000000\n",
      "13947       THSD1   23  1        2559        7.666667\n",
      "566         AMY2B   21  1        1536        7.000000\n"
     ]
    }
   ],
   "source": [
    "# Step 5: Count N and S per gene\n",
    "counts = (\n",
    "    mut_df.groupby(['Hugo_Symbol', 'class'])\n",
    "    .size()\n",
    "    .unstack(fill_value=0)\n",
    "    .rename(columns={'syn': 'S', 'nonsyn': 'N'})\n",
    "    .reset_index()\n",
    ")\n",
    "\n",
    "# ✅ Merge mutation counts with gene sizes\n",
    "df = counts.merge(gene_lengths, on='Hugo_Symbol', how='inner')\n",
    "\n",
    "# Step 1: Estimate number of sites (opportunities)\n",
    "df['L_N'] = 0.75 * df['cds_length']\n",
    "df['L_S'] = 0.25 * df['cds_length']\n",
    "\n",
    "# Step 2: Compute normalized rates\n",
    "df['dN'] = df['N'] / df['L_N']\n",
    "df['dS'] = df['S'] / df['L_S']\n",
    "\n",
    "# Step 3: Compute size-adjusted dN/dS\n",
    "df = df[df['dS'] > 0]  # avoid division by zero\n",
    "df['dNdS_corrected'] = df['dN'] / df['dS']\n",
    "\n",
    "# Optional: sort for potential drivers\n",
    "top = df.sort_values('dNdS_corrected', ascending=False).head(10)\n",
    "print(top[['Hugo_Symbol', 'N', 'S', 'cds_length', 'dNdS_corrected']])\n"
   ]
  },
  {
   "cell_type": "code",
   "execution_count": 65,
   "id": "925fc3f2-4d98-43da-a307-7d1dfaa22354",
   "metadata": {},
   "outputs": [
    {
     "name": "stdout",
     "output_type": "stream",
     "text": [
      "      Hugo_Symbol    N  S  cds_length  dNdS_corrected\n",
      "14396        TP53  169  2        1182       28.166667\n",
      "4223        ERBB2   33  1        3885       11.000000\n",
      "12847       SMAD4   29  1        1659        9.666667\n",
      "2426          CFH   28  1        3696        9.333333\n",
      "10207      PIK3CA   82  3        3207        9.111111\n",
      "2257         CDH9   25  1        2370        8.333333\n",
      "2773        CNTN4   25  1        3081        8.333333\n",
      "5570       GRIN3A   24  1        3348        8.000000\n",
      "13947       THSD1   23  1        2559        7.666667\n",
      "566         AMY2B   21  1        1536        7.000000\n",
      "5827          HGF   19  1        2187        6.333333\n",
      "15217       VWA5A   19  1        2361        6.333333\n",
      "3987       EGFLAM   19  1        3054        6.333333\n",
      "8394         MYH1   19  1        5820        6.333333\n",
      "9394       OR4C16   19  1         933        6.333333\n",
      "9366       OR2T12   19  1         963        6.333333\n",
      "3287        DAAM1   18  1        3237        6.000000\n",
      "2732        CNGA4   18  1        1728        6.000000\n",
      "1767        CADM1   18  1        1416        6.000000\n",
      "11274       RASA1   18  1        3144        6.000000\n",
      "14541     TRIM49C   17  1        1359        5.666667\n",
      "3275       CYP7B1   17  1        1521        5.666667\n",
      "2723        CNBD1   17  1        1311        5.666667\n",
      "7649        MANEA   17  1        1389        5.666667\n",
      "13936       THOC2   17  1        4782        5.666667\n",
      "9949        PDE3B   17  1        3573        5.666667\n",
      "6680       KCNK10   16  1        1632        5.333333\n",
      "4224        ERBB3   48  3        4029        5.333333\n",
      "11486       RGPD3   16  1        5277        5.333333\n",
      "5022       GABRG2   16  1        1548        5.333333\n"
     ]
    }
   ],
   "source": [
    "# Step 1: Estimate number of sites (opportunities)\n",
    "df['L_N'] = 0.75 * df['cds_length']\n",
    "df['L_S'] = 0.25 * df['cds_length']\n",
    "\n",
    "# Step 2: Compute normalized rates\n",
    "df['dN'] = df['N'] / df['L_N']\n",
    "df['dS'] = df['S'] / df['L_S']\n",
    "\n",
    "# Step 3: Compute size-adjusted dN/dS\n",
    "df = df[df['dS'] > 0]  # avoid division by zero\n",
    "df['dNdS_corrected'] = df['dN'] / df['dS']\n",
    "\n",
    "# Optional: sort for potential drivers\n",
    "top = df.sort_values('dNdS_corrected', ascending=False).head(30)\n",
    "print(top[['Hugo_Symbol', 'N', 'S', 'cds_length', 'dNdS_corrected']])\n"
   ]
  },
  {
   "cell_type": "code",
   "execution_count": 66,
   "id": "ee783fe7-a905-4f81-8a26-76473b552930",
   "metadata": {},
   "outputs": [],
   "source": [
    "# Neutral mutation rate per base (hypothetical; adjust as needed)\n",
    "mu = 1e-6\n",
    "\n",
    "# Expected nonsynonymous mutations = mutation rate × number of nonsynonymous sites\n",
    "df['E_N'] = mu * df['L_N']\n",
    "from scipy.stats import poisson\n",
    "from statsmodels.stats.multitest import multipletests\n",
    "\n",
    "df['pval'] = poisson.sf(df['N'] - 1, df['E_N'])  # P(X ≥ N | λ = E_N)\n",
    "df['qval'] = multipletests(df['pval'], method='fdr_bh')[1]\n"
   ]
  },
  {
   "cell_type": "code",
   "execution_count": 23,
   "id": "cbf2b182-8fe2-40ad-944d-93c6ad43ce0b",
   "metadata": {},
   "outputs": [
    {
     "name": "stdout",
     "output_type": "stream",
     "text": [
      "\u001b[33mDEPRECATION: Configuring installation scheme with distutils config files is deprecated and will no longer work in the near future. If you are using a Homebrew or Linuxbrew Python, please see discussion at https://github.com/Homebrew/homebrew-core/issues/76621\u001b[0m\u001b[33m\n",
      "\u001b[0mCollecting Bio\n",
      "  Downloading bio-1.6.2-py3-none-any.whl.metadata (5.1 kB)\n",
      "Collecting biopython>=1.80 (from Bio)\n",
      "  Downloading biopython-1.83-cp38-cp38-macosx_10_9_x86_64.whl.metadata (13 kB)\n",
      "Requirement already satisfied: requests in /usr/local/lib/python3.8/site-packages (from Bio) (2.31.0)\n",
      "Requirement already satisfied: tqdm in /usr/local/lib/python3.8/site-packages (from Bio) (4.67.1)\n",
      "Requirement already satisfied: mygene in /usr/local/lib/python3.8/site-packages (from Bio) (3.2.2)\n",
      "Requirement already satisfied: pandas in /usr/local/lib/python3.8/site-packages (from Bio) (1.5.2)\n",
      "Collecting pooch (from Bio)\n",
      "  Downloading pooch-1.8.2-py3-none-any.whl.metadata (10 kB)\n",
      "Collecting gprofiler-official (from Bio)\n",
      "  Downloading gprofiler_official-1.0.0-py3-none-any.whl.metadata (11 kB)\n",
      "Requirement already satisfied: numpy in /usr/local/lib/python3.8/site-packages (from biopython>=1.80->Bio) (1.24.4)\n",
      "Requirement already satisfied: biothings-client>=0.2.6 in /usr/local/lib/python3.8/site-packages (from mygene->Bio) (0.4.1)\n",
      "Requirement already satisfied: python-dateutil>=2.8.1 in /usr/local/lib/python3.8/site-packages (from pandas->Bio) (2.8.2)\n",
      "Requirement already satisfied: pytz>=2020.1 in /usr/local/lib/python3.8/site-packages (from pandas->Bio) (2024.1)\n",
      "Requirement already satisfied: platformdirs>=2.5.0 in /usr/local/lib/python3.8/site-packages (from pooch->Bio) (3.11.0)\n",
      "Requirement already satisfied: packaging>=20.0 in /usr/local/lib/python3.8/site-packages (from pooch->Bio) (23.1)\n",
      "Requirement already satisfied: charset-normalizer<4,>=2 in /usr/local/lib/python3.8/site-packages (from requests->Bio) (3.3.0)\n",
      "Requirement already satisfied: idna<4,>=2.5 in /usr/local/lib/python3.8/site-packages (from requests->Bio) (2.10)\n",
      "Requirement already satisfied: urllib3<3,>=1.21.1 in /usr/local/lib/python3.8/site-packages (from requests->Bio) (2.2.1)\n",
      "Requirement already satisfied: certifi>=2017.4.17 in /usr/local/lib/python3.8/site-packages (from requests->Bio) (2024.2.2)\n",
      "Requirement already satisfied: httpx>=0.22.0 in /usr/local/lib/python3.8/site-packages (from biothings-client>=0.2.6->mygene->Bio) (0.28.1)\n",
      "Requirement already satisfied: six>=1.5 in /usr/local/lib/python3.8/site-packages (from python-dateutil>=2.8.1->pandas->Bio) (1.15.0)\n",
      "Requirement already satisfied: anyio in /usr/local/lib/python3.8/site-packages (from httpx>=0.22.0->biothings-client>=0.2.6->mygene->Bio) (4.5.2)\n",
      "Requirement already satisfied: httpcore==1.* in /usr/local/lib/python3.8/site-packages (from httpx>=0.22.0->biothings-client>=0.2.6->mygene->Bio) (1.0.7)\n",
      "Requirement already satisfied: h11<0.15,>=0.13 in /usr/local/lib/python3.8/site-packages (from httpcore==1.*->httpx>=0.22.0->biothings-client>=0.2.6->mygene->Bio) (0.14.0)\n",
      "Requirement already satisfied: sniffio>=1.1 in /usr/local/lib/python3.8/site-packages (from anyio->httpx>=0.22.0->biothings-client>=0.2.6->mygene->Bio) (1.3.0)\n",
      "Requirement already satisfied: exceptiongroup>=1.0.2 in /usr/local/lib/python3.8/site-packages (from anyio->httpx>=0.22.0->biothings-client>=0.2.6->mygene->Bio) (1.2.0)\n",
      "Requirement already satisfied: typing-extensions>=4.1 in /usr/local/lib/python3.8/site-packages (from anyio->httpx>=0.22.0->biothings-client>=0.2.6->mygene->Bio) (4.9.0)\n",
      "Downloading bio-1.6.2-py3-none-any.whl (278 kB)\n",
      "Downloading biopython-1.83-cp38-cp38-macosx_10_9_x86_64.whl (2.7 MB)\n",
      "\u001b[2K   \u001b[90m━━━━━━━━━━━━━━━━━━━━━━━━━━━━━━━━━━━━━━━━\u001b[0m \u001b[32m2.7/2.7 MB\u001b[0m \u001b[31m12.9 MB/s\u001b[0m eta \u001b[36m0:00:00\u001b[0m\n",
      "\u001b[?25hDownloading gprofiler_official-1.0.0-py3-none-any.whl (9.3 kB)\n",
      "Downloading pooch-1.8.2-py3-none-any.whl (64 kB)\n",
      "Installing collected packages: biopython, pooch, gprofiler-official, Bio\n",
      "\u001b[33m  DEPRECATION: Configuring installation scheme with distutils config files is deprecated and will no longer work in the near future. If you are using a Homebrew or Linuxbrew Python, please see discussion at https://github.com/Homebrew/homebrew-core/issues/76621\u001b[0m\u001b[33m\n",
      "\u001b[0m\u001b[33m  DEPRECATION: Configuring installation scheme with distutils config files is deprecated and will no longer work in the near future. If you are using a Homebrew or Linuxbrew Python, please see discussion at https://github.com/Homebrew/homebrew-core/issues/76621\u001b[0m\u001b[33m\n",
      "\u001b[0m\u001b[33m  DEPRECATION: Configuring installation scheme with distutils config files is deprecated and will no longer work in the near future. If you are using a Homebrew or Linuxbrew Python, please see discussion at https://github.com/Homebrew/homebrew-core/issues/76621\u001b[0m\u001b[33m\n",
      "\u001b[0m\u001b[33m  DEPRECATION: Configuring installation scheme with distutils config files is deprecated and will no longer work in the near future. If you are using a Homebrew or Linuxbrew Python, please see discussion at https://github.com/Homebrew/homebrew-core/issues/76621\u001b[0m\u001b[33m\n",
      "\u001b[0m\u001b[33mDEPRECATION: Configuring installation scheme with distutils config files is deprecated and will no longer work in the near future. If you are using a Homebrew or Linuxbrew Python, please see discussion at https://github.com/Homebrew/homebrew-core/issues/76621\u001b[0m\u001b[33m\n",
      "\u001b[0mSuccessfully installed Bio-1.6.2 biopython-1.83 gprofiler-official-1.0.0 pooch-1.8.2\n"
     ]
    }
   ],
   "source": [
    "!pip install Bio\n"
   ]
  },
  {
   "cell_type": "code",
   "execution_count": 25,
   "id": "44471fc2-0b6d-4c34-882d-c5cea7847a1f",
   "metadata": {},
   "outputs": [
    {
     "name": "stdout",
     "output_type": "stream",
     "text": [
      "\u001b[33mDEPRECATION: Configuring installation scheme with distutils config files is deprecated and will no longer work in the near future. If you are using a Homebrew or Linuxbrew Python, please see discussion at https://github.com/Homebrew/homebrew-core/issues/76621\u001b[0m\u001b[33m\n",
      "\u001b[0mCollecting pyfaidx\n",
      "  Downloading pyfaidx-0.8.1.3-py3-none-any.whl.metadata (25 kB)\n",
      "Requirement already satisfied: importlib-metadata in /usr/local/lib/python3.8/site-packages (from pyfaidx) (6.8.0)\n",
      "Requirement already satisfied: packaging in /usr/local/lib/python3.8/site-packages (from pyfaidx) (23.1)\n",
      "Requirement already satisfied: zipp>=0.5 in /usr/local/lib/python3.8/site-packages (from importlib-metadata->pyfaidx) (3.16.2)\n",
      "Downloading pyfaidx-0.8.1.3-py3-none-any.whl (28 kB)\n",
      "Installing collected packages: pyfaidx\n",
      "\u001b[33m  DEPRECATION: Configuring installation scheme with distutils config files is deprecated and will no longer work in the near future. If you are using a Homebrew or Linuxbrew Python, please see discussion at https://github.com/Homebrew/homebrew-core/issues/76621\u001b[0m\u001b[33m\n",
      "\u001b[0m\u001b[33mDEPRECATION: Configuring installation scheme with distutils config files is deprecated and will no longer work in the near future. If you are using a Homebrew or Linuxbrew Python, please see discussion at https://github.com/Homebrew/homebrew-core/issues/76621\u001b[0m\u001b[33m\n",
      "\u001b[0mSuccessfully installed pyfaidx-0.8.1.3\n"
     ]
    }
   ],
   "source": [
    "!pip install pyfaidx\n"
   ]
  },
  {
   "cell_type": "code",
   "execution_count": 48,
   "id": "414105fd-8035-487a-bed0-d630647d4df3",
   "metadata": {},
   "outputs": [],
   "source": [
    "from pyfaidx import Fasta\n",
    "\n",
    "# Load genome\n",
    "fasta = Fasta(\"hg19.fa\")\n",
    "\n",
    "# Function to fetch context\n",
    "def get_context(row):\n",
    "    chrom = row['Chromosome']\n",
    "    pos = row['Start_Position'] - 1  # 0-based\n",
    "    try:\n",
    "        seq = fasta[chrom][pos - 1: pos + 2].seq.upper()  # center base + flanks\n",
    "        if len(seq) == 3:\n",
    "            return seq\n",
    "    except Exception:\n",
    "        return None\n",
    "    return None\n",
    "\n",
    "# Apply to get CONTEXT column\n",
    "mut_df['CONTEXT'] = mut_df.apply(get_context, axis=1)\n"
   ]
  },
  {
   "cell_type": "code",
   "execution_count": 49,
   "id": "2d8a6f03-c9a8-4dcc-8759-ab5987a13f83",
   "metadata": {},
   "outputs": [
    {
     "name": "stdout",
     "output_type": "stream",
     "text": [
      "Series([], Name: CONTEXT, dtype: float64)\n"
     ]
    }
   ],
   "source": [
    "print(mut_df['CONTEXT'].dropna().head(5))\n"
   ]
  },
  {
   "cell_type": "code",
   "execution_count": null,
   "id": "f74e52a0-2f96-46ba-a4bc-7e3cff155ae4",
   "metadata": {},
   "outputs": [],
   "source": []
  },
  {
   "cell_type": "code",
   "execution_count": 44,
   "id": "edf32091-0c6e-4439-80d7-0f8a5b59d856",
   "metadata": {},
   "outputs": [
    {
     "name": "stdout",
     "output_type": "stream",
     "text": [
      "Total contexts: 0\n",
      "Example: []\n"
     ]
    }
   ],
   "source": [
    "import pandas as pd\n",
    "\n",
    "# Ensure mutation data is uppercase\n",
    "mut_df['Reference_Allele'] = mut_df['Reference_Allele'].str.upper()\n",
    "mut_df['Tumor_Seq_Allele2'] = mut_df['Tumor_Seq_Allele2'].str.upper()\n",
    "mut_df['CONTEXT'] = mut_df['CONTEXT'].str.upper()\n",
    "\n",
    "# Define DNA complement map\n",
    "complement = str.maketrans(\"ACGT\", \"TGCA\")\n",
    "\n",
    "# Step 1: Standardize to pyrimidine-centered mutations (i.e., flip G>A to C>T on reverse strand)\n",
    "def standardize(row):\n",
    "    ref = row['Reference_Allele']\n",
    "    alt = row['Tumor_Seq_Allele2']\n",
    "    context = row['CONTEXT']\n",
    "    if len(context) != 3 or 'N' in context:\n",
    "        return pd.Series({'tri_context': None, 'mut_type': None})  # filter bad rows\n",
    "\n",
    "    if ref in ['G', 'A']:\n",
    "        # Reverse complement everything\n",
    "        ref = ref.translate(complement)\n",
    "        alt = alt.translate(complement)\n",
    "        context = context.translate(complement)[::-1]\n",
    "\n",
    "    return pd.Series({'tri_context': context, 'mut_type': f\"{ref}>{alt}\"})\n",
    "\n",
    "# Apply the standardization to each row\n",
    "mut_df[['tri_context', 'mut_type']] = mut_df.apply(standardize, axis=1)\n",
    "\n",
    "# Drop rows with invalid contexts\n",
    "mut_df = mut_df.dropna(subset=['tri_context', 'mut_type'])\n",
    "\n",
    "# Step 2: Count observed mutations for each trinucleotide context and mutation type\n",
    "spectrum = (\n",
    "    mut_df.groupby(['tri_context', 'mut_type'])\n",
    "    .size()\n",
    "    .unstack(fill_value=0)\n",
    ")\n",
    "\n",
    "# Step 3: Normalize per context to get probabilities\n",
    "trinuc_probs = spectrum.div(spectrum.sum(axis=1), axis=0).to_dict(orient='index')\n",
    "\n",
    "# Optional sanity check\n",
    "print(\"Total contexts:\", len(trinuc_probs))\n",
    "print(\"Example:\", list(trinuc_probs.items())[:3])\n"
   ]
  },
  {
   "cell_type": "code",
   "execution_count": 45,
   "id": "9e854a3a-1e9b-4441-9068-17452b86e874",
   "metadata": {},
   "outputs": [
    {
     "ename": "KeyboardInterrupt",
     "evalue": "",
     "output_type": "error",
     "traceback": [
      "\u001b[0;31m---------------------------------------------------------------------------\u001b[0m",
      "\u001b[0;31mKeyboardInterrupt\u001b[0m                         Traceback (most recent call last)",
      "Cell \u001b[0;32mIn[45], line 54\u001b[0m\n\u001b[1;32m     51\u001b[0m     mut_type \u001b[38;5;241m=\u001b[39m \u001b[38;5;124mf\u001b[39m\u001b[38;5;124m\"\u001b[39m\u001b[38;5;132;01m{\u001b[39;00mref_nt\u001b[38;5;241m.\u001b[39mtranslate(complement)\u001b[38;5;132;01m}\u001b[39;00m\u001b[38;5;124m>\u001b[39m\u001b[38;5;132;01m{\u001b[39;00malt_nt\u001b[38;5;241m.\u001b[39mtranslate(complement)\u001b[38;5;132;01m}\u001b[39;00m\u001b[38;5;124m\"\u001b[39m\n\u001b[1;32m     53\u001b[0m \u001b[38;5;66;03m# Get probability from trinuc spectrum\u001b[39;00m\n\u001b[0;32m---> 54\u001b[0m prob \u001b[38;5;241m=\u001b[39m trinuc_probs\u001b[38;5;241m.\u001b[39mget(context, {})\u001b[38;5;241m.\u001b[39mget(\u001b[43mmut_type\u001b[49m, \u001b[38;5;241m0\u001b[39m)\n\u001b[1;32m     56\u001b[0m \u001b[38;5;66;03m# Skip if mutation is invalid or missing\u001b[39;00m\n\u001b[1;32m     57\u001b[0m \u001b[38;5;28;01mif\u001b[39;00m ref_aa \u001b[38;5;241m==\u001b[39m \u001b[38;5;124m'\u001b[39m\u001b[38;5;124m?\u001b[39m\u001b[38;5;124m'\u001b[39m \u001b[38;5;129;01mor\u001b[39;00m alt_aa \u001b[38;5;241m==\u001b[39m \u001b[38;5;124m'\u001b[39m\u001b[38;5;124m?\u001b[39m\u001b[38;5;124m'\u001b[39m:\n",
      "\u001b[0;31mKeyboardInterrupt\u001b[0m: "
     ]
    }
   ],
   "source": [
    "from Bio.Data import CodonTable\n",
    "from Bio.Seq import Seq\n",
    "\n",
    "# Codon → AA mapping\n",
    "standard_table = CodonTable.unambiguous_dna_by_name[\"Standard\"]\n",
    "codon_to_aa = {**standard_table.forward_table, **{codon: '*' for codon in standard_table.stop_codons}}\n",
    "\n",
    "def get_tricontext(seq, i):\n",
    "    \"\"\"Return trinucleotide centered at position i\"\"\"\n",
    "    if i == 0 or i == len(seq) - 1:\n",
    "        return None\n",
    "    return seq[i-1:i+2]\n",
    "\n",
    "expected_counts = {}\n",
    "\n",
    "for gene, cds_seq in gene_cds_dict.items():\n",
    "    cds_seq = cds_seq.upper()\n",
    "    E_N, E_S = 0, 0\n",
    "    \n",
    "    for i in range(0, len(cds_seq) - 2, 3):  # slide codons\n",
    "        codon = cds_seq[i:i+3]\n",
    "        if 'N' in codon or len(codon) < 3:\n",
    "            continue\n",
    "        \n",
    "        ref_aa = codon_to_aa.get(codon, '?')\n",
    "        \n",
    "        for j in range(3):  # mutate each base in codon\n",
    "            ref_nt = codon[j]\n",
    "            for alt_nt in 'ACGT':\n",
    "                if alt_nt == ref_nt:\n",
    "                    continue\n",
    "                \n",
    "                # Simulate mutation\n",
    "                mut_codon = list(codon)\n",
    "                mut_codon[j] = alt_nt\n",
    "                mut_codon = ''.join(mut_codon)\n",
    "                alt_aa = codon_to_aa.get(mut_codon, '?')\n",
    "\n",
    "                # Get context for mutation\n",
    "                pos_in_seq = i + j\n",
    "                context = get_tricontext(cds_seq, pos_in_seq)\n",
    "                if context is None or 'N' in context:\n",
    "                    continue\n",
    "                \n",
    "                # Mutation type (pyrimidine-centered)\n",
    "                mut_type = f\"{ref_nt}>{alt_nt}\"\n",
    "                if ref_nt in 'AG':\n",
    "                    # flip everything for pyrimidine standardization\n",
    "                    complement = str.maketrans('ACGT', 'TGCA')\n",
    "                    context = context.translate(complement)[::-1]\n",
    "                    mut_type = f\"{ref_nt.translate(complement)}>{alt_nt.translate(complement)}\"\n",
    "\n",
    "                # Get probability from trinuc spectrum\n",
    "                prob = trinuc_probs.get(context, {}).get(mut_type, 0)\n",
    "                \n",
    "                # Skip if mutation is invalid or missing\n",
    "                if ref_aa == '?' or alt_aa == '?':\n",
    "                    continue\n",
    "                \n",
    "                # Add to appropriate bucket\n",
    "                if alt_aa == ref_aa:\n",
    "                    E_S += prob\n",
    "                else:\n",
    "                    E_N += prob\n",
    "\n",
    "    expected_counts[gene] = {'E_N': E_N, 'E_S': E_S}\n"
   ]
  },
  {
   "cell_type": "code",
   "execution_count": 67,
   "id": "215e3074-c4ac-40b7-a0b8-fff24d1f1c09",
   "metadata": {},
   "outputs": [],
   "source": [
    "\n",
    "expected_df = pd.DataFrame.from_dict(expected_counts, orient='index').reset_index()\n",
    "expected_df = expected_df.rename(columns={'index': 'Hugo_Symbol'})\n",
    "merged = obs_df.merge(expected_df, on='Hugo_Symbol', how='inner')\n",
    "\n"
   ]
  },
  {
   "cell_type": "code",
   "execution_count": 68,
   "id": "619cf9c0-8867-415e-9d80-ca35731c5e33",
   "metadata": {},
   "outputs": [
    {
     "name": "stdout",
     "output_type": "stream",
     "text": [
      "  Hugo_Symbol   N  E_N  pval  qval\n",
      "0        A1BG   4    0   0.0   0.0\n",
      "1        AMD1   6    0   0.0   0.0\n",
      "2      AMDHD2   4    0   0.0   0.0\n",
      "3       AMELX   2    0   0.0   0.0\n",
      "4       AMELY   2    0   0.0   0.0\n",
      "5       AMER1  11    0   0.0   0.0\n",
      "6       AMER2  14    0   0.0   0.0\n",
      "7       AMER3   5    0   0.0   0.0\n",
      "8        AMFR   7    0   0.0   0.0\n",
      "9         AMH   2    0   0.0   0.0\n"
     ]
    }
   ],
   "source": [
    "from scipy.stats import poisson\n",
    "from statsmodels.stats.multitest import multipletests\n",
    "\n",
    "merged['pval'] = poisson.sf(merged['N'] - 1, merged['E_N'])\n",
    "merged['qval'] = multipletests(merged['pval'], method='fdr_bh')[1]\n",
    "top_drivers = merged.sort_values('pval').reset_index(drop=True)\n",
    "print(top_drivers[['Hugo_Symbol', 'N', 'E_N', 'pval', 'qval']].head(10))\n",
    "\n"
   ]
  },
  {
   "cell_type": "code",
   "execution_count": 47,
   "id": "88aafbf8-e1ed-4711-b0f4-e9d778a08a9c",
   "metadata": {},
   "outputs": [
    {
     "name": "stdout",
     "output_type": "stream",
     "text": [
      "Series([], Name: CONTEXT, dtype: int64)\n"
     ]
    }
   ],
   "source": [
    "print(mut_df['CONTEXT'].dropna().apply(len).value_counts())\n"
   ]
  },
  {
   "cell_type": "code",
   "execution_count": null,
   "id": "6c795975-9589-465a-bd6e-09d7f7091fc8",
   "metadata": {},
   "outputs": [],
   "source": []
  }
 ],
 "metadata": {
  "kernelspec": {
   "display_name": "Python 3 (ipykernel)",
   "language": "python",
   "name": "python3"
  },
  "language_info": {
   "codemirror_mode": {
    "name": "ipython",
    "version": 3
   },
   "file_extension": ".py",
   "mimetype": "text/x-python",
   "name": "python",
   "nbconvert_exporter": "python",
   "pygments_lexer": "ipython3",
   "version": "3.8.5"
  }
 },
 "nbformat": 4,
 "nbformat_minor": 5
}
