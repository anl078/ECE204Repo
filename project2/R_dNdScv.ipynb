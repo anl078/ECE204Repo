{
  "nbformat": 4,
  "nbformat_minor": 0,
  "metadata": {
    "colab": {
      "provenance": [],
      "authorship_tag": "ABX9TyOY85m8IM+/cJNv3rsEyQnF",
      "include_colab_link": true
    },
    "kernelspec": {
      "name": "ir",
      "display_name": "R"
    },
    "language_info": {
      "name": "R"
    }
  },
  "cells": [
    {
      "cell_type": "markdown",
      "metadata": {
        "id": "view-in-github",
        "colab_type": "text"
      },
      "source": [
        "<a href=\"https://colab.research.google.com/github/anl078/ECE204Repo/blob/Solana/project2/R_dNdScv.ipynb\" target=\"_parent\"><img src=\"https://colab.research.google.com/assets/colab-badge.svg\" alt=\"Open In Colab\"/></a>"
      ]
    },
    {
      "cell_type": "code",
      "execution_count": null,
      "metadata": {
        "id": "ysgaDFsi8IUa",
        "colab": {
          "base_uri": "https://localhost:8080/"
        },
        "collapsed": true,
        "outputId": "8c99173f-9cd7-4109-9c72-a22ffbdaeb95"
      },
      "outputs": [
        {
          "output_type": "stream",
          "name": "stderr",
          "text": [
            "'getOption(\"repos\")' replaces Bioconductor standard repositories, see\n",
            "'help(\"repositories\", package = \"BiocManager\")' for details.\n",
            "Replacement repositories:\n",
            "    CRAN: https://cran.rstudio.com\n",
            "\n",
            "Bioconductor version 3.21 (BiocManager 1.30.25), R 4.5.0 (2025-04-11)\n",
            "\n",
            "Warning message:\n",
            "“package(s) not installed when version(s) same as or greater than current; use\n",
            "  `force = TRUE` to re-install: 'Rcpp' 'dplyr' 'ggplot2' 'data.table'\n",
            "  'magrittr'”\n",
            "Old packages: 'systemfonts', 'textshaping', 'utf8'\n",
            "\n",
            "Skipping install of 'dndscv' from a github remote, the SHA1 (dab351ae) has not changed since last install.\n",
            "  Use `force = TRUE` to force installation\n",
            "\n"
          ]
        }
      ],
      "source": [
        "if (!requireNamespace(\"BiocManager\", quietly = TRUE)) {\n",
        "  install.packages(\"BiocManager\")\n",
        "}\n",
        "\n",
        "# Install required dependencies using Bioconductor\n",
        "BiocManager::install(c(\"Rcpp\", \"dplyr\", \"ggplot2\", \"data.table\", \"magrittr\"))\n",
        "\n",
        "library(devtools); install_github(\"im3sanger/dndscv\")\n",
        "library(dndscv)\n",
        "library(dplyr)\n",
        "library(magrittr)\n",
        "library(ggplot2)\n",
        "library(Rcpp)\n",
        "library(data.table)"
      ]
    },
    {
      "cell_type": "code",
      "source": [
        "### READ MUTATION DATA ###\n",
        "df <- read.table(\"TCGA.STAD.mutations.txt\", header=TRUE, sep=\"\\t\")\n",
        "\n",
        "### PREPROCESSING ###\n",
        "\n",
        "## Remove hypermutators (top 1% by mutation count)\n",
        "mutation_counts <- df %>%\n",
        "  count(patient_id, name = \"mut_count\")\n",
        "\n",
        "cutoff <- quantile(mutation_counts$mut_count, 0.99)\n",
        "\n",
        "reg_mutaters <- df %>%\n",
        "  inner_join(mutation_counts, by = \"patient_id\") %>%\n",
        "  filter(mut_count <= cutoff) %>%\n",
        "  select(-mut_count)\n",
        "\n",
        "# Remove genes with less than 10 mutations\n",
        "filtered_mutations <- reg_mutaters %>%\n",
        "  filter(!is.na(Hugo_Symbol)) %>%\n",
        "  group_by(Hugo_Symbol) %>%\n",
        "  filter(n() >= 10) %>%\n",
        "  ungroup()\n",
        "\n",
        "# Only keep SNP\n",
        "filtered_mutations <- filtered_mutations %>%\n",
        "  filter(Variant_Type == \"SNP\")\n",
        "\n",
        "## Retain pertinent columns\n",
        "filtered_mutations <- filtered_mutations[c(\"patient_id\",\"Hugo_Symbol\",\"Chromosome\", \"Start_Position\",\"Reference_Allele\", \"Tumor_Seq_Allele1\",\"Tumor_Seq_Allele2\")]\n",
        "\n",
        "# Clean up: only keep the allele with the mutatation\n",
        "dndscv_data <- filtered_mutations %>%\n",
        "  mutate(\n",
        "    mut = case_when(\n",
        "      Tumor_Seq_Allele1 != Reference_Allele & !is.na(Tumor_Seq_Allele1) ~ Tumor_Seq_Allele1,\n",
        "      Tumor_Seq_Allele2 != Reference_Allele & !is.na(Tumor_Seq_Allele2) ~ Tumor_Seq_Allele2,\n",
        "      TRUE ~ NA_character_\n",
        "    ),\n",
        "    chr = as.character(Chromosome),  # Ensure chromosome is a character type\n",
        "    pos = Start_Position,\n",
        "    ref = Reference_Allele,\n",
        "  ) %>%\n",
        "  select(sampleID = patient_id, chr, pos, ref, mut)\n",
        "\n",
        "write.table(dndscv_data, file = \"dndscv_data.tsv\", sep = \"\\t\", row.names = FALSE, quote = FALSE) # save input df"
      ],
      "metadata": {
        "id": "jbfk_PJV-DDT"
      },
      "execution_count": null,
      "outputs": []
    },
    {
      "cell_type": "code",
      "source": [
        "### RUN dNdScv\n",
        "data(\"dataset_simbreast\", package=\"dndscv\")\n",
        "dndsout = dndscv(dndscv_data)"
      ],
      "metadata": {
        "colab": {
          "base_uri": "https://localhost:8080/"
        },
        "collapsed": true,
        "id": "EBs12zm1-H0f",
        "outputId": "bec9bdb0-7e51-4fc4-a085-ebbdaefa9d7c"
      },
      "execution_count": null,
      "outputs": [
        {
          "output_type": "stream",
          "name": "stderr",
          "text": [
            "[1] Loading the environment...\n",
            "\n",
            "[2] Annotating the mutations...\n",
            "\n",
            "Warning message in dndscv(dndscv_data):\n",
            "“Mutations observed in contiguous sites within a sample. Please annotate or remove dinucleotide or complex substitutions for best results.”\n",
            "Warning message in dndscv(dndscv_data):\n",
            "“Same mutations observed in different sampleIDs. Please verify that these are independent events and remove duplicates otherwise.”\n",
            "    Note: 173 mutations removed for exceeding the limit of mutations per gene per sample (see the max_muts_per_gene_per_sample argument in dndscv)\n",
            "\n",
            "    30% ...\n",
            "\n",
            "    60% ...\n",
            "\n",
            "    90% ...\n",
            "\n",
            "Warning message in dndscv(dndscv_data):\n",
            "“27 (0.081%) mutations have a wrong reference base (see the affected mutations in dndsout$wrongmuts). Please identify the causes and rerun dNdScv.”\n",
            "[3] Estimating global rates...\n",
            "\n",
            "[4] Running dNdSloc...\n",
            "\n",
            "[5] Running dNdScv...\n",
            "\n",
            "Warning message in theta.ml(Y, mu, sum(w), w, limit = control$maxit, trace = control$trace > :\n",
            "“iteration limit reached”\n",
            "Warning message in sqrt(1/i):\n",
            "“NaNs produced”\n",
            "Warning message in theta.ml(Y, mu, sum(w), w, limit = control$maxit, trace = control$trace > :\n",
            "“iteration limit reached”\n",
            "Warning message in sqrt(1/i):\n",
            "“NaNs produced”\n",
            "    Regression model for substitutions (theta = 4.11e+04).\n",
            "\n"
          ]
        }
      ]
    },
    {
      "cell_type": "code",
      "source": [
        "sel_cv = dndsout$sel_cv\n",
        "print(head(sel_cv), digits = 2)"
      ],
      "metadata": {
        "colab": {
          "base_uri": "https://localhost:8080/"
        },
        "id": "7J9nh1uuCH-Z",
        "outputId": "e31e2765-3f46-4389-9ca6-8339d9872f8d"
      },
      "execution_count": null,
      "outputs": [
        {
          "output_type": "stream",
          "name": "stdout",
          "text": [
            "      gene_name n_syn n_mis n_non n_spl n_ind wmis_cv wnon_cv wspl_cv wind_cv\n",
            "18057      TP53     2    70    15     8    21    87.8   363.0   363.0   167.4\n",
            "9768      LRP1B    20    69     6     3     6    10.7    13.2    13.2     4.1\n",
            "13955     PTPRT    16    28     3     1     2     9.6    15.6    15.6     4.3\n",
            "12566    PCDH15    10    31     3     1     1    10.8    14.4    14.4     1.6\n",
            "17024     SYNE1    20    62     5     2     5     4.4     4.9     4.9     1.8\n",
            "16660     SPTA1     9    48     1     2     5    12.1     6.4     6.4     6.5\n",
            "      pmis_cv ptrunc_cv pallsubs_cv pind_cv qmis_cv qtrunc_cv qallsubs_cv\n",
            "18057       0   0.0e+00           0 7.5e-13       0   0.00000           0\n",
            "9768        0   4.8e-08           0 7.9e-02       0   0.00016           0\n",
            "13955       0   1.4e-04           0 1.1e-01       0   0.10878           0\n",
            "12566       0   1.9e-04           0 2.8e-01       0   0.12924           0\n",
            "17024       0   8.7e-04           0 1.9e-01       0   0.37186           0\n",
            "16660       0   1.3e-02           0 4.1e-02       0   0.92563           0\n",
            "      qind_cv pglobal_cv qglobal_cv\n",
            "18057 1.5e-08          0          0\n",
            "9768  1.0e+00          0          0\n",
            "13955 1.0e+00          0          0\n",
            "12566 1.0e+00          0          0\n",
            "17024 1.0e+00          0          0\n",
            "16660 1.0e+00          0          0\n"
          ]
        }
      ]
    },
    {
      "cell_type": "markdown",
      "source": [
        "Note that no gene has enough truncating and splice site mutations to fit the 3-parameter model that generates qglobal_cv (due to input of SNV only). We use qallsubs_cv (FDR-adjusted p-value for all nonsynonymous mutations) to rank genes."
      ],
      "metadata": {
        "id": "Y-1GsZL74FvT"
      }
    },
    {
      "cell_type": "code",
      "source": [
        "results <- top_n(sel_cv,-30,qallsubs_cv)\n",
        "# top_drivers <- top_n(results,10,pglobal_cv) # breaking tie with p-value if ties with q\n",
        "# top_drivers <- top_n(top_drivers,10,n_ind) # breaking tie with number of\n",
        "\n",
        "results$percentage_samples <- sapply(\n",
        "  results$gene_name,\n",
        "  function(gene) {\n",
        "    length(unique(filtered_mutations$patient_id[filtered_mutations$Hugo_Symbol == gene])) / # number of mutations for a gene\n",
        "      length(unique(filtered_mutations$patient_id)) # total number mutations (after filtering ofc)\n",
        "  }\n",
        ")\n",
        "\n",
        "results"
      ],
      "metadata": {
        "colab": {
          "base_uri": "https://localhost:8080/",
          "height": 1000
        },
        "id": "YaEE-ET9dfEM",
        "outputId": "db71fcc6-d0b9-45dd-c329-5df8faa83aa8"
      },
      "execution_count": null,
      "outputs": [
        {
          "output_type": "display_data",
          "data": {
            "text/html": [
              "<table class=\"dataframe\">\n",
              "<caption>A data.frame: 30 × 15</caption>\n",
              "<thead>\n",
              "\t<tr><th scope=col>gene_name</th><th scope=col>n_syn</th><th scope=col>n_mis</th><th scope=col>n_non</th><th scope=col>n_spl</th><th scope=col>wmis_cv</th><th scope=col>wnon_cv</th><th scope=col>wspl_cv</th><th scope=col>pmis_cv</th><th scope=col>ptrunc_cv</th><th scope=col>pallsubs_cv</th><th scope=col>qmis_cv</th><th scope=col>qtrunc_cv</th><th scope=col>qallsubs_cv</th><th scope=col>percentage_samples</th></tr>\n",
              "\t<tr><th scope=col>&lt;chr&gt;</th><th scope=col>&lt;dbl&gt;</th><th scope=col>&lt;dbl&gt;</th><th scope=col>&lt;dbl&gt;</th><th scope=col>&lt;dbl&gt;</th><th scope=col>&lt;dbl&gt;</th><th scope=col>&lt;dbl&gt;</th><th scope=col>&lt;dbl&gt;</th><th scope=col>&lt;dbl&gt;</th><th scope=col>&lt;dbl&gt;</th><th scope=col>&lt;dbl&gt;</th><th scope=col>&lt;dbl&gt;</th><th scope=col>&lt;dbl&gt;</th><th scope=col>&lt;dbl&gt;</th><th scope=col>&lt;dbl&gt;</th></tr>\n",
              "</thead>\n",
              "<tbody>\n",
              "\t<tr><td>TP53  </td><td> 2</td><td> 70</td><td>15</td><td>8</td><td>87.700652</td><td>362.775791</td><td>362.775791</td><td>0.000000e+00</td><td>0.000000e+00</td><td>0.000000e+00</td><td>0.000000e+00</td><td>0.0000000000</td><td>0.000000e+00</td><td>0.22332506</td></tr>\n",
              "\t<tr><td>LRP1B </td><td>20</td><td> 69</td><td> 6</td><td>3</td><td>10.713671</td><td> 13.174420</td><td> 13.174420</td><td>0.000000e+00</td><td>4.855618e-08</td><td>0.000000e+00</td><td>0.000000e+00</td><td>0.0001625904</td><td>0.000000e+00</td><td>0.15880893</td></tr>\n",
              "\t<tr><td>PTPRT </td><td>16</td><td> 28</td><td> 3</td><td>1</td><td> 9.570230</td><td> 15.569526</td><td> 15.569526</td><td>0.000000e+00</td><td>1.419561e-04</td><td>0.000000e+00</td><td>0.000000e+00</td><td>0.1090793823</td><td>0.000000e+00</td><td>0.10173697</td></tr>\n",
              "\t<tr><td>PCDH15</td><td>10</td><td> 31</td><td> 3</td><td>1</td><td>10.743529</td><td> 14.400634</td><td> 14.400634</td><td>0.000000e+00</td><td>1.934795e-04</td><td>0.000000e+00</td><td>0.000000e+00</td><td>0.1295732503</td><td>0.000000e+00</td><td>0.11910670</td></tr>\n",
              "\t<tr><td>SYNE1 </td><td>20</td><td> 63</td><td> 5</td><td>2</td><td> 4.504588</td><td>  4.886639</td><td>  4.886639</td><td>0.000000e+00</td><td>8.748673e-04</td><td>0.000000e+00</td><td>0.000000e+00</td><td>0.3739778447</td><td>0.000000e+00</td><td>0.15632754</td></tr>\n",
              "\t<tr><td>SPTA1 </td><td> 9</td><td> 48</td><td> 1</td><td>2</td><td>12.048457</td><td>  6.439626</td><td>  6.439626</td><td>0.000000e+00</td><td>1.346934e-02</td><td>0.000000e+00</td><td>0.000000e+00</td><td>0.9255890694</td><td>0.000000e+00</td><td>0.12406948</td></tr>\n",
              "\t<tr><td>FLG   </td><td>20</td><td> 56</td><td> 3</td><td>0</td><td> 8.165875</td><td>  6.279775</td><td>  6.279775</td><td>0.000000e+00</td><td>1.447476e-02</td><td>0.000000e+00</td><td>0.000000e+00</td><td>0.9255890694</td><td>0.000000e+00</td><td>0.14888337</td></tr>\n",
              "\t<tr><td>CSMD1 </td><td>16</td><td> 50</td><td> 2</td><td>1</td><td> 7.992299</td><td>  5.377370</td><td>  5.377370</td><td>0.000000e+00</td><td>2.247234e-02</td><td>0.000000e+00</td><td>0.000000e+00</td><td>0.9255890694</td><td>0.000000e+00</td><td>0.13647643</td></tr>\n",
              "\t<tr><td>PREX2 </td><td> 8</td><td> 28</td><td> 1</td><td>1</td><td>10.745717</td><td>  8.400943</td><td>  8.400943</td><td>0.000000e+00</td><td>2.550250e-02</td><td>0.000000e+00</td><td>0.000000e+00</td><td>0.9255890694</td><td>0.000000e+00</td><td>0.08933002</td></tr>\n",
              "\t<tr><td>RYR2  </td><td>15</td><td> 44</td><td> 1</td><td>2</td><td> 5.283529</td><td>  3.511346</td><td>  3.511346</td><td>0.000000e+00</td><td>7.165783e-02</td><td>0.000000e+00</td><td>0.000000e+00</td><td>0.9255890694</td><td>0.000000e+00</td><td>0.10918114</td></tr>\n",
              "\t<tr><td>LAMA1 </td><td>12</td><td> 37</td><td> 1</td><td>1</td><td> 6.738395</td><td>  4.318478</td><td>  4.318478</td><td>0.000000e+00</td><td>9.557896e-02</td><td>0.000000e+00</td><td>0.000000e+00</td><td>0.9255890694</td><td>0.000000e+00</td><td>0.10669975</td></tr>\n",
              "\t<tr><td>PCLO  </td><td>19</td><td> 51</td><td> 2</td><td>0</td><td> 7.011428</td><td>  3.525261</td><td>  3.525261</td><td>0.000000e+00</td><td>1.403209e-01</td><td>0.000000e+00</td><td>0.000000e+00</td><td>0.9255890694</td><td>0.000000e+00</td><td>0.12406948</td></tr>\n",
              "\t<tr><td>TTN   </td><td>58</td><td>189</td><td> 7</td><td>0</td><td> 3.467531</td><td>  1.645000</td><td>  1.645000</td><td>0.000000e+00</td><td>2.239592e-01</td><td>0.000000e+00</td><td>0.000000e+00</td><td>0.9255890694</td><td>0.000000e+00</td><td>0.32754342</td></tr>\n",
              "\t<tr><td>FAT4  </td><td>17</td><td> 52</td><td> 1</td><td>0</td><td> 6.617291</td><td>  2.703801</td><td>  2.703801</td><td>0.000000e+00</td><td>3.932052e-01</td><td>0.000000e+00</td><td>0.000000e+00</td><td>0.9255890694</td><td>0.000000e+00</td><td>0.13151365</td></tr>\n",
              "\t<tr><td>PIK3CA</td><td> 1</td><td> 40</td><td> 0</td><td>0</td><td>26.840053</td><td>  0.000000</td><td>  0.000000</td><td>0.000000e+00</td><td>4.969075e-01</td><td>0.000000e+00</td><td>0.000000e+00</td><td>0.9255890694</td><td>0.000000e+00</td><td>0.08684864</td></tr>\n",
              "\t<tr><td>EPHB1 </td><td> 5</td><td> 25</td><td> 0</td><td>0</td><td>12.764873</td><td>  0.000000</td><td>  0.000000</td><td>0.000000e+00</td><td>6.302603e-01</td><td>0.000000e+00</td><td>0.000000e+00</td><td>0.9255890694</td><td>0.000000e+00</td><td>0.06203474</td></tr>\n",
              "\t<tr><td>CSMD3 </td><td>26</td><td> 55</td><td> 1</td><td>0</td><td>10.668127</td><td>  1.638803</td><td>  1.638803</td><td>0.000000e+00</td><td>6.480783e-01</td><td>0.000000e+00</td><td>0.000000e+00</td><td>0.9255890694</td><td>0.000000e+00</td><td>0.15384615</td></tr>\n",
              "\t<tr><td>CDH11 </td><td> 2</td><td> 22</td><td> 0</td><td>0</td><td>14.883036</td><td>  0.000000</td><td>  0.000000</td><td>0.000000e+00</td><td>6.742115e-01</td><td>0.000000e+00</td><td>0.000000e+00</td><td>0.9255890694</td><td>0.000000e+00</td><td>0.05707196</td></tr>\n",
              "\t<tr><td>DNAH5 </td><td>13</td><td> 44</td><td> 1</td><td>0</td><td> 5.705012</td><td>  1.386131</td><td>  1.386131</td><td>0.000000e+00</td><td>7.568114e-01</td><td>0.000000e+00</td><td>0.000000e+00</td><td>0.9255890694</td><td>0.000000e+00</td><td>0.11414392</td></tr>\n",
              "\t<tr><td>KRAS  </td><td> 0</td><td> 17</td><td> 0</td><td>0</td><td>68.749485</td><td>  0.000000</td><td>  0.000000</td><td>0.000000e+00</td><td>8.294616e-01</td><td>0.000000e+00</td><td>0.000000e+00</td><td>0.9255890694</td><td>0.000000e+00</td><td>0.04218362</td></tr>\n",
              "\t<tr><td>MUC16 </td><td>37</td><td> 92</td><td> 0</td><td>1</td><td> 4.795031</td><td>  1.166470</td><td>  1.166470</td><td>0.000000e+00</td><td>8.806635e-01</td><td>0.000000e+00</td><td>0.000000e+00</td><td>0.9255890694</td><td>0.000000e+00</td><td>0.20843672</td></tr>\n",
              "\t<tr><td>HMCN1 </td><td>14</td><td> 42</td><td> 6</td><td>1</td><td> 5.142765</td><td>  8.529537</td><td>  8.529537</td><td>1.110223e-16</td><td>2.655268e-05</td><td>0.000000e+00</td><td>9.293954e-14</td><td>0.0333418659</td><td>0.000000e+00</td><td>0.12655087</td></tr>\n",
              "\t<tr><td>ARID1A</td><td> 3</td><td>  6</td><td>19</td><td>2</td><td> 1.327164</td><td> 78.972633</td><td> 78.972633</td><td>5.079362e-01</td><td>0.000000e+00</td><td>0.000000e+00</td><td>5.504243e-01</td><td>0.0000000000</td><td>0.000000e+00</td><td>0.06947891</td></tr>\n",
              "\t<tr><td>ZFHX4 </td><td>19</td><td> 36</td><td> 2</td><td>0</td><td> 6.169365</td><td>  6.581171</td><td>  6.581171</td><td>0.000000e+00</td><td>4.176813e-02</td><td>1.110223e-16</td><td>0.000000e+00</td><td>0.9255890694</td><td>8.579035e-14</td><td>0.11662531</td></tr>\n",
              "\t<tr><td>NPAP1 </td><td> 4</td><td> 23</td><td> 0</td><td>0</td><td>12.254631</td><td>  0.000000</td><td>  0.000000</td><td>0.000000e+00</td><td>7.461633e-01</td><td>1.110223e-16</td><td>0.000000e+00</td><td>0.9255890694</td><td>8.579035e-14</td><td>0.05707196</td></tr>\n",
              "\t<tr><td>EDNRB </td><td> 3</td><td> 17</td><td> 2</td><td>0</td><td>16.787041</td><td> 25.897395</td><td> 25.897395</td><td>1.332268e-15</td><td>2.458889e-03</td><td>1.110223e-16</td><td>9.229858e-13</td><td>0.7018957314</td><td>8.579035e-14</td><td>0.04714640</td></tr>\n",
              "\t<tr><td>MUC17 </td><td>11</td><td> 37</td><td> 0</td><td>1</td><td> 5.625221</td><td>  5.570315</td><td>  5.570315</td><td>3.330669e-16</td><td>1.804477e-01</td><td>1.221245e-15</td><td>2.573710e-13</td><td>0.9255890694</td><td>9.087422e-13</td><td>0.08933002</td></tr>\n",
              "\t<tr><td>ADCY8 </td><td> 9</td><td> 23</td><td> 1</td><td>1</td><td> 9.298700</td><td> 12.019592</td><td> 12.019592</td><td>4.440892e-15</td><td>1.221867e-02</td><td>1.887379e-15</td><td>2.878128e-12</td><td>0.9255890694</td><td>1.354262e-12</td><td>0.07196030</td></tr>\n",
              "\t<tr><td>ZNF536</td><td> 8</td><td> 26</td><td> 0</td><td>0</td><td> 8.862630</td><td>  0.000000</td><td>  0.000000</td><td>2.220446e-16</td><td>6.894214e-01</td><td>2.220446e-15</td><td>1.784439e-13</td><td>0.9255890694</td><td>1.538310e-12</td><td>0.07940447</td></tr>\n",
              "\t<tr><td>TG    </td><td> 9</td><td> 32</td><td> 0</td><td>0</td><td> 6.554340</td><td>  0.000000</td><td>  0.000000</td><td>4.440892e-16</td><td>3.526909e-01</td><td>2.886580e-15</td><td>3.304517e-13</td><td>0.9255890694</td><td>1.933143e-12</td><td>0.07940447</td></tr>\n",
              "</tbody>\n",
              "</table>\n"
            ],
            "text/markdown": "\nA data.frame: 30 × 15\n\n| gene_name &lt;chr&gt; | n_syn &lt;dbl&gt; | n_mis &lt;dbl&gt; | n_non &lt;dbl&gt; | n_spl &lt;dbl&gt; | wmis_cv &lt;dbl&gt; | wnon_cv &lt;dbl&gt; | wspl_cv &lt;dbl&gt; | pmis_cv &lt;dbl&gt; | ptrunc_cv &lt;dbl&gt; | pallsubs_cv &lt;dbl&gt; | qmis_cv &lt;dbl&gt; | qtrunc_cv &lt;dbl&gt; | qallsubs_cv &lt;dbl&gt; | percentage_samples &lt;dbl&gt; |\n|---|---|---|---|---|---|---|---|---|---|---|---|---|---|---|\n| TP53   |  2 |  70 | 15 | 8 | 87.700652 | 362.775791 | 362.775791 | 0.000000e+00 | 0.000000e+00 | 0.000000e+00 | 0.000000e+00 | 0.0000000000 | 0.000000e+00 | 0.22332506 |\n| LRP1B  | 20 |  69 |  6 | 3 | 10.713671 |  13.174420 |  13.174420 | 0.000000e+00 | 4.855618e-08 | 0.000000e+00 | 0.000000e+00 | 0.0001625904 | 0.000000e+00 | 0.15880893 |\n| PTPRT  | 16 |  28 |  3 | 1 |  9.570230 |  15.569526 |  15.569526 | 0.000000e+00 | 1.419561e-04 | 0.000000e+00 | 0.000000e+00 | 0.1090793823 | 0.000000e+00 | 0.10173697 |\n| PCDH15 | 10 |  31 |  3 | 1 | 10.743529 |  14.400634 |  14.400634 | 0.000000e+00 | 1.934795e-04 | 0.000000e+00 | 0.000000e+00 | 0.1295732503 | 0.000000e+00 | 0.11910670 |\n| SYNE1  | 20 |  63 |  5 | 2 |  4.504588 |   4.886639 |   4.886639 | 0.000000e+00 | 8.748673e-04 | 0.000000e+00 | 0.000000e+00 | 0.3739778447 | 0.000000e+00 | 0.15632754 |\n| SPTA1  |  9 |  48 |  1 | 2 | 12.048457 |   6.439626 |   6.439626 | 0.000000e+00 | 1.346934e-02 | 0.000000e+00 | 0.000000e+00 | 0.9255890694 | 0.000000e+00 | 0.12406948 |\n| FLG    | 20 |  56 |  3 | 0 |  8.165875 |   6.279775 |   6.279775 | 0.000000e+00 | 1.447476e-02 | 0.000000e+00 | 0.000000e+00 | 0.9255890694 | 0.000000e+00 | 0.14888337 |\n| CSMD1  | 16 |  50 |  2 | 1 |  7.992299 |   5.377370 |   5.377370 | 0.000000e+00 | 2.247234e-02 | 0.000000e+00 | 0.000000e+00 | 0.9255890694 | 0.000000e+00 | 0.13647643 |\n| PREX2  |  8 |  28 |  1 | 1 | 10.745717 |   8.400943 |   8.400943 | 0.000000e+00 | 2.550250e-02 | 0.000000e+00 | 0.000000e+00 | 0.9255890694 | 0.000000e+00 | 0.08933002 |\n| RYR2   | 15 |  44 |  1 | 2 |  5.283529 |   3.511346 |   3.511346 | 0.000000e+00 | 7.165783e-02 | 0.000000e+00 | 0.000000e+00 | 0.9255890694 | 0.000000e+00 | 0.10918114 |\n| LAMA1  | 12 |  37 |  1 | 1 |  6.738395 |   4.318478 |   4.318478 | 0.000000e+00 | 9.557896e-02 | 0.000000e+00 | 0.000000e+00 | 0.9255890694 | 0.000000e+00 | 0.10669975 |\n| PCLO   | 19 |  51 |  2 | 0 |  7.011428 |   3.525261 |   3.525261 | 0.000000e+00 | 1.403209e-01 | 0.000000e+00 | 0.000000e+00 | 0.9255890694 | 0.000000e+00 | 0.12406948 |\n| TTN    | 58 | 189 |  7 | 0 |  3.467531 |   1.645000 |   1.645000 | 0.000000e+00 | 2.239592e-01 | 0.000000e+00 | 0.000000e+00 | 0.9255890694 | 0.000000e+00 | 0.32754342 |\n| FAT4   | 17 |  52 |  1 | 0 |  6.617291 |   2.703801 |   2.703801 | 0.000000e+00 | 3.932052e-01 | 0.000000e+00 | 0.000000e+00 | 0.9255890694 | 0.000000e+00 | 0.13151365 |\n| PIK3CA |  1 |  40 |  0 | 0 | 26.840053 |   0.000000 |   0.000000 | 0.000000e+00 | 4.969075e-01 | 0.000000e+00 | 0.000000e+00 | 0.9255890694 | 0.000000e+00 | 0.08684864 |\n| EPHB1  |  5 |  25 |  0 | 0 | 12.764873 |   0.000000 |   0.000000 | 0.000000e+00 | 6.302603e-01 | 0.000000e+00 | 0.000000e+00 | 0.9255890694 | 0.000000e+00 | 0.06203474 |\n| CSMD3  | 26 |  55 |  1 | 0 | 10.668127 |   1.638803 |   1.638803 | 0.000000e+00 | 6.480783e-01 | 0.000000e+00 | 0.000000e+00 | 0.9255890694 | 0.000000e+00 | 0.15384615 |\n| CDH11  |  2 |  22 |  0 | 0 | 14.883036 |   0.000000 |   0.000000 | 0.000000e+00 | 6.742115e-01 | 0.000000e+00 | 0.000000e+00 | 0.9255890694 | 0.000000e+00 | 0.05707196 |\n| DNAH5  | 13 |  44 |  1 | 0 |  5.705012 |   1.386131 |   1.386131 | 0.000000e+00 | 7.568114e-01 | 0.000000e+00 | 0.000000e+00 | 0.9255890694 | 0.000000e+00 | 0.11414392 |\n| KRAS   |  0 |  17 |  0 | 0 | 68.749485 |   0.000000 |   0.000000 | 0.000000e+00 | 8.294616e-01 | 0.000000e+00 | 0.000000e+00 | 0.9255890694 | 0.000000e+00 | 0.04218362 |\n| MUC16  | 37 |  92 |  0 | 1 |  4.795031 |   1.166470 |   1.166470 | 0.000000e+00 | 8.806635e-01 | 0.000000e+00 | 0.000000e+00 | 0.9255890694 | 0.000000e+00 | 0.20843672 |\n| HMCN1  | 14 |  42 |  6 | 1 |  5.142765 |   8.529537 |   8.529537 | 1.110223e-16 | 2.655268e-05 | 0.000000e+00 | 9.293954e-14 | 0.0333418659 | 0.000000e+00 | 0.12655087 |\n| ARID1A |  3 |   6 | 19 | 2 |  1.327164 |  78.972633 |  78.972633 | 5.079362e-01 | 0.000000e+00 | 0.000000e+00 | 5.504243e-01 | 0.0000000000 | 0.000000e+00 | 0.06947891 |\n| ZFHX4  | 19 |  36 |  2 | 0 |  6.169365 |   6.581171 |   6.581171 | 0.000000e+00 | 4.176813e-02 | 1.110223e-16 | 0.000000e+00 | 0.9255890694 | 8.579035e-14 | 0.11662531 |\n| NPAP1  |  4 |  23 |  0 | 0 | 12.254631 |   0.000000 |   0.000000 | 0.000000e+00 | 7.461633e-01 | 1.110223e-16 | 0.000000e+00 | 0.9255890694 | 8.579035e-14 | 0.05707196 |\n| EDNRB  |  3 |  17 |  2 | 0 | 16.787041 |  25.897395 |  25.897395 | 1.332268e-15 | 2.458889e-03 | 1.110223e-16 | 9.229858e-13 | 0.7018957314 | 8.579035e-14 | 0.04714640 |\n| MUC17  | 11 |  37 |  0 | 1 |  5.625221 |   5.570315 |   5.570315 | 3.330669e-16 | 1.804477e-01 | 1.221245e-15 | 2.573710e-13 | 0.9255890694 | 9.087422e-13 | 0.08933002 |\n| ADCY8  |  9 |  23 |  1 | 1 |  9.298700 |  12.019592 |  12.019592 | 4.440892e-15 | 1.221867e-02 | 1.887379e-15 | 2.878128e-12 | 0.9255890694 | 1.354262e-12 | 0.07196030 |\n| ZNF536 |  8 |  26 |  0 | 0 |  8.862630 |   0.000000 |   0.000000 | 2.220446e-16 | 6.894214e-01 | 2.220446e-15 | 1.784439e-13 | 0.9255890694 | 1.538310e-12 | 0.07940447 |\n| TG     |  9 |  32 |  0 | 0 |  6.554340 |   0.000000 |   0.000000 | 4.440892e-16 | 3.526909e-01 | 2.886580e-15 | 3.304517e-13 | 0.9255890694 | 1.933143e-12 | 0.07940447 |\n\n",
            "text/latex": "A data.frame: 30 × 15\n\\begin{tabular}{lllllllllllllll}\n gene\\_name & n\\_syn & n\\_mis & n\\_non & n\\_spl & wmis\\_cv & wnon\\_cv & wspl\\_cv & pmis\\_cv & ptrunc\\_cv & pallsubs\\_cv & qmis\\_cv & qtrunc\\_cv & qallsubs\\_cv & percentage\\_samples\\\\\n <chr> & <dbl> & <dbl> & <dbl> & <dbl> & <dbl> & <dbl> & <dbl> & <dbl> & <dbl> & <dbl> & <dbl> & <dbl> & <dbl> & <dbl>\\\\\n\\hline\n\t TP53   &  2 &  70 & 15 & 8 & 87.700652 & 362.775791 & 362.775791 & 0.000000e+00 & 0.000000e+00 & 0.000000e+00 & 0.000000e+00 & 0.0000000000 & 0.000000e+00 & 0.22332506\\\\\n\t LRP1B  & 20 &  69 &  6 & 3 & 10.713671 &  13.174420 &  13.174420 & 0.000000e+00 & 4.855618e-08 & 0.000000e+00 & 0.000000e+00 & 0.0001625904 & 0.000000e+00 & 0.15880893\\\\\n\t PTPRT  & 16 &  28 &  3 & 1 &  9.570230 &  15.569526 &  15.569526 & 0.000000e+00 & 1.419561e-04 & 0.000000e+00 & 0.000000e+00 & 0.1090793823 & 0.000000e+00 & 0.10173697\\\\\n\t PCDH15 & 10 &  31 &  3 & 1 & 10.743529 &  14.400634 &  14.400634 & 0.000000e+00 & 1.934795e-04 & 0.000000e+00 & 0.000000e+00 & 0.1295732503 & 0.000000e+00 & 0.11910670\\\\\n\t SYNE1  & 20 &  63 &  5 & 2 &  4.504588 &   4.886639 &   4.886639 & 0.000000e+00 & 8.748673e-04 & 0.000000e+00 & 0.000000e+00 & 0.3739778447 & 0.000000e+00 & 0.15632754\\\\\n\t SPTA1  &  9 &  48 &  1 & 2 & 12.048457 &   6.439626 &   6.439626 & 0.000000e+00 & 1.346934e-02 & 0.000000e+00 & 0.000000e+00 & 0.9255890694 & 0.000000e+00 & 0.12406948\\\\\n\t FLG    & 20 &  56 &  3 & 0 &  8.165875 &   6.279775 &   6.279775 & 0.000000e+00 & 1.447476e-02 & 0.000000e+00 & 0.000000e+00 & 0.9255890694 & 0.000000e+00 & 0.14888337\\\\\n\t CSMD1  & 16 &  50 &  2 & 1 &  7.992299 &   5.377370 &   5.377370 & 0.000000e+00 & 2.247234e-02 & 0.000000e+00 & 0.000000e+00 & 0.9255890694 & 0.000000e+00 & 0.13647643\\\\\n\t PREX2  &  8 &  28 &  1 & 1 & 10.745717 &   8.400943 &   8.400943 & 0.000000e+00 & 2.550250e-02 & 0.000000e+00 & 0.000000e+00 & 0.9255890694 & 0.000000e+00 & 0.08933002\\\\\n\t RYR2   & 15 &  44 &  1 & 2 &  5.283529 &   3.511346 &   3.511346 & 0.000000e+00 & 7.165783e-02 & 0.000000e+00 & 0.000000e+00 & 0.9255890694 & 0.000000e+00 & 0.10918114\\\\\n\t LAMA1  & 12 &  37 &  1 & 1 &  6.738395 &   4.318478 &   4.318478 & 0.000000e+00 & 9.557896e-02 & 0.000000e+00 & 0.000000e+00 & 0.9255890694 & 0.000000e+00 & 0.10669975\\\\\n\t PCLO   & 19 &  51 &  2 & 0 &  7.011428 &   3.525261 &   3.525261 & 0.000000e+00 & 1.403209e-01 & 0.000000e+00 & 0.000000e+00 & 0.9255890694 & 0.000000e+00 & 0.12406948\\\\\n\t TTN    & 58 & 189 &  7 & 0 &  3.467531 &   1.645000 &   1.645000 & 0.000000e+00 & 2.239592e-01 & 0.000000e+00 & 0.000000e+00 & 0.9255890694 & 0.000000e+00 & 0.32754342\\\\\n\t FAT4   & 17 &  52 &  1 & 0 &  6.617291 &   2.703801 &   2.703801 & 0.000000e+00 & 3.932052e-01 & 0.000000e+00 & 0.000000e+00 & 0.9255890694 & 0.000000e+00 & 0.13151365\\\\\n\t PIK3CA &  1 &  40 &  0 & 0 & 26.840053 &   0.000000 &   0.000000 & 0.000000e+00 & 4.969075e-01 & 0.000000e+00 & 0.000000e+00 & 0.9255890694 & 0.000000e+00 & 0.08684864\\\\\n\t EPHB1  &  5 &  25 &  0 & 0 & 12.764873 &   0.000000 &   0.000000 & 0.000000e+00 & 6.302603e-01 & 0.000000e+00 & 0.000000e+00 & 0.9255890694 & 0.000000e+00 & 0.06203474\\\\\n\t CSMD3  & 26 &  55 &  1 & 0 & 10.668127 &   1.638803 &   1.638803 & 0.000000e+00 & 6.480783e-01 & 0.000000e+00 & 0.000000e+00 & 0.9255890694 & 0.000000e+00 & 0.15384615\\\\\n\t CDH11  &  2 &  22 &  0 & 0 & 14.883036 &   0.000000 &   0.000000 & 0.000000e+00 & 6.742115e-01 & 0.000000e+00 & 0.000000e+00 & 0.9255890694 & 0.000000e+00 & 0.05707196\\\\\n\t DNAH5  & 13 &  44 &  1 & 0 &  5.705012 &   1.386131 &   1.386131 & 0.000000e+00 & 7.568114e-01 & 0.000000e+00 & 0.000000e+00 & 0.9255890694 & 0.000000e+00 & 0.11414392\\\\\n\t KRAS   &  0 &  17 &  0 & 0 & 68.749485 &   0.000000 &   0.000000 & 0.000000e+00 & 8.294616e-01 & 0.000000e+00 & 0.000000e+00 & 0.9255890694 & 0.000000e+00 & 0.04218362\\\\\n\t MUC16  & 37 &  92 &  0 & 1 &  4.795031 &   1.166470 &   1.166470 & 0.000000e+00 & 8.806635e-01 & 0.000000e+00 & 0.000000e+00 & 0.9255890694 & 0.000000e+00 & 0.20843672\\\\\n\t HMCN1  & 14 &  42 &  6 & 1 &  5.142765 &   8.529537 &   8.529537 & 1.110223e-16 & 2.655268e-05 & 0.000000e+00 & 9.293954e-14 & 0.0333418659 & 0.000000e+00 & 0.12655087\\\\\n\t ARID1A &  3 &   6 & 19 & 2 &  1.327164 &  78.972633 &  78.972633 & 5.079362e-01 & 0.000000e+00 & 0.000000e+00 & 5.504243e-01 & 0.0000000000 & 0.000000e+00 & 0.06947891\\\\\n\t ZFHX4  & 19 &  36 &  2 & 0 &  6.169365 &   6.581171 &   6.581171 & 0.000000e+00 & 4.176813e-02 & 1.110223e-16 & 0.000000e+00 & 0.9255890694 & 8.579035e-14 & 0.11662531\\\\\n\t NPAP1  &  4 &  23 &  0 & 0 & 12.254631 &   0.000000 &   0.000000 & 0.000000e+00 & 7.461633e-01 & 1.110223e-16 & 0.000000e+00 & 0.9255890694 & 8.579035e-14 & 0.05707196\\\\\n\t EDNRB  &  3 &  17 &  2 & 0 & 16.787041 &  25.897395 &  25.897395 & 1.332268e-15 & 2.458889e-03 & 1.110223e-16 & 9.229858e-13 & 0.7018957314 & 8.579035e-14 & 0.04714640\\\\\n\t MUC17  & 11 &  37 &  0 & 1 &  5.625221 &   5.570315 &   5.570315 & 3.330669e-16 & 1.804477e-01 & 1.221245e-15 & 2.573710e-13 & 0.9255890694 & 9.087422e-13 & 0.08933002\\\\\n\t ADCY8  &  9 &  23 &  1 & 1 &  9.298700 &  12.019592 &  12.019592 & 4.440892e-15 & 1.221867e-02 & 1.887379e-15 & 2.878128e-12 & 0.9255890694 & 1.354262e-12 & 0.07196030\\\\\n\t ZNF536 &  8 &  26 &  0 & 0 &  8.862630 &   0.000000 &   0.000000 & 2.220446e-16 & 6.894214e-01 & 2.220446e-15 & 1.784439e-13 & 0.9255890694 & 1.538310e-12 & 0.07940447\\\\\n\t TG     &  9 &  32 &  0 & 0 &  6.554340 &   0.000000 &   0.000000 & 4.440892e-16 & 3.526909e-01 & 2.886580e-15 & 3.304517e-13 & 0.9255890694 & 1.933143e-12 & 0.07940447\\\\\n\\end{tabular}\n",
            "text/plain": [
              "   gene_name n_syn n_mis n_non n_spl wmis_cv   wnon_cv    wspl_cv   \n",
              "1  TP53       2     70   15    8     87.700652 362.775791 362.775791\n",
              "2  LRP1B     20     69    6    3     10.713671  13.174420  13.174420\n",
              "3  PTPRT     16     28    3    1      9.570230  15.569526  15.569526\n",
              "4  PCDH15    10     31    3    1     10.743529  14.400634  14.400634\n",
              "5  SYNE1     20     63    5    2      4.504588   4.886639   4.886639\n",
              "6  SPTA1      9     48    1    2     12.048457   6.439626   6.439626\n",
              "7  FLG       20     56    3    0      8.165875   6.279775   6.279775\n",
              "8  CSMD1     16     50    2    1      7.992299   5.377370   5.377370\n",
              "9  PREX2      8     28    1    1     10.745717   8.400943   8.400943\n",
              "10 RYR2      15     44    1    2      5.283529   3.511346   3.511346\n",
              "11 LAMA1     12     37    1    1      6.738395   4.318478   4.318478\n",
              "12 PCLO      19     51    2    0      7.011428   3.525261   3.525261\n",
              "13 TTN       58    189    7    0      3.467531   1.645000   1.645000\n",
              "14 FAT4      17     52    1    0      6.617291   2.703801   2.703801\n",
              "15 PIK3CA     1     40    0    0     26.840053   0.000000   0.000000\n",
              "16 EPHB1      5     25    0    0     12.764873   0.000000   0.000000\n",
              "17 CSMD3     26     55    1    0     10.668127   1.638803   1.638803\n",
              "18 CDH11      2     22    0    0     14.883036   0.000000   0.000000\n",
              "19 DNAH5     13     44    1    0      5.705012   1.386131   1.386131\n",
              "20 KRAS       0     17    0    0     68.749485   0.000000   0.000000\n",
              "21 MUC16     37     92    0    1      4.795031   1.166470   1.166470\n",
              "22 HMCN1     14     42    6    1      5.142765   8.529537   8.529537\n",
              "23 ARID1A     3      6   19    2      1.327164  78.972633  78.972633\n",
              "24 ZFHX4     19     36    2    0      6.169365   6.581171   6.581171\n",
              "25 NPAP1      4     23    0    0     12.254631   0.000000   0.000000\n",
              "26 EDNRB      3     17    2    0     16.787041  25.897395  25.897395\n",
              "27 MUC17     11     37    0    1      5.625221   5.570315   5.570315\n",
              "28 ADCY8      9     23    1    1      9.298700  12.019592  12.019592\n",
              "29 ZNF536     8     26    0    0      8.862630   0.000000   0.000000\n",
              "30 TG         9     32    0    0      6.554340   0.000000   0.000000\n",
              "   pmis_cv      ptrunc_cv    pallsubs_cv  qmis_cv      qtrunc_cv   \n",
              "1  0.000000e+00 0.000000e+00 0.000000e+00 0.000000e+00 0.0000000000\n",
              "2  0.000000e+00 4.855618e-08 0.000000e+00 0.000000e+00 0.0001625904\n",
              "3  0.000000e+00 1.419561e-04 0.000000e+00 0.000000e+00 0.1090793823\n",
              "4  0.000000e+00 1.934795e-04 0.000000e+00 0.000000e+00 0.1295732503\n",
              "5  0.000000e+00 8.748673e-04 0.000000e+00 0.000000e+00 0.3739778447\n",
              "6  0.000000e+00 1.346934e-02 0.000000e+00 0.000000e+00 0.9255890694\n",
              "7  0.000000e+00 1.447476e-02 0.000000e+00 0.000000e+00 0.9255890694\n",
              "8  0.000000e+00 2.247234e-02 0.000000e+00 0.000000e+00 0.9255890694\n",
              "9  0.000000e+00 2.550250e-02 0.000000e+00 0.000000e+00 0.9255890694\n",
              "10 0.000000e+00 7.165783e-02 0.000000e+00 0.000000e+00 0.9255890694\n",
              "11 0.000000e+00 9.557896e-02 0.000000e+00 0.000000e+00 0.9255890694\n",
              "12 0.000000e+00 1.403209e-01 0.000000e+00 0.000000e+00 0.9255890694\n",
              "13 0.000000e+00 2.239592e-01 0.000000e+00 0.000000e+00 0.9255890694\n",
              "14 0.000000e+00 3.932052e-01 0.000000e+00 0.000000e+00 0.9255890694\n",
              "15 0.000000e+00 4.969075e-01 0.000000e+00 0.000000e+00 0.9255890694\n",
              "16 0.000000e+00 6.302603e-01 0.000000e+00 0.000000e+00 0.9255890694\n",
              "17 0.000000e+00 6.480783e-01 0.000000e+00 0.000000e+00 0.9255890694\n",
              "18 0.000000e+00 6.742115e-01 0.000000e+00 0.000000e+00 0.9255890694\n",
              "19 0.000000e+00 7.568114e-01 0.000000e+00 0.000000e+00 0.9255890694\n",
              "20 0.000000e+00 8.294616e-01 0.000000e+00 0.000000e+00 0.9255890694\n",
              "21 0.000000e+00 8.806635e-01 0.000000e+00 0.000000e+00 0.9255890694\n",
              "22 1.110223e-16 2.655268e-05 0.000000e+00 9.293954e-14 0.0333418659\n",
              "23 5.079362e-01 0.000000e+00 0.000000e+00 5.504243e-01 0.0000000000\n",
              "24 0.000000e+00 4.176813e-02 1.110223e-16 0.000000e+00 0.9255890694\n",
              "25 0.000000e+00 7.461633e-01 1.110223e-16 0.000000e+00 0.9255890694\n",
              "26 1.332268e-15 2.458889e-03 1.110223e-16 9.229858e-13 0.7018957314\n",
              "27 3.330669e-16 1.804477e-01 1.221245e-15 2.573710e-13 0.9255890694\n",
              "28 4.440892e-15 1.221867e-02 1.887379e-15 2.878128e-12 0.9255890694\n",
              "29 2.220446e-16 6.894214e-01 2.220446e-15 1.784439e-13 0.9255890694\n",
              "30 4.440892e-16 3.526909e-01 2.886580e-15 3.304517e-13 0.9255890694\n",
              "   qallsubs_cv  percentage_samples\n",
              "1  0.000000e+00 0.22332506        \n",
              "2  0.000000e+00 0.15880893        \n",
              "3  0.000000e+00 0.10173697        \n",
              "4  0.000000e+00 0.11910670        \n",
              "5  0.000000e+00 0.15632754        \n",
              "6  0.000000e+00 0.12406948        \n",
              "7  0.000000e+00 0.14888337        \n",
              "8  0.000000e+00 0.13647643        \n",
              "9  0.000000e+00 0.08933002        \n",
              "10 0.000000e+00 0.10918114        \n",
              "11 0.000000e+00 0.10669975        \n",
              "12 0.000000e+00 0.12406948        \n",
              "13 0.000000e+00 0.32754342        \n",
              "14 0.000000e+00 0.13151365        \n",
              "15 0.000000e+00 0.08684864        \n",
              "16 0.000000e+00 0.06203474        \n",
              "17 0.000000e+00 0.15384615        \n",
              "18 0.000000e+00 0.05707196        \n",
              "19 0.000000e+00 0.11414392        \n",
              "20 0.000000e+00 0.04218362        \n",
              "21 0.000000e+00 0.20843672        \n",
              "22 0.000000e+00 0.12655087        \n",
              "23 0.000000e+00 0.06947891        \n",
              "24 8.579035e-14 0.11662531        \n",
              "25 8.579035e-14 0.05707196        \n",
              "26 8.579035e-14 0.04714640        \n",
              "27 9.087422e-13 0.08933002        \n",
              "28 1.354262e-12 0.07196030        \n",
              "29 1.538310e-12 0.07940447        \n",
              "30 1.933143e-12 0.07940447        "
            ]
          },
          "metadata": {}
        }
      ]
    },
    {
      "cell_type": "code",
      "source": [
        "signif_genes = results[results$qallsubs_cv<0.1, c(\"gene_name\",\"qallsubs_cv\",\"percentage_samples\")]\n",
        "rownames(signif_genes) = NULL\n",
        "\n",
        "top_drivers <- top_n(signif_genes,-10,qallsubs_cv)\n",
        "\n",
        "write.table(top_drivers, file = \"dndscv_package_drivers.tsv\", sep = \"\\t\", row.names = FALSE, quote = FALSE)\n",
        "\n",
        "top_10 <- top_n(top_drivers,10,percentage_samples)\n",
        "top_10"
      ],
      "metadata": {
        "colab": {
          "base_uri": "https://localhost:8080/",
          "height": 411
        },
        "id": "ptZbIUggCfO-",
        "outputId": "a0343f9b-c6f4-46d1-df84-aa31221562ce"
      },
      "execution_count": null,
      "outputs": [
        {
          "output_type": "display_data",
          "data": {
            "text/html": [
              "<table class=\"dataframe\">\n",
              "<caption>A data.frame: 10 × 3</caption>\n",
              "<thead>\n",
              "\t<tr><th scope=col>gene_name</th><th scope=col>qallsubs_cv</th><th scope=col>percentage_samples</th></tr>\n",
              "\t<tr><th scope=col>&lt;chr&gt;</th><th scope=col>&lt;dbl&gt;</th><th scope=col>&lt;dbl&gt;</th></tr>\n",
              "</thead>\n",
              "<tbody>\n",
              "\t<tr><td>TP53 </td><td>0</td><td>0.2233251</td></tr>\n",
              "\t<tr><td>LRP1B</td><td>0</td><td>0.1588089</td></tr>\n",
              "\t<tr><td>SYNE1</td><td>0</td><td>0.1563275</td></tr>\n",
              "\t<tr><td>FLG  </td><td>0</td><td>0.1488834</td></tr>\n",
              "\t<tr><td>CSMD1</td><td>0</td><td>0.1364764</td></tr>\n",
              "\t<tr><td>TTN  </td><td>0</td><td>0.3275434</td></tr>\n",
              "\t<tr><td>FAT4 </td><td>0</td><td>0.1315136</td></tr>\n",
              "\t<tr><td>CSMD3</td><td>0</td><td>0.1538462</td></tr>\n",
              "\t<tr><td>MUC16</td><td>0</td><td>0.2084367</td></tr>\n",
              "\t<tr><td>HMCN1</td><td>0</td><td>0.1265509</td></tr>\n",
              "</tbody>\n",
              "</table>\n"
            ],
            "text/markdown": "\nA data.frame: 10 × 3\n\n| gene_name &lt;chr&gt; | qallsubs_cv &lt;dbl&gt; | percentage_samples &lt;dbl&gt; |\n|---|---|---|\n| TP53  | 0 | 0.2233251 |\n| LRP1B | 0 | 0.1588089 |\n| SYNE1 | 0 | 0.1563275 |\n| FLG   | 0 | 0.1488834 |\n| CSMD1 | 0 | 0.1364764 |\n| TTN   | 0 | 0.3275434 |\n| FAT4  | 0 | 0.1315136 |\n| CSMD3 | 0 | 0.1538462 |\n| MUC16 | 0 | 0.2084367 |\n| HMCN1 | 0 | 0.1265509 |\n\n",
            "text/latex": "A data.frame: 10 × 3\n\\begin{tabular}{lll}\n gene\\_name & qallsubs\\_cv & percentage\\_samples\\\\\n <chr> & <dbl> & <dbl>\\\\\n\\hline\n\t TP53  & 0 & 0.2233251\\\\\n\t LRP1B & 0 & 0.1588089\\\\\n\t SYNE1 & 0 & 0.1563275\\\\\n\t FLG   & 0 & 0.1488834\\\\\n\t CSMD1 & 0 & 0.1364764\\\\\n\t TTN   & 0 & 0.3275434\\\\\n\t FAT4  & 0 & 0.1315136\\\\\n\t CSMD3 & 0 & 0.1538462\\\\\n\t MUC16 & 0 & 0.2084367\\\\\n\t HMCN1 & 0 & 0.1265509\\\\\n\\end{tabular}\n",
            "text/plain": [
              "   gene_name qallsubs_cv percentage_samples\n",
              "1  TP53      0           0.2233251         \n",
              "2  LRP1B     0           0.1588089         \n",
              "3  SYNE1     0           0.1563275         \n",
              "4  FLG       0           0.1488834         \n",
              "5  CSMD1     0           0.1364764         \n",
              "6  TTN       0           0.3275434         \n",
              "7  FAT4      0           0.1315136         \n",
              "8  CSMD3     0           0.1538462         \n",
              "9  MUC16     0           0.2084367         \n",
              "10 HMCN1     0           0.1265509         "
            ]
          },
          "metadata": {}
        }
      ]
    },
    {
      "cell_type": "markdown",
      "source": [
        "(dndsout$globaldnds) table with the global MLEs for the dN/dS ratios across all genes. dN/dS ratios with associated confidence intervals are calculated for missense, nonsense and essential splice site substitutions separately, as well as for all non-synonymous substitutions (wall) and for all truncating substitutions together (wtru), which include nonsense and essential splice site mutations.\n"
      ],
      "metadata": {
        "id": "7_zaAbdhCwWC"
      }
    },
    {
      "cell_type": "code",
      "source": [
        "print(dndsout$globaldnds)"
      ],
      "metadata": {
        "colab": {
          "base_uri": "https://localhost:8080/"
        },
        "id": "cXpxF-cSCozw",
        "outputId": "48187315-ca7d-47d4-9eef-9eb87c5e353e"
      },
      "execution_count": null,
      "outputs": [
        {
          "output_type": "stream",
          "name": "stdout",
          "text": [
            "     name       mle     cilow    cihigh\n",
            "wmis wmis 1.0506913 1.0242809 1.0777828\n",
            "wnon wnon 1.1509126 1.0786538 1.2280121\n",
            "wspl wspl 0.7060628 0.6377090 0.7817433\n",
            "wtru wtru 0.9860714 0.9321425 1.0431204\n",
            "wall wall 1.0487036 1.0226258 1.0754463\n"
          ]
        }
      ]
    },
    {
      "cell_type": "markdown",
      "source": [
        "annotated table of coding mutations (annotmuts)"
      ],
      "metadata": {
        "id": "ahSgJBEagIZ3"
      }
    },
    {
      "cell_type": "code",
      "source": [
        "head(dndsout$annotmuts)"
      ],
      "metadata": {
        "colab": {
          "base_uri": "https://localhost:8080/",
          "height": 286
        },
        "id": "JHdbiWvBDFxZ",
        "outputId": "50b381ed-9143-4bf1-9618-a41c853f96f6"
      },
      "execution_count": null,
      "outputs": [
        {
          "output_type": "display_data",
          "data": {
            "text/html": [
              "<table class=\"dataframe\">\n",
              "<caption>A tibble: 6 × 16</caption>\n",
              "<thead>\n",
              "\t<tr><th scope=col>sampleID</th><th scope=col>chr</th><th scope=col>pos</th><th scope=col>ref</th><th scope=col>mut</th><th scope=col>gene</th><th scope=col>strand</th><th scope=col>ref_cod</th><th scope=col>mut_cod</th><th scope=col>ref3_cod</th><th scope=col>mut3_cod</th><th scope=col>aachange</th><th scope=col>ntchange</th><th scope=col>codonsub</th><th scope=col>impact</th><th scope=col>pid</th></tr>\n",
              "\t<tr><th scope=col>&lt;chr&gt;</th><th scope=col>&lt;chr&gt;</th><th scope=col>&lt;dbl&gt;</th><th scope=col>&lt;chr&gt;</th><th scope=col>&lt;chr&gt;</th><th scope=col>&lt;chr&gt;</th><th scope=col>&lt;int&gt;</th><th scope=col>&lt;chr&gt;</th><th scope=col>&lt;chr&gt;</th><th scope=col>&lt;chr[1d]&gt;</th><th scope=col>&lt;chr[1d]&gt;</th><th scope=col>&lt;chr[1d]&gt;</th><th scope=col>&lt;chr[1d]&gt;</th><th scope=col>&lt;chr[1d]&gt;</th><th scope=col>&lt;chr[1d]&gt;</th><th scope=col>&lt;chr&gt;</th></tr>\n",
              "</thead>\n",
              "<tbody>\n",
              "\t<tr><td>TCGA-3M-AB46</td><td>10</td><td> 71021034</td><td>C</td><td>T</td><td>HKDC1</td><td> 1</td><td>C</td><td>T</td><td>CCT</td><td>CTT</td><td>L786L</td><td>C2356T</td><td>CTG&gt;TTG</td><td>Synonymous</td><td>ENSP00000346643</td></tr>\n",
              "\t<tr><td>TCGA-3M-AB46</td><td>10</td><td> 89692887</td><td>G</td><td>C</td><td>PTEN </td><td> 1</td><td>G</td><td>C</td><td>TGT</td><td>TCT</td><td>C124S</td><td>G371C </td><td>TGT&gt;TCT</td><td><span style=white-space:pre-wrap>Missense  </span></td><td>ENSP00000361021</td></tr>\n",
              "\t<tr><td>TCGA-3M-AB46</td><td>11</td><td><span style=white-space:pre-wrap>  6661679</span></td><td>G</td><td>A</td><td>DCHS1</td><td>-1</td><td>C</td><td>T</td><td>TCT</td><td>TTT</td><td>S389F</td><td>C1166T</td><td>TCT&gt;TTT</td><td><span style=white-space:pre-wrap>Missense  </span></td><td>ENSP00000299441</td></tr>\n",
              "\t<tr><td>TCGA-3M-AB46</td><td>11</td><td><span style=white-space:pre-wrap>  9445412</span></td><td>G</td><td>A</td><td>IPO7 </td><td> 1</td><td>G</td><td>A</td><td>CGC</td><td>CAC</td><td>R377H</td><td>G1130A</td><td>CGC&gt;CAC</td><td><span style=white-space:pre-wrap>Missense  </span></td><td>ENSP00000369042</td></tr>\n",
              "\t<tr><td>TCGA-3M-AB46</td><td>11</td><td> 78516529</td><td>T</td><td>G</td><td>TENM4</td><td>-1</td><td>A</td><td>C</td><td>CAT</td><td>CCT</td><td>M663L</td><td>A1987C</td><td>ATG&gt;CTG</td><td><span style=white-space:pre-wrap>Missense  </span></td><td>ENSP00000278550</td></tr>\n",
              "\t<tr><td>TCGA-3M-AB46</td><td>2 </td><td>113940668</td><td>G</td><td>T</td><td>PSD4 </td><td> 1</td><td>G</td><td>T</td><td>GGG</td><td>GTG</td><td>G212V</td><td>G635T </td><td>GGG&gt;GTG</td><td><span style=white-space:pre-wrap>Missense  </span></td><td>ENSP00000245796</td></tr>\n",
              "</tbody>\n",
              "</table>\n"
            ],
            "text/markdown": "\nA tibble: 6 × 16\n\n| sampleID &lt;chr&gt; | chr &lt;chr&gt; | pos &lt;dbl&gt; | ref &lt;chr&gt; | mut &lt;chr&gt; | gene &lt;chr&gt; | strand &lt;int&gt; | ref_cod &lt;chr&gt; | mut_cod &lt;chr&gt; | ref3_cod &lt;chr[1d]&gt; | mut3_cod &lt;chr[1d]&gt; | aachange &lt;chr[1d]&gt; | ntchange &lt;chr[1d]&gt; | codonsub &lt;chr[1d]&gt; | impact &lt;chr[1d]&gt; | pid &lt;chr&gt; |\n|---|---|---|---|---|---|---|---|---|---|---|---|---|---|---|---|\n| TCGA-3M-AB46 | 10 |  71021034 | C | T | HKDC1 |  1 | C | T | CCT | CTT | L786L | C2356T | CTG&gt;TTG | Synonymous | ENSP00000346643 |\n| TCGA-3M-AB46 | 10 |  89692887 | G | C | PTEN  |  1 | G | C | TGT | TCT | C124S | G371C  | TGT&gt;TCT | Missense   | ENSP00000361021 |\n| TCGA-3M-AB46 | 11 |   6661679 | G | A | DCHS1 | -1 | C | T | TCT | TTT | S389F | C1166T | TCT&gt;TTT | Missense   | ENSP00000299441 |\n| TCGA-3M-AB46 | 11 |   9445412 | G | A | IPO7  |  1 | G | A | CGC | CAC | R377H | G1130A | CGC&gt;CAC | Missense   | ENSP00000369042 |\n| TCGA-3M-AB46 | 11 |  78516529 | T | G | TENM4 | -1 | A | C | CAT | CCT | M663L | A1987C | ATG&gt;CTG | Missense   | ENSP00000278550 |\n| TCGA-3M-AB46 | 2  | 113940668 | G | T | PSD4  |  1 | G | T | GGG | GTG | G212V | G635T  | GGG&gt;GTG | Missense   | ENSP00000245796 |\n\n",
            "text/latex": "A tibble: 6 × 16\n\\begin{tabular}{llllllllllllllll}\n sampleID & chr & pos & ref & mut & gene & strand & ref\\_cod & mut\\_cod & ref3\\_cod & mut3\\_cod & aachange & ntchange & codonsub & impact & pid\\\\\n <chr> & <chr> & <dbl> & <chr> & <chr> & <chr> & <int> & <chr> & <chr> & <chr{[}1d{]}> & <chr{[}1d{]}> & <chr{[}1d{]}> & <chr{[}1d{]}> & <chr{[}1d{]}> & <chr{[}1d{]}> & <chr>\\\\\n\\hline\n\t TCGA-3M-AB46 & 10 &  71021034 & C & T & HKDC1 &  1 & C & T & CCT & CTT & L786L & C2356T & CTG>TTG & Synonymous & ENSP00000346643\\\\\n\t TCGA-3M-AB46 & 10 &  89692887 & G & C & PTEN  &  1 & G & C & TGT & TCT & C124S & G371C  & TGT>TCT & Missense   & ENSP00000361021\\\\\n\t TCGA-3M-AB46 & 11 &   6661679 & G & A & DCHS1 & -1 & C & T & TCT & TTT & S389F & C1166T & TCT>TTT & Missense   & ENSP00000299441\\\\\n\t TCGA-3M-AB46 & 11 &   9445412 & G & A & IPO7  &  1 & G & A & CGC & CAC & R377H & G1130A & CGC>CAC & Missense   & ENSP00000369042\\\\\n\t TCGA-3M-AB46 & 11 &  78516529 & T & G & TENM4 & -1 & A & C & CAT & CCT & M663L & A1987C & ATG>CTG & Missense   & ENSP00000278550\\\\\n\t TCGA-3M-AB46 & 2  & 113940668 & G & T & PSD4  &  1 & G & T & GGG & GTG & G212V & G635T  & GGG>GTG & Missense   & ENSP00000245796\\\\\n\\end{tabular}\n",
            "text/plain": [
              "  sampleID     chr pos       ref mut gene  strand ref_cod mut_cod ref3_cod\n",
              "1 TCGA-3M-AB46 10   71021034 C   T   HKDC1  1     C       T       CCT     \n",
              "2 TCGA-3M-AB46 10   89692887 G   C   PTEN   1     G       C       TGT     \n",
              "3 TCGA-3M-AB46 11    6661679 G   A   DCHS1 -1     C       T       TCT     \n",
              "4 TCGA-3M-AB46 11    9445412 G   A   IPO7   1     G       A       CGC     \n",
              "5 TCGA-3M-AB46 11   78516529 T   G   TENM4 -1     A       C       CAT     \n",
              "6 TCGA-3M-AB46 2   113940668 G   T   PSD4   1     G       T       GGG     \n",
              "  mut3_cod aachange ntchange codonsub impact     pid            \n",
              "1 CTT      L786L    C2356T   CTG>TTG  Synonymous ENSP00000346643\n",
              "2 TCT      C124S    G371C    TGT>TCT  Missense   ENSP00000361021\n",
              "3 TTT      S389F    C1166T   TCT>TTT  Missense   ENSP00000299441\n",
              "4 CAC      R377H    G1130A   CGC>CAC  Missense   ENSP00000369042\n",
              "5 CCT      M663L    A1987C   ATG>CTG  Missense   ENSP00000278550\n",
              "6 GTG      G212V    G635T    GGG>GTG  Missense   ENSP00000245796"
            ]
          },
          "metadata": {}
        }
      ]
    },
    {
      "cell_type": "code",
      "source": [
        "dndsout$wrongmuts"
      ],
      "metadata": {
        "colab": {
          "base_uri": "https://localhost:8080/",
          "height": 944
        },
        "id": "odp6JbfBnsr8",
        "outputId": "9cfc4c90-8a8a-4b9a-ee0e-abf410aafc87"
      },
      "execution_count": null,
      "outputs": [
        {
          "output_type": "display_data",
          "data": {
            "text/html": [
              "<table class=\"dataframe\">\n",
              "<caption>A tibble: 27 × 5</caption>\n",
              "<thead>\n",
              "\t<tr><th scope=col>sampleID</th><th scope=col>chr</th><th scope=col>pos</th><th scope=col>ref</th><th scope=col>mut</th></tr>\n",
              "\t<tr><th scope=col>&lt;chr&gt;</th><th scope=col>&lt;chr&gt;</th><th scope=col>&lt;dbl&gt;</th><th scope=col>&lt;chr&gt;</th><th scope=col>&lt;chr&gt;</th></tr>\n",
              "</thead>\n",
              "<tbody>\n",
              "\t<tr><td>TCGA-B7-5818</td><td>19</td><td> 22939044</td><td>C</td><td>A</td></tr>\n",
              "\t<tr><td>TCGA-BR-4292</td><td>19</td><td> 10943787</td><td>G</td><td>A</td></tr>\n",
              "\t<tr><td>TCGA-BR-4368</td><td>6 </td><td> 38702284</td><td>A</td><td>G</td></tr>\n",
              "\t<tr><td>TCGA-BR-6455</td><td>11</td><td> 33106623</td><td>C</td><td>T</td></tr>\n",
              "\t<tr><td>TCGA-BR-7704</td><td>6 </td><td> 32017337</td><td>A</td><td>G</td></tr>\n",
              "\t<tr><td>TCGA-BR-7707</td><td>17</td><td> 80059604</td><td>G</td><td>A</td></tr>\n",
              "\t<tr><td>TCGA-BR-7851</td><td>3 </td><td> 56657581</td><td>A</td><td>G</td></tr>\n",
              "\t<tr><td>TCGA-BR-8078</td><td>3 </td><td> 64184616</td><td>T</td><td>C</td></tr>\n",
              "\t<tr><td>TCGA-BR-8078</td><td>6 </td><td> 32015785</td><td>C</td><td>T</td></tr>\n",
              "\t<tr><td>TCGA-BR-8589</td><td>19</td><td> 55453089</td><td>T</td><td>G</td></tr>\n",
              "\t<tr><td>TCGA-BR-A4QL</td><td>7 </td><td> 75070845</td><td>C</td><td>T</td></tr>\n",
              "\t<tr><td>TCGA-CG-4436</td><td>6 </td><td> 32015679</td><td>A</td><td>C</td></tr>\n",
              "\t<tr><td>TCGA-CG-4437</td><td>10</td><td> 73553038</td><td>C</td><td>T</td></tr>\n",
              "\t<tr><td>TCGA-D7-6522</td><td>19</td><td> 22939932</td><td>A</td><td>T</td></tr>\n",
              "\t<tr><td>TCGA-HJ-7597</td><td>19</td><td> 17322818</td><td>G</td><td>A</td></tr>\n",
              "\t<tr><td>TCGA-HU-8238</td><td>6 </td><td> 38690689</td><td>T</td><td>G</td></tr>\n",
              "\t<tr><td>TCGA-HU-8249</td><td>6 </td><td> 32017144</td><td>C</td><td>T</td></tr>\n",
              "\t<tr><td>TCGA-HU-A4H3</td><td>19</td><td> 22940057</td><td>A</td><td>G</td></tr>\n",
              "\t<tr><td>TCGA-HU-A4H3</td><td>7 </td><td>  1544207</td><td>T</td><td>A</td></tr>\n",
              "\t<tr><td>TCGA-HU-A4H8</td><td>6 </td><td> 32017099</td><td>C</td><td>T</td></tr>\n",
              "\t<tr><td>TCGA-R5-A7ZI</td><td>6 </td><td> 32015695</td><td>C</td><td>T</td></tr>\n",
              "\t<tr><td>TCGA-SW-A7EA</td><td>14</td><td> 79111750</td><td>A</td><td>G</td></tr>\n",
              "\t<tr><td>TCGA-VQ-A8PP</td><td>19</td><td> 22939522</td><td>G</td><td>A</td></tr>\n",
              "\t<tr><td>TCGA-VQ-A8PX</td><td>6 </td><td> 32017140</td><td>T</td><td>C</td></tr>\n",
              "\t<tr><td>TCGA-VQ-A91D</td><td>19</td><td> 10943684</td><td>C</td><td>T</td></tr>\n",
              "\t<tr><td>TCGA-VQ-A922</td><td>14</td><td> 79111573</td><td>A</td><td>C</td></tr>\n",
              "\t<tr><td>TCGA-VQ-A922</td><td>1 </td><td>172501623</td><td>A</td><td>T</td></tr>\n",
              "</tbody>\n",
              "</table>\n"
            ],
            "text/markdown": "\nA tibble: 27 × 5\n\n| sampleID &lt;chr&gt; | chr &lt;chr&gt; | pos &lt;dbl&gt; | ref &lt;chr&gt; | mut &lt;chr&gt; |\n|---|---|---|---|---|\n| TCGA-B7-5818 | 19 |  22939044 | C | A |\n| TCGA-BR-4292 | 19 |  10943787 | G | A |\n| TCGA-BR-4368 | 6  |  38702284 | A | G |\n| TCGA-BR-6455 | 11 |  33106623 | C | T |\n| TCGA-BR-7704 | 6  |  32017337 | A | G |\n| TCGA-BR-7707 | 17 |  80059604 | G | A |\n| TCGA-BR-7851 | 3  |  56657581 | A | G |\n| TCGA-BR-8078 | 3  |  64184616 | T | C |\n| TCGA-BR-8078 | 6  |  32015785 | C | T |\n| TCGA-BR-8589 | 19 |  55453089 | T | G |\n| TCGA-BR-A4QL | 7  |  75070845 | C | T |\n| TCGA-CG-4436 | 6  |  32015679 | A | C |\n| TCGA-CG-4437 | 10 |  73553038 | C | T |\n| TCGA-D7-6522 | 19 |  22939932 | A | T |\n| TCGA-HJ-7597 | 19 |  17322818 | G | A |\n| TCGA-HU-8238 | 6  |  38690689 | T | G |\n| TCGA-HU-8249 | 6  |  32017144 | C | T |\n| TCGA-HU-A4H3 | 19 |  22940057 | A | G |\n| TCGA-HU-A4H3 | 7  |   1544207 | T | A |\n| TCGA-HU-A4H8 | 6  |  32017099 | C | T |\n| TCGA-R5-A7ZI | 6  |  32015695 | C | T |\n| TCGA-SW-A7EA | 14 |  79111750 | A | G |\n| TCGA-VQ-A8PP | 19 |  22939522 | G | A |\n| TCGA-VQ-A8PX | 6  |  32017140 | T | C |\n| TCGA-VQ-A91D | 19 |  10943684 | C | T |\n| TCGA-VQ-A922 | 14 |  79111573 | A | C |\n| TCGA-VQ-A922 | 1  | 172501623 | A | T |\n\n",
            "text/latex": "A tibble: 27 × 5\n\\begin{tabular}{lllll}\n sampleID & chr & pos & ref & mut\\\\\n <chr> & <chr> & <dbl> & <chr> & <chr>\\\\\n\\hline\n\t TCGA-B7-5818 & 19 &  22939044 & C & A\\\\\n\t TCGA-BR-4292 & 19 &  10943787 & G & A\\\\\n\t TCGA-BR-4368 & 6  &  38702284 & A & G\\\\\n\t TCGA-BR-6455 & 11 &  33106623 & C & T\\\\\n\t TCGA-BR-7704 & 6  &  32017337 & A & G\\\\\n\t TCGA-BR-7707 & 17 &  80059604 & G & A\\\\\n\t TCGA-BR-7851 & 3  &  56657581 & A & G\\\\\n\t TCGA-BR-8078 & 3  &  64184616 & T & C\\\\\n\t TCGA-BR-8078 & 6  &  32015785 & C & T\\\\\n\t TCGA-BR-8589 & 19 &  55453089 & T & G\\\\\n\t TCGA-BR-A4QL & 7  &  75070845 & C & T\\\\\n\t TCGA-CG-4436 & 6  &  32015679 & A & C\\\\\n\t TCGA-CG-4437 & 10 &  73553038 & C & T\\\\\n\t TCGA-D7-6522 & 19 &  22939932 & A & T\\\\\n\t TCGA-HJ-7597 & 19 &  17322818 & G & A\\\\\n\t TCGA-HU-8238 & 6  &  38690689 & T & G\\\\\n\t TCGA-HU-8249 & 6  &  32017144 & C & T\\\\\n\t TCGA-HU-A4H3 & 19 &  22940057 & A & G\\\\\n\t TCGA-HU-A4H3 & 7  &   1544207 & T & A\\\\\n\t TCGA-HU-A4H8 & 6  &  32017099 & C & T\\\\\n\t TCGA-R5-A7ZI & 6  &  32015695 & C & T\\\\\n\t TCGA-SW-A7EA & 14 &  79111750 & A & G\\\\\n\t TCGA-VQ-A8PP & 19 &  22939522 & G & A\\\\\n\t TCGA-VQ-A8PX & 6  &  32017140 & T & C\\\\\n\t TCGA-VQ-A91D & 19 &  10943684 & C & T\\\\\n\t TCGA-VQ-A922 & 14 &  79111573 & A & C\\\\\n\t TCGA-VQ-A922 & 1  & 172501623 & A & T\\\\\n\\end{tabular}\n",
            "text/plain": [
              "   sampleID     chr pos       ref mut\n",
              "1  TCGA-B7-5818 19   22939044 C   A  \n",
              "2  TCGA-BR-4292 19   10943787 G   A  \n",
              "3  TCGA-BR-4368 6    38702284 A   G  \n",
              "4  TCGA-BR-6455 11   33106623 C   T  \n",
              "5  TCGA-BR-7704 6    32017337 A   G  \n",
              "6  TCGA-BR-7707 17   80059604 G   A  \n",
              "7  TCGA-BR-7851 3    56657581 A   G  \n",
              "8  TCGA-BR-8078 3    64184616 T   C  \n",
              "9  TCGA-BR-8078 6    32015785 C   T  \n",
              "10 TCGA-BR-8589 19   55453089 T   G  \n",
              "11 TCGA-BR-A4QL 7    75070845 C   T  \n",
              "12 TCGA-CG-4436 6    32015679 A   C  \n",
              "13 TCGA-CG-4437 10   73553038 C   T  \n",
              "14 TCGA-D7-6522 19   22939932 A   T  \n",
              "15 TCGA-HJ-7597 19   17322818 G   A  \n",
              "16 TCGA-HU-8238 6    38690689 T   G  \n",
              "17 TCGA-HU-8249 6    32017144 C   T  \n",
              "18 TCGA-HU-A4H3 19   22940057 A   G  \n",
              "19 TCGA-HU-A4H3 7     1544207 T   A  \n",
              "20 TCGA-HU-A4H8 6    32017099 C   T  \n",
              "21 TCGA-R5-A7ZI 6    32015695 C   T  \n",
              "22 TCGA-SW-A7EA 14   79111750 A   G  \n",
              "23 TCGA-VQ-A8PP 19   22939522 G   A  \n",
              "24 TCGA-VQ-A8PX 6    32017140 T   C  \n",
              "25 TCGA-VQ-A91D 19   10943684 C   T  \n",
              "26 TCGA-VQ-A922 14   79111573 A   C  \n",
              "27 TCGA-VQ-A922 1   172501623 A   T  "
            ]
          },
          "metadata": {}
        }
      ]
    },
    {
      "cell_type": "code",
      "source": [],
      "metadata": {
        "id": "nxhY1qcl6lJc"
      },
      "execution_count": null,
      "outputs": []
    }
  ]
}