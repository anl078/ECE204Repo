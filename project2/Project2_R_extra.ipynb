{
 "cells": [
  {
   "cell_type": "code",
   "execution_count": 2,
   "id": "987ed103-4c42-4b02-8a59-7e24d654eb9b",
   "metadata": {
    "tags": []
   },
   "outputs": [],
   "source": [
    "library(\"dndscv\")\n",
    "library(dplyr)\n",
    "library(\"biomaRt\")\n",
    "library(MASS) \n",
    "library(ggplot2)\n",
    "library(lmtest)\n",
    "library(stringr)\n",
    "library(VennDiagram)\n",
    "library(readr)\n",
    "library(gridExtra)\n",
    "library(RColorBrewer)\n",
    "library(glue)\n",
    "library(tidyr)\n",
    "library(purrr)"
   ]
  },
  {
   "cell_type": "code",
   "execution_count": 4,
   "id": "131a33ee-2d01-43e0-8686-2e55fc36e086",
   "metadata": {
    "tags": []
   },
   "outputs": [],
   "source": [
    "patient_mut = 7000\n",
    "gene_mut = 300"
   ]
  },
  {
   "cell_type": "code",
   "execution_count": 196,
   "id": "e872cb29-d065-498a-91e2-9f0be35852aa",
   "metadata": {
    "tags": []
   },
   "outputs": [
    {
     "name": "stderr",
     "output_type": "stream",
     "text": [
      "\u001b[1mRows: \u001b[22m\u001b[34m234941\u001b[39m \u001b[1mColumns: \u001b[22m\u001b[34m53\u001b[39m\n",
      "\u001b[36m──\u001b[39m \u001b[1mColumn specification\u001b[22m \u001b[36m───────────────────────────────────────────────────────────────────\u001b[39m\n",
      "\u001b[1mDelimiter:\u001b[22m \"\\t\"\n",
      "\u001b[31mchr\u001b[39m (44): patient_id, Hugo_Symbol, Center, NCBI_Build, Chromosome, Strand, V...\n",
      "\u001b[32mdbl\u001b[39m  (9): Entrez_Gene_Id, Start_Position, End_Position, t_depth, t_ref_count...\n",
      "\n",
      "\u001b[36mℹ\u001b[39m Use `spec()` to retrieve the full column specification for this data.\n",
      "\u001b[36mℹ\u001b[39m Specify the column types or set `show_col_types = FALSE` to quiet this message.\n"
     ]
    },
    {
     "name": "stdout",
     "output_type": "stream",
     "text": [
      "[1] 234941\n",
      "[1] 415\n",
      "[1] 9\n",
      "[1] 203393\n",
      "[1] 18933\n",
      "[1] 2\n",
      "[1] 202264\n"
     ]
    },
    {
     "data": {
      "text/html": [
       "181529"
      ],
      "text/latex": [
       "181529"
      ],
      "text/markdown": [
       "181529"
      ],
      "text/plain": [
       "[1] 181529"
      ]
     },
     "metadata": {},
     "output_type": "display_data"
    }
   ],
   "source": [
    "STAD_mutation = read_tsv(\"/Users/shuhaoxu/Desktop/BNFO285/Groupproject/Project2/TCGA.STAD.mutations.txt\", quote=\"\\\"\")\n",
    "sample_mutation_counts <- table(STAD_mutation$patient_id)\n",
    "gene_mutation_counts <- table(STAD_mutation$Hugo_Symbol)\n",
    "\n",
    "# Filter hypermutated patients\n",
    "print(nrow(STAD_mutation))\n",
    "print(length(sample_mutation_counts))\n",
    "hypermutators_patient <- names((sample_mutation_counts[(sample_mutation_counts > patient_mut) | (sample_mutation_counts <= 10)]))\n",
    "print(length(hypermutators_patient))\n",
    "STAD_mutation_filtered_patient <- STAD_mutation %>% filter(!patient_id %in% hypermutators_patient)\n",
    "print(nrow(STAD_mutation_filtered_patient))\n",
    "\n",
    "sample_mutation_counts_filtered_patient <- table(STAD_mutation_filtered_patient$patient_id)\n",
    "gene_mutation_counts_filtered_patient <- table(STAD_mutation_filtered_patient$Hugo_Symbol)\n",
    "\n",
    "# Filter out hyptermutated genes\n",
    "gene_mutation_counts <- table(STAD_mutation$Hugo_Symbol)\n",
    "print(length(gene_mutation_counts))\n",
    "hypermutators_gene <- names((gene_mutation_counts[(gene_mutation_counts > gene_mut)]))\n",
    "print(length(hypermutators_gene))\n",
    "STAD_mutation_filtered_patient_gene <- STAD_mutation_filtered_patient %>% filter(!Hugo_Symbol %in% hypermutators_gene)\n",
    "print(nrow(STAD_mutation_filtered_patient_gene))\n",
    "\n",
    "STAD_mutation_filtered_pass <- STAD_mutation_filtered_patient_gene %>% filter(FILTER == \"PASS\")\n",
    "nrow(STAD_mutation_filtered_pass)\n",
    "STAD_mutation_filtered_pass <- STAD_mutation_filtered_pass[STAD_mutation_filtered_pass$VARIANT_CLASS == \"SNV\",]"
   ]
  },
  {
   "cell_type": "code",
   "execution_count": 7,
   "id": "d35f530d-376c-4784-8033-85e7f23b9b91",
   "metadata": {
    "tags": []
   },
   "outputs": [],
   "source": [
    "ensembl <- useMart(\"ensembl\", dataset = \"hsapiens_gene_ensembl\")\n",
    "transcript_ids <- unique(STAD_mutation_filtered_pass$Transcript_ID)\n",
    "\n",
    "transcript_data <- getBM(attributes = c(\"ensembl_transcript_id\", \"hgnc_symbol\", \"transcript_length\"),\n",
    "                         filters = \"ensembl_transcript_id\",\n",
    "                         values = transcript_ids,\n",
    "                         mart = ensembl)\n",
    "\n",
    "gene_lengths <- transcript_data %>%\n",
    "  group_by(hgnc_symbol) %>%\n",
    "  summarise(gene_length = max(transcript_length, na.rm = TRUE)) %>%\n",
    "  ungroup()\n"
   ]
  },
  {
   "cell_type": "code",
   "execution_count": 197,
   "id": "29b54dcb-2c80-4dfb-a3ca-117246144425",
   "metadata": {
    "tags": []
   },
   "outputs": [],
   "source": [
    "mutation_summary <- STAD_mutation %>%\n",
    "  group_by(Hugo_Symbol) %>%\n",
    "  summarise(Samples_Mutated = n_distinct(patient_id)) %>%\n",
    "  ungroup() %>%\n",
    "  arrange(desc(Samples_Mutated)) %>%  \n",
    "  mutate(Hugo_Symbol = factor(Hugo_Symbol, levels = Hugo_Symbol)) "
   ]
  },
  {
   "cell_type": "code",
   "execution_count": 198,
   "id": "4d63a5bf-eb61-44e0-811f-6dfc6993e8af",
   "metadata": {
    "tags": []
   },
   "outputs": [
    {
     "name": "stdout",
     "output_type": "stream",
     "text": [
      "Average mutation rate (mutations per bp): 0.002399827 \n"
     ]
    }
   ],
   "source": [
    "mutation_counts <- STAD_mutation_filtered_pass %>%\n",
    "  group_by(Hugo_Symbol) %>%\n",
    "  summarise(\n",
    "    observed_mutations = n(),\n",
    "    patients = list(unique(patient_id)) \n",
    "  ) %>%\n",
    "  ungroup()\n",
    "\n",
    "mutation_counts_with_GeneLength <- mutation_counts %>%\n",
    "  left_join(gene_lengths, by = c(\"Hugo_Symbol\" = \"hgnc_symbol\"))\n",
    "\n",
    "mutation_counts_filtered <- mutation_counts_with_GeneLength %>%\n",
    "  filter(!is.na(gene_length))\n",
    "\n",
    "mutation_counts_filtered$log_gene_length <- log(mutation_counts_filtered$gene_length + 1e-6)\n",
    "\n",
    "total_mutations <- sum(mutation_counts_filtered$observed_mutations)\n",
    "total_length <- sum(mutation_counts_filtered$gene_length)\n",
    "avg_mutation_rate <- total_mutations / total_length\n",
    "cat(\"Average mutation rate (mutations per bp):\", avg_mutation_rate, \"\\n\")\n",
    "\n",
    "mutation_counts_filtered <- mutation_counts_filtered %>%\n",
    "  mutate(expected_mutations = gene_length * avg_mutation_rate)\n",
    "\n",
    "STAD_mutation_filtered_pass <- STAD_mutation_filtered_pass %>%\n",
    "mutate(\n",
    "  SIFT_numeric = as.numeric(str_extract(SIFT, \"(?<=\\\\()\\\\d*\\\\.?\\\\d*(?=\\\\))\")),\n",
    "  SIFT = ifelse(SIFT == \".\", NA, SIFT)\n",
    ")\n",
    "\n",
    "impact_scores <- STAD_mutation_filtered_pass %>%\n",
    "  group_by(Hugo_Symbol) %>%\n",
    "  summarise(avg_sift = mean(SIFT_numeric, na.rm = TRUE)) %>%\n",
    "  ungroup()\n",
    "\n",
    "mutation_counts_filtered <- mutation_counts_filtered %>%\n",
    "  left_join(impact_scores, by = \"Hugo_Symbol\")\n",
    "\n",
    "mutation_counts_filtered$avg_sift <- replace(mutation_counts_filtered$avg_sift, is.na(mutation_counts_filtered$avg_sift), 0)\n",
    "\n",
    "mutation_types <- STAD_mutation_filtered_pass %>%\n",
    "  group_by(Hugo_Symbol) %>%\n",
    "  summarise(\n",
    "    dN = sum(Variant_Classification %in% c(\"Missense_Mutation\", \"Nonsense_Mutation\", \"Frame_Shift_Del\", \"Frame_Shift_Ins\", \"Splice_Site\", \"Translation_Start_Site\")),\n",
    "    dS = sum(Variant_Classification %in% c(\"Silent\", \"5'UTR\", \"Intron\", \"3'UTR\", \"3'Flank\", \"5'Flank\"))\n",
    "  ) %>%\n",
    "  ungroup() %>%\n",
    "  mutate(dN_dS = (dN / (dS + 1e-6)))\n",
    "\n",
    "mutation_counts_filtered <- mutation_counts_filtered %>%\n",
    "  left_join(mutation_types[, c(\"Hugo_Symbol\", \"dN_dS\")], by = \"Hugo_Symbol\")\n",
    "\n",
    "mutation_types <- STAD_mutation_filtered_pass %>%\n",
    "  group_by(Hugo_Symbol) %>%\n",
    "  summarise(\n",
    "    dN = sum(Variant_Classification %in% c(\"Missense_Mutation\", \"Nonsense_Mutation\", \"Frame_Shift_Del\", \"Frame_Shift_Ins\", \"Splice_Site\", \"Translation_Start_Site\")),\n",
    "    dS = sum(Variant_Classification %in% c(\"Silent\", \"5'UTR\", \"Intron\", \"3'UTR\", \"3'Flank\", \"5'Flank\"))\n",
    "  ) %>%\n",
    "  ungroup()\n",
    "\n",
    "mutation_counts_filtered <- mutation_counts_filtered %>%\n",
    "  left_join(mutation_types, by = \"Hugo_Symbol\")\n",
    "\n",
    "t <- (sum(mutation_counts_filtered$dS) + sum(mutation_counts_filtered$dN)) / total_length\n",
    "\n",
    "syn_by_substitution <- STAD_mutation_filtered_pass %>%\n",
    "  filter(Variant_Classification %in% c(\"Silent\", \"5'UTR\", \"Intron\", \"3'UTR\", \"3'Flank\", \"5'Flank\")) %>%\n",
    "  mutate(substitution = paste(Reference_Allele, Tumor_Seq_Allele2, sep = \">\")) %>%\n",
    "  group_by(Hugo_Symbol, substitution) %>%\n",
    "  summarise(count = n(), .groups = \"drop\") %>%\n",
    "  pivot_wider(names_from = substitution, values_from = count, values_fill = 0, \n",
    "              names_prefix = \"syn_\")\n",
    "\n",
    "dS_per_gene <- STAD_mutation_filtered_pass %>%\n",
    "  filter(Variant_Classification %in% c(\"Silent\", \"5'UTR\", \"Intron\", \"3'UTR\", \"3'Flank\", \"5'Flank\")) %>%\n",
    "  group_by(Hugo_Symbol) %>%\n",
    "  summarise(dS = n(), .groups = \"drop\")\n",
    "\n",
    "mutation_counts_filtered <- mutation_counts_filtered %>%\n",
    "  {if (\"dS\" %in% colnames(.)) dplyr::select(., -dS) else .} %>%\n",
    "  left_join(dS_per_gene, by = \"Hugo_Symbol\") %>%\n",
    "  left_join(syn_by_substitution, by = \"Hugo_Symbol\") %>%\n",
    "  mutate(\n",
    "    dS = coalesce(dS, 0),\n",
    "    across(starts_with(\"syn_\"), ~ coalesce(.x, 0))\n",
    "  )\n",
    "   \n",
    "substitution_counts <- STAD_mutation_filtered_pass %>%\n",
    "  mutate(substitution = paste(Reference_Allele, Tumor_Seq_Allele2, sep = \">\")) %>%\n",
    "  group_by(substitution) %>%\n",
    "  summarise(count = n(), .groups = \"drop\")\n",
    "\n",
    "total_counts <- sum(substitution_counts$count)\n",
    "\n",
    "substitution_rates <- substitution_counts %>%\n",
    "  mutate(rate = count / total_counts)\n",
    "   \n",
    "syn_long <- mutation_counts_filtered %>%\n",
    "  dplyr::select(Hugo_Symbol, dplyr::starts_with(\"syn_\")) %>%\n",
    "  pivot_longer(cols = dplyr::starts_with(\"syn_\"), names_to = \"substitution\", \n",
    "               values_to = \"L_i_s\", names_prefix = \"syn_\") %>%\n",
    "  filter(L_i_s > 0)\n",
    "\n",
    "syn_long_with_rates <- syn_long %>%\n",
    "  left_join(substitution_rates %>% dplyr::select(substitution, r_i = rate), \n",
    "            by = \"substitution\")\n",
    "\n",
    "syn_long_with_rates <- syn_long_with_rates %>%\n",
    "  mutate(contribution = r_i * L_i_s)\n",
    "   \n",
    "expected_syn_per_gene <- syn_long_with_rates %>%\n",
    "  group_by(Hugo_Symbol) %>%\n",
    "  summarise(sum_contribution = sum(contribution), .groups = \"drop\") %>%\n",
    "  mutate(expected_syn = t * sum_contribution)\n",
    "\n",
    "mutation_counts_filtered <- mutation_counts_filtered %>%\n",
    "  left_join(expected_syn_per_gene %>% dplyr::select(Hugo_Symbol, expected_syn), \n",
    "            by = \"Hugo_Symbol\")\n",
    "   \n",
    "mutation_counts_filtered <- mutation_counts_filtered %>%\n",
    "  mutate(expected_syn = coalesce(expected_syn, 0))\n",
    "   \n",
    "impact_counts <- STAD_mutation_filtered_pass %>%\n",
    "  group_by(Hugo_Symbol, IMPACT) %>%\n",
    "  summarise(n = n(), .groups = 'drop') %>%\n",
    "  pivot_wider(names_from = IMPACT, values_from = n, values_fill = 0) %>%\n",
    "  rename(\n",
    "    high_impact_count = HIGH,\n",
    "    low_impact_count = LOW,\n",
    "    moderate_impact_count = MODERATE,\n",
    "    modifier_impact_count = MODIFIER\n",
    "  )\n",
    "\n",
    "mutation_counts_filtered <- mutation_counts_filtered %>%\n",
    "  left_join(impact_counts, by = \"Hugo_Symbol\") %>%\n",
    "  mutate(\n",
    "    high_impact_count = replace_na(high_impact_count, 0),\n",
    "    low_impact_count = replace_na(low_impact_count, 0),\n",
    "    moderate_impact_count = replace_na(moderate_impact_count, 0),\n",
    "    modifier_impact_count = replace_na(modifier_impact_count, 0)\n",
    "  )\n",
    "\n",
    "mutation_counts_filtered <- mutation_counts_filtered %>%\n",
    "  mutate(offset2 = log(low_impact_count + moderate_impact_count + 1))\n",
    "\n",
    "variant_counts <- STAD_mutation_filtered_pass %>%\n",
    "  group_by(Hugo_Symbol, Variant_Classification) %>%\n",
    "  summarise(n = n(), .groups = 'drop') %>%\n",
    "  pivot_wider(names_from = Variant_Classification, values_from = n, values_fill = 0) %>%\n",
    "  rename(\n",
    "    count_3prime_flank = `3'Flank`,\n",
    "    count_3prime_utr = `3'UTR`,\n",
    "    count_5prime_flank = `5'Flank`,\n",
    "    count_5prime_utr = `5'UTR`,\n",
    "    count_intron = `Intron`,\n",
    "    count_missense_mutation = `Missense_Mutation`,\n",
    "    count_nonsense_mutation = `Nonsense_Mutation`,\n",
    "    count_nonstop_mutation = `Nonstop_Mutation`,\n",
    "    count_rna = `RNA`,\n",
    "    count_silent = `Silent`,\n",
    "    count_splice_site = `Splice_Site`,\n",
    "    count_translation_start_site = `Translation_Start_Site`\n",
    "  )\n",
    "\n",
    "# Join the aggregated variant counts with mutation_counts_filtered\n",
    "mutation_counts_filtered <- mutation_counts_filtered %>%\n",
    "  left_join(variant_counts, by = \"Hugo_Symbol\") %>%\n",
    "  # Replace NA with 0 for genes with no mutations of a particular variant type\n",
    "  mutate(\n",
    "    count_3prime_flank = replace_na(count_3prime_flank, 0),\n",
    "    count_3prime_utr = replace_na(count_3prime_utr, 0),\n",
    "    count_5prime_flank = replace_na(count_5prime_flank, 0),\n",
    "    count_5prime_utr = replace_na(count_5prime_utr, 0),\n",
    "    count_intron = replace_na(count_intron, 0),\n",
    "    count_missense_mutation = replace_na(count_missense_mutation, 0),\n",
    "    count_nonsense_mutation = replace_na(count_nonsense_mutation, 0),\n",
    "    count_nonstop_mutation = replace_na(count_nonstop_mutation, 0),\n",
    "    count_rna = replace_na(count_rna, 0),\n",
    "    count_silent = replace_na(count_silent, 0),\n",
    "    count_splice_site = replace_na(count_splice_site, 0),\n",
    "    count_translation_start_site = replace_na(count_translation_start_site, 0)\n",
    "  )\n"
   ]
  },
  {
   "cell_type": "code",
   "execution_count": 22,
   "id": "624a9cac-7def-469d-bbf7-eb771f7fdf5f",
   "metadata": {
    "tags": []
   },
   "outputs": [
    {
     "data": {
      "text/plain": [
       "\n",
       "\tPearson's product-moment correlation\n",
       "\n",
       "data:  mutation_counts_filtered$observed_mutations and mutation_counts_filtered$modifier_impact_count\n",
       "t = 31.594, df = 15975, p-value < 2.2e-16\n",
       "alternative hypothesis: true correlation is not equal to 0\n",
       "95 percent confidence interval:\n",
       " 0.2278584 0.2570474\n",
       "sample estimates:\n",
       "      cor \n",
       "0.2425078 \n"
      ]
     },
     "metadata": {},
     "output_type": "display_data"
    }
   ],
   "source": [
    "cor.test(mutation_counts_filtered$observed_mutations, \n",
    "                              mutation_counts_filtered$modifier_impact_count, \n",
    "                              method = \"pearson\")"
   ]
  },
  {
   "cell_type": "code",
   "execution_count": 21,
   "id": "71e3c3bc-a34b-4671-80b0-17e437ce8f05",
   "metadata": {
    "tags": []
   },
   "outputs": [
    {
     "data": {
      "text/plain": [
       "\n",
       "\tPearson's product-moment correlation\n",
       "\n",
       "data:  mutation_counts_filtered$observed_mutations and mutation_counts_filtered$moderate_impact_count\n",
       "t = 472.17, df = 15975, p-value < 2.2e-16\n",
       "alternative hypothesis: true correlation is not equal to 0\n",
       "95 percent confidence interval:\n",
       " 0.964938 0.967012\n",
       "sample estimates:\n",
       "      cor \n",
       "0.9659905 \n"
      ]
     },
     "metadata": {},
     "output_type": "display_data"
    }
   ],
   "source": [
    "cor.test(mutation_counts_filtered$observed_mutations, \n",
    "                              mutation_counts_filtered$moderate_impact_count, \n",
    "                              method = \"pearson\")"
   ]
  },
  {
   "cell_type": "code",
   "execution_count": 19,
   "id": "60463ca3-9b53-4f34-ba4f-9c492cbca23e",
   "metadata": {
    "tags": []
   },
   "outputs": [
    {
     "data": {
      "text/plain": [
       "\n",
       "\tPearson's product-moment correlation\n",
       "\n",
       "data:  mutation_counts_filtered$observed_mutations and mutation_counts_filtered$high_impact_count\n",
       "t = 75.194, df = 15975, p-value < 2.2e-16\n",
       "alternative hypothesis: true correlation is not equal to 0\n",
       "95 percent confidence interval:\n",
       " 0.4997433 0.5226501\n",
       "sample estimates:\n",
       "      cor \n",
       "0.5112875 \n"
      ]
     },
     "metadata": {},
     "output_type": "display_data"
    }
   ],
   "source": [
    "cor.test(mutation_counts_filtered$observed_mutations, \n",
    "                              mutation_counts_filtered$high_impact_count, \n",
    "                              method = \"pearson\")"
   ]
  },
  {
   "cell_type": "code",
   "execution_count": 20,
   "id": "5c48d5e5-0c6c-441c-b133-5a06ae6eb976",
   "metadata": {
    "tags": []
   },
   "outputs": [
    {
     "data": {
      "text/plain": [
       "\n",
       "\tPearson's product-moment correlation\n",
       "\n",
       "data:  mutation_counts_filtered$observed_mutations and mutation_counts_filtered$low_impact_count\n",
       "t = 213.28, df = 15975, p-value < 2.2e-16\n",
       "alternative hypothesis: true correlation is not equal to 0\n",
       "95 percent confidence interval:\n",
       " 0.8562014 0.8642632\n",
       "sample estimates:\n",
       "      cor \n",
       "0.8602861 \n"
      ]
     },
     "metadata": {},
     "output_type": "display_data"
    }
   ],
   "source": [
    "cor.test(mutation_counts_filtered$observed_mutations, \n",
    "                              mutation_counts_filtered$low_impact_count, \n",
    "                              method = \"pearson\")"
   ]
  },
  {
   "cell_type": "code",
   "execution_count": 27,
   "id": "844e75eb-1f93-41ed-8fd1-c0caa7436277",
   "metadata": {
    "tags": []
   },
   "outputs": [],
   "source": [
    "na_check <- sapply(mutation_counts_filtered[, c(\"observed_mutations\", \"log_gene_length\", \"avg_sift\", \"dN_dS\", \"modifier_impact_count\", \"low_impact_count\", \"moderate_impact_count\")], function(x) any(is.na(x) | is.infinite(x)))\n",
    "if (any(na_check)) {\n",
    "  cat(\"Replacing NA/Inf with 0 or median where applicable...\\n\")\n",
    "  mutation_counts_filtered <- mutation_counts_filtered %>%\n",
    "    mutate(across(c(avg_sift, dN_dS, modifier_impact_count, low_impact_count, moderate_impact_count), \n",
    "                  ~ replace(., is.na(.) | is.infinite(.), 0))) %>%\n",
    "    mutate(log_gene_length = replace(log_gene_length, is.na(log_gene_length) | is.infinite(log_gene_length), log(gene_length + 1e-6)))\n",
    "}"
   ]
  },
  {
   "cell_type": "code",
   "execution_count": 32,
   "id": "85470ece-93a8-4969-ab98-4dcf8e8179be",
   "metadata": {
    "tags": []
   },
   "outputs": [
    {
     "name": "stdout",
     "output_type": "stream",
     "text": [
      "               df      AIC\n",
      "null_model      2 96159.84\n",
      "models[[name]]  4 93536.84\n",
      "\n",
      "Likelihood Ratio Test: Combined vs. Null\n",
      "LR Statistic: 2627.0030950743, P-value: 0.0000000000000000000000000000000000000000\n",
      "\n",
      "Dispersion statistic for Combined Negative Model: 1.181718 \n"
     ]
    }
   ],
   "source": [
    "# Null Model\n",
    "null_model <- glm.nb(observed_mutations ~ 1 + offset(log_gene_length), \n",
    "                     data = mutation_counts_filtered)\n",
    "\n",
    "# Alternative Models\n",
    "combined_model <- glm.nb(observed_mutations ~ avg_sift + dN_dS + \n",
    "                         offset(log_gene_length) + \n",
    "                         offset(offset2), \n",
    "                         data = mutation_counts_filtered)\n",
    "\n",
    "# Likelihood Ratio Tests\n",
    "models <- list(\"Combined\" = combined_model)\n",
    "\n",
    "for (name in names(models)) {\n",
    "  alt_model <- models[[name]]\n",
    "  print(AIC(null_model, models[[name]]))\n",
    "  lrt <- lrtest(null_model, alt_model)\n",
    "  cat(sprintf(\"\\nLikelihood Ratio Test: %s vs. Null\\n\", name))\n",
    "  cat(sprintf(\"LR Statistic: %.10f, P-value: %.40f\\n\", lrt[2, \"Chisq\"], lrt[2, \"Pr(>Chisq)\"]))\n",
    "}\n",
    "\n",
    "\n",
    "dispersion_stat <- summary(combined_model)$deviance / summary(combined_model)$df.residual\n",
    "cat(\"\\nDispersion statistic for Combined Negative Model:\", dispersion_stat, \"\\n\")\n",
    "if (dispersion_stat > 1.5) {\n",
    "  cat(\"Overdispersion.\\n\")\n",
    "}"
   ]
  },
  {
   "cell_type": "markdown",
   "id": "996ceb45-db0b-4ddf-91bb-11297db23ab0",
   "metadata": {},
   "source": [
    "# new feature separate each variant class / expression"
   ]
  },
  {
   "cell_type": "code",
   "execution_count": 38,
   "id": "cb765d3a-d1d7-4e93-bb8f-bfe9d4576648",
   "metadata": {
    "tags": []
   },
   "outputs": [],
   "source": [
    "variant_columns <- c(\n",
    "  \"count_3prime_flank\",\n",
    "  \"count_3prime_utr\",\n",
    "  \"count_5prime_flank\",\n",
    "  \"count_5prime_utr\",\n",
    "  \"count_intron\",\n",
    "  \"count_missense_mutation\",\n",
    "  \"count_nonsense_mutation\",\n",
    "  \"count_nonstop_mutation\",\n",
    "  \"count_rna\",\n",
    "  \"count_silent\",\n",
    "  \"count_splice_site\",\n",
    "  \"count_translation_start_site\"\n",
    ")\n",
    "\n",
    "# Initialize a data frame to store correlation results\n",
    "correlation_results <- data.frame(\n",
    "  Variant_Column = character(),\n",
    "  Correlation_Coefficient = numeric(),\n",
    "  P_Value = numeric(),\n",
    "  stringsAsFactors = FALSE\n",
    ")\n",
    "\n",
    "# Loop through each variant column and compute Pearson correlation with observed_mutations\n",
    "for (col in variant_columns) {\n",
    "  # Compute Pearson correlation\n",
    "  corr_test <- cor.test(mutation_counts_filtered$observed_mutations, \n",
    "                        mutation_counts_filtered[[col]], \n",
    "                        method = \"pearson\", \n",
    "                        use = \"complete.obs\")  # Handle NA values\n",
    "  \n",
    "  # Append results to the data frame\n",
    "  correlation_results <- rbind(correlation_results, \n",
    "                              data.frame(\n",
    "                                Variant_Column = col,\n",
    "                                Correlation_Coefficient = corr_test$estimate,\n",
    "                                P_Value = corr_test$p.value\n",
    "                              ))\n",
    "}"
   ]
  },
  {
   "cell_type": "code",
   "execution_count": 39,
   "id": "12c4eae2-d3bf-4879-b674-0ff38a5d8a78",
   "metadata": {
    "tags": []
   },
   "outputs": [
    {
     "data": {
      "text/html": [
       "<table class=\"dataframe\">\n",
       "<caption>A data.frame: 12 × 3</caption>\n",
       "<thead>\n",
       "\t<tr><th></th><th scope=col>Variant_Column</th><th scope=col>Correlation_Coefficient</th><th scope=col>P_Value</th></tr>\n",
       "\t<tr><th></th><th scope=col>&lt;chr&gt;</th><th scope=col>&lt;dbl&gt;</th><th scope=col>&lt;dbl&gt;</th></tr>\n",
       "</thead>\n",
       "<tbody>\n",
       "\t<tr><th scope=row>cor</th><td>count_3prime_flank          </td><td>0.02165711</td><td> 6.189503e-03</td></tr>\n",
       "\t<tr><th scope=row>cor1</th><td>count_3prime_utr            </td><td>0.12019980</td><td> 1.713384e-52</td></tr>\n",
       "\t<tr><th scope=row>cor2</th><td>count_5prime_flank          </td><td>0.03772723</td><td> 1.841771e-06</td></tr>\n",
       "\t<tr><th scope=row>cor3</th><td>count_5prime_utr            </td><td>0.11436858</td><td> 1.165072e-47</td></tr>\n",
       "\t<tr><th scope=row>cor4</th><td>count_intron                </td><td>0.24906261</td><td>1.797413e-224</td></tr>\n",
       "\t<tr><th scope=row>cor5</th><td>count_missense_mutation     </td><td>0.96599054</td><td> 0.000000e+00</td></tr>\n",
       "\t<tr><th scope=row>cor6</th><td>count_nonsense_mutation     </td><td>0.46613868</td><td> 0.000000e+00</td></tr>\n",
       "\t<tr><th scope=row>cor7</th><td>count_nonstop_mutation      </td><td>0.01190767</td><td> 1.323069e-01</td></tr>\n",
       "\t<tr><th scope=row>cor8</th><td>count_rna                   </td><td>0.01345485</td><td> 8.901086e-02</td></tr>\n",
       "\t<tr><th scope=row>cor9</th><td>count_silent                </td><td>0.85801368</td><td> 0.000000e+00</td></tr>\n",
       "\t<tr><th scope=row>cor10</th><td>count_splice_site           </td><td>0.32013126</td><td> 0.000000e+00</td></tr>\n",
       "\t<tr><th scope=row>cor11</th><td>count_translation_start_site</td><td>0.02073896</td><td> 8.754768e-03</td></tr>\n",
       "</tbody>\n",
       "</table>\n"
      ],
      "text/latex": [
       "A data.frame: 12 × 3\n",
       "\\begin{tabular}{r|lll}\n",
       "  & Variant\\_Column & Correlation\\_Coefficient & P\\_Value\\\\\n",
       "  & <chr> & <dbl> & <dbl>\\\\\n",
       "\\hline\n",
       "\tcor & count\\_3prime\\_flank           & 0.02165711 &  6.189503e-03\\\\\n",
       "\tcor1 & count\\_3prime\\_utr             & 0.12019980 &  1.713384e-52\\\\\n",
       "\tcor2 & count\\_5prime\\_flank           & 0.03772723 &  1.841771e-06\\\\\n",
       "\tcor3 & count\\_5prime\\_utr             & 0.11436858 &  1.165072e-47\\\\\n",
       "\tcor4 & count\\_intron                 & 0.24906261 & 1.797413e-224\\\\\n",
       "\tcor5 & count\\_missense\\_mutation      & 0.96599054 &  0.000000e+00\\\\\n",
       "\tcor6 & count\\_nonsense\\_mutation      & 0.46613868 &  0.000000e+00\\\\\n",
       "\tcor7 & count\\_nonstop\\_mutation       & 0.01190767 &  1.323069e-01\\\\\n",
       "\tcor8 & count\\_rna                    & 0.01345485 &  8.901086e-02\\\\\n",
       "\tcor9 & count\\_silent                 & 0.85801368 &  0.000000e+00\\\\\n",
       "\tcor10 & count\\_splice\\_site            & 0.32013126 &  0.000000e+00\\\\\n",
       "\tcor11 & count\\_translation\\_start\\_site & 0.02073896 &  8.754768e-03\\\\\n",
       "\\end{tabular}\n"
      ],
      "text/markdown": [
       "\n",
       "A data.frame: 12 × 3\n",
       "\n",
       "| <!--/--> | Variant_Column &lt;chr&gt; | Correlation_Coefficient &lt;dbl&gt; | P_Value &lt;dbl&gt; |\n",
       "|---|---|---|---|\n",
       "| cor | count_3prime_flank           | 0.02165711 |  6.189503e-03 |\n",
       "| cor1 | count_3prime_utr             | 0.12019980 |  1.713384e-52 |\n",
       "| cor2 | count_5prime_flank           | 0.03772723 |  1.841771e-06 |\n",
       "| cor3 | count_5prime_utr             | 0.11436858 |  1.165072e-47 |\n",
       "| cor4 | count_intron                 | 0.24906261 | 1.797413e-224 |\n",
       "| cor5 | count_missense_mutation      | 0.96599054 |  0.000000e+00 |\n",
       "| cor6 | count_nonsense_mutation      | 0.46613868 |  0.000000e+00 |\n",
       "| cor7 | count_nonstop_mutation       | 0.01190767 |  1.323069e-01 |\n",
       "| cor8 | count_rna                    | 0.01345485 |  8.901086e-02 |\n",
       "| cor9 | count_silent                 | 0.85801368 |  0.000000e+00 |\n",
       "| cor10 | count_splice_site            | 0.32013126 |  0.000000e+00 |\n",
       "| cor11 | count_translation_start_site | 0.02073896 |  8.754768e-03 |\n",
       "\n"
      ],
      "text/plain": [
       "      Variant_Column               Correlation_Coefficient P_Value      \n",
       "cor   count_3prime_flank           0.02165711               6.189503e-03\n",
       "cor1  count_3prime_utr             0.12019980               1.713384e-52\n",
       "cor2  count_5prime_flank           0.03772723               1.841771e-06\n",
       "cor3  count_5prime_utr             0.11436858               1.165072e-47\n",
       "cor4  count_intron                 0.24906261              1.797413e-224\n",
       "cor5  count_missense_mutation      0.96599054               0.000000e+00\n",
       "cor6  count_nonsense_mutation      0.46613868               0.000000e+00\n",
       "cor7  count_nonstop_mutation       0.01190767               1.323069e-01\n",
       "cor8  count_rna                    0.01345485               8.901086e-02\n",
       "cor9  count_silent                 0.85801368               0.000000e+00\n",
       "cor10 count_splice_site            0.32013126               0.000000e+00\n",
       "cor11 count_translation_start_site 0.02073896               8.754768e-03"
      ]
     },
     "metadata": {},
     "output_type": "display_data"
    }
   ],
   "source": [
    "correlation_results"
   ]
  },
  {
   "cell_type": "code",
   "execution_count": 217,
   "id": "cd55210a-2945-46d0-a71d-a43c191735d6",
   "metadata": {
    "tags": []
   },
   "outputs": [
    {
     "name": "stderr",
     "output_type": "stream",
     "text": [
      "Warning message:\n",
      "“glm.fit: algorithm did not converge”\n",
      "Warning message in theta.ml(Y, mu, sum(w), w, limit = control$maxit, trace = control$trace > :\n",
      "“iteration limit reached”\n",
      "Warning message in sqrt(1/i):\n",
      "“NaNs produced”\n",
      "Warning message in glm.nb(dS ~ 1 + offset(log_gene_length) + offset(offset2) + offset(log(count_translation_start_site + :\n",
      "“alternation limit reached”\n",
      "Warning message:\n",
      "“glm.fit: algorithm did not converge”\n",
      "Warning message in glm.nb(dS ~ avg_sift + dN_dS + offset(offset2) + offset(log(count_translation_start_site + :\n",
      "“alternation limit reached”\n"
     ]
    },
    {
     "name": "stdout",
     "output_type": "stream",
     "text": [
      "               df      AIC\n",
      "null_model      2 74622.90\n",
      "models[[name]]  4 62319.13\n",
      "\n",
      "Likelihood Ratio Test: Combined vs. Null\n",
      "LR Statistic: 12307.7688345593, P-value: 0.0000000000000000000000000000000000000000\n",
      "\n",
      "Dispersion statistic for Combined Negative Model: 0.9206425 \n"
     ]
    }
   ],
   "source": [
    "# Null Model\n",
    "null_model <- glm.nb(dS ~ 1 + offset(log_gene_length) +\n",
    "                         offset(offset2) + \n",
    "                         offset(log(count_translation_start_site + 1)) +\n",
    "                         offset(log(count_rna + 1)) + \n",
    "                         offset(log(count_nonstop_mutation + 1)) +\n",
    "                         offset(log(expected_syn + 1e-6)), \n",
    "                     data = mutation_counts_filtered)\n",
    "\n",
    "# Alternative Models\n",
    "combined_model <- glm.nb(dS ~ avg_sift + dN_dS + \n",
    "                         offset(offset2) + \n",
    "                         offset(log(count_translation_start_site + 1)) +\n",
    "                         offset(log(count_rna + 1)) + \n",
    "                         offset(log(count_nonstop_mutation + 1)) +\n",
    "                         offset(log(expected_syn + 1e-6)), \n",
    "                         data = mutation_counts_filtered)\n",
    "\n",
    "# Likelihood Ratio Tests\n",
    "models <- list(\"Combined\" = combined_model)\n",
    "\n",
    "for (name in names(models)) {\n",
    "  alt_model <- models[[name]]\n",
    "  print(AIC(null_model, models[[name]]))\n",
    "  lrt <- lrtest(null_model, alt_model)\n",
    "  cat(sprintf(\"\\nLikelihood Ratio Test: %s vs. Null\\n\", name))\n",
    "  cat(sprintf(\"LR Statistic: %.10f, P-value: %.40f\\n\", lrt[2, \"Chisq\"], lrt[2, \"Pr(>Chisq)\"]))\n",
    "}\n",
    "\n",
    "\n",
    "dispersion_stat <- summary(combined_model)$deviance / summary(combined_model)$df.residual\n",
    "cat(\"\\nDispersion statistic for Combined Negative Model:\", dispersion_stat, \"\\n\")\n",
    "if (dispersion_stat > 1.5) {\n",
    "  cat(\"Overdispersion.\\n\")\n",
    "}"
   ]
  },
  {
   "cell_type": "code",
   "execution_count": 111,
   "id": "d990aa0a-4443-430d-81b5-308fa3b4b5ae",
   "metadata": {
    "tags": []
   },
   "outputs": [],
   "source": [
    "library(tibble)"
   ]
  },
  {
   "cell_type": "code",
   "execution_count": 206,
   "id": "bc2bc3c1-8799-4a29-9cd3-e1927049bb24",
   "metadata": {
    "tags": []
   },
   "outputs": [],
   "source": [
    "expression <- read_tsv(\"/Users/shuhaoxu/Desktop/BNFO285/Groupproject/Project2/TCGA.STAD.expression.txt\", \n",
    "                       col_names = TRUE,\n",
    "                       quote = \"\\\"\", \n",
    "                       show_col_types = FALSE)\n",
    "\n",
    "colnames(expression) <- sapply(colnames(expression), function(x) strsplit(x, \"\\\\|\")[[1]][1])\n",
    "expression <- expression[, !grepl(\"\\\\?\", colnames(expression))]\n",
    "names(expression) <- make.unique(names(expression))"
   ]
  },
  {
   "cell_type": "code",
   "execution_count": 215,
   "id": "7feec4f3-7ec3-497d-8ea7-8c84bf73815a",
   "metadata": {
    "tags": []
   },
   "outputs": [],
   "source": [
    "compute_pca_scores <- function(gene, expr_data, mut_counts) {\n",
    "  gene_patients <- unlist(mut_counts %>% filter(Hugo_Symbol == gene) %>% pull(patients))\n",
    "  expression_subset <- expr_data %>%\n",
    "    filter(patient_id %in% gene_patients) %>%\n",
    "    dplyr::select(-patient_id)\n",
    "  \n",
    "  expression_t <- as.data.frame(expression_subset) %>%\n",
    "    mutate_all(~replace(., is.na(.), 0))\n",
    "  gene_vars <- apply(expression_t, 2, var, na.rm = TRUE)\n",
    "  expression_t <- expression_t[, gene_vars > 0, drop = FALSE]\n",
    "  \n",
    "  if (nrow(expression_t) < 2) {\n",
    "    return(matrix(NA, nrow = 1, ncol = 10)) \n",
    "  }\n",
    "\n",
    "  pca_result <- prcomp(expression_t, scale. = TRUE, center = TRUE)\n",
    "  pca_scores <- as.data.frame(pca_result$x[, 1:10])\n",
    "  colnames(pca_scores) <- paste0(\"PC\", 1:10)\n",
    "  as.matrix(pca_scores)\n",
    "}"
   ]
  },
  {
   "cell_type": "code",
   "execution_count": 213,
   "id": "d952b530-c791-4864-8c67-274b19d273cd",
   "metadata": {
    "tags": []
   },
   "outputs": [],
   "source": [
    "mutation_counts_top10 <- mutation_counts %>% slice_head(n = 2)"
   ]
  },
  {
   "cell_type": "code",
   "execution_count": 216,
   "id": "c9182a2e-2d5c-4ff0-b8dd-98bf9082ee79",
   "metadata": {
    "tags": []
   },
   "outputs": [
    {
     "name": "stderr",
     "output_type": "stream",
     "text": [
      "Warning message in FUN(newX[, i], ...):\n",
      "“NAs introduced by coercion”\n"
     ]
    },
    {
     "ename": "ERROR",
     "evalue": "\u001b[1m\u001b[33mError\u001b[39m in `map()`:\u001b[22m\n\u001b[1m\u001b[22m\u001b[36mℹ\u001b[39m In index: 1.\n\u001b[1mCaused by error in `[.data.frame`:\u001b[22m\n\u001b[33m!\u001b[39m undefined columns selected\n",
     "output_type": "error",
     "traceback": [
      "\u001b[1m\u001b[33mError\u001b[39m in `map()`:\u001b[22m\n\u001b[1m\u001b[22m\u001b[36mℹ\u001b[39m In index: 1.\n\u001b[1mCaused by error in `[.data.frame`:\u001b[22m\n\u001b[33m!\u001b[39m undefined columns selected\nTraceback:\n",
      "1. map(mutation_counts_top10$Hugo_Symbol, ~compute_pca_scores(.x, \n .     expression, mutation_counts_top10))",
      "2. map_(\"list\", .x, .f, ..., .progress = .progress)",
      "3. with_indexed_errors(i = i, names = names, error_call = .purrr_error_call, \n .     call_with_cleanup(map_impl, environment(), .type, .progress, \n .         n, names, i))",
      "4. withCallingHandlers(expr, error = function(cnd) {\n .     if (i == 0L) {\n .     }\n .     else {\n .         message <- c(i = \"In index: {i}.\")\n .         if (!is.null(names) && !is.na(names[[i]]) && names[[i]] != \n .             \"\") {\n .             name <- names[[i]]\n .             message <- c(message, i = \"With name: {name}.\")\n .         }\n .         else {\n .             name <- NULL\n .         }\n .         cli::cli_abort(message, location = i, name = name, parent = cnd, \n .             call = error_call, class = \"purrr_error_indexed\")\n .     }\n . })",
      "5. call_with_cleanup(map_impl, environment(), .type, .progress, \n .     n, names, i)",
      "6. .f(.x[[i]], ...)",
      "7. compute_pca_scores(.x, expression, mutation_counts_top10)",
      "8. expression_t[, gene_vars > 0, drop = FALSE]   # at line 10 of file <text>",
      "9. `[.data.frame`(expression_t, , gene_vars > 0, drop = FALSE)   # at line 10 of file <text>",
      "10. stop(\"undefined columns selected\")",
      "11. .handleSimpleError(function (cnd) \n  . {\n  .     if (i == 0L) {\n  .     }\n  .     else {\n  .         message <- c(i = \"In index: {i}.\")\n  .         if (!is.null(names) && !is.na(names[[i]]) && names[[i]] != \n  .             \"\") {\n  .             name <- names[[i]]\n  .             message <- c(message, i = \"With name: {name}.\")\n  .         }\n  .         else {\n  .             name <- NULL\n  .         }\n  .         cli::cli_abort(message, location = i, name = name, parent = cnd, \n  .             call = error_call, class = \"purrr_error_indexed\")\n  .     }\n  . }, \"undefined columns selected\", base::quote(`[.data.frame`(expression_t, \n  .     , gene_vars > 0, drop = FALSE)))",
      "12. h(simpleError(msg, call))",
      "13. cli::cli_abort(message, location = i, name = name, parent = cnd, \n  .     call = error_call, class = \"purrr_error_indexed\")",
      "14. rlang::abort(message, ..., call = call, use_cli_format = TRUE, \n  .     .frame = .frame)",
      "15. signal_abort(cnd, .file)"
     ]
    }
   ],
   "source": [
    "cov_list <- map(\n",
    "  mutation_counts_top10$Hugo_Symbol,\n",
    "  ~ compute_pca_scores(.x, expression, mutation_counts_top10)\n",
    ")\n",
    "\n",
    "mutation_counts_top10 <- mutation_counts_top10 %>%\n",
    "  mutate(expression_covariates = cov_list)"
   ]
  },
  {
   "cell_type": "code",
   "execution_count": 168,
   "id": "88358cc3-4a24-47ab-8021-7142061c1222",
   "metadata": {
    "tags": []
   },
   "outputs": [],
   "source": [
    "mutation_counts_filtered <- mutation_counts_filtered %>%\n",
    "  left_join(\n",
    "    mutation_counts_top10 %>%\n",
    "      dplyr::select(Hugo_Symbol, expression_covariates),\n",
    "    by = \"Hugo_Symbol\"\n",
    "  )\n",
    "\n",
    "mutation_counts_test10 <- mutation_counts_filtered %>% slice_head(n = 2)"
   ]
  },
  {
   "cell_type": "code",
   "execution_count": 176,
   "id": "e3956bc4-4e80-48c4-b1d2-dc65a58b50e7",
   "metadata": {
    "tags": []
   },
   "outputs": [],
   "source": [
    "mutation_counts_test10$expression_mean <- sapply(mutation_counts_test10$expression_covariates, function(x) {\n",
    "  if(is.list(x)) {\n",
    "    mean(unlist(x), na.rm = TRUE)\n",
    "  } else {\n",
    "    mean(x, na.rm = TRUE)\n",
    "  }\n",
    "})"
   ]
  },
  {
   "cell_type": "code",
   "execution_count": 179,
   "id": "8931250f-bd70-43b1-9970-f60687f8423a",
   "metadata": {
    "tags": []
   },
   "outputs": [
    {
     "name": "stdout",
     "output_type": "stream",
     "text": [
      "               df      AIC\n",
      "null_model      2 18.35313\n",
      "models[[name]]  3  6.00000\n",
      "\n",
      "Likelihood Ratio Test: Combined vs. Null\n",
      "LR Statistic: 14.3531341858, P-value: 0.0001515272412174538765351761160360410940\n",
      "\n",
      "Dispersion statistic for Combined Negative Model: -Inf \n"
     ]
    }
   ],
   "source": [
    "null_model <- glm.nb(observed_mutations ~ 1 + offset(log_gene_length) + offset(log(expected_syn + 1e-6)), \n",
    "                     data = mutation_counts_test10)\n",
    "\n",
    "combined_model <- glm.nb(observed_mutations ~ expression_mean + offset(log_gene_length) + offset(log(expected_syn + 1e-6)), \n",
    "                         data = mutation_counts_test10)\n",
    "\n",
    "# Likelihood Ratio Tests\n",
    "models <- list(\"Combined\" = combined_model)\n",
    "\n",
    "for (name in names(models)) {\n",
    "  alt_model <- models[[name]]\n",
    "  print(AIC(null_model, models[[name]]))\n",
    "  lrt <- lrtest(null_model, alt_model)\n",
    "  cat(sprintf(\"\\nLikelihood Ratio Test: %s vs. Null\\n\", name))\n",
    "  cat(sprintf(\"LR Statistic: %.10f, P-value: %.40f\\n\", lrt[2, \"Chisq\"], lrt[2, \"Pr(>Chisq)\"]))\n",
    "}\n",
    "\n",
    "\n",
    "dispersion_stat <- summary(combined_model)$deviance / summary(combined_model)$df.residual\n",
    "cat(\"\\nDispersion statistic for Combined Negative Model:\", dispersion_stat, \"\\n\")\n",
    "if (dispersion_stat > 1.5) {\n",
    "  cat(\"Overdispersion.\\n\")\n",
    "}"
   ]
  },
  {
   "cell_type": "code",
   "execution_count": null,
   "id": "fe4f6208-4335-419a-860d-0ea452da58fa",
   "metadata": {},
   "outputs": [],
   "source": []
  }
 ],
 "metadata": {
  "kernelspec": {
   "display_name": "R",
   "language": "R",
   "name": "ir"
  },
  "language_info": {
   "codemirror_mode": "r",
   "file_extension": ".r",
   "mimetype": "text/x-r-source",
   "name": "R",
   "pygments_lexer": "r",
   "version": "4.2.1"
  }
 },
 "nbformat": 4,
 "nbformat_minor": 5
}
